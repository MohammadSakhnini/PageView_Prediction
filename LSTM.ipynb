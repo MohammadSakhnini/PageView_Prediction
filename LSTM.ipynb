{
 "cells": [
  {
   "cell_type": "code",
   "execution_count": 200,
   "metadata": {},
   "outputs": [],
   "source": [
    "from pytorch_lightning.callbacks import EarlyStopping, LearningRateMonitor\n",
    "from torchmetrics import SymmetricMeanAbsolutePercentageError\n",
    "from torch.utils.data import Dataset,DataLoader,TensorDataset\n",
    "from pytorch_forecasting import TimeSeriesDataSet\n",
    "from pytorch_forecasting.models import BaseModel\n",
    "from pytorch_forecasting.data import GroupNormalizer\n",
    "from pytorch_forecasting import Baseline\n",
    "import matplotlib.pyplot as plt\n",
    "from pytorch_lightning import Trainer\n",
    "from typing import Dict\n",
    "import torch.nn as nn\n",
    "import pandas as pd\n",
    "import numpy as np\n",
    "import torch\n",
    "import os\n",
    "#os.chdir(\"..\")"
   ]
  },
  {
   "cell_type": "code",
   "execution_count": 201,
   "metadata": {},
   "outputs": [],
   "source": [
    "df = pd.read_csv('Data/All_music.csv')\n",
    "df[\"timestamp\"] = pd.to_datetime(df[\"timestamp\"])\n",
    "df.drop(\"Unnamed: 0\",inplace=True,axis=1)\n",
    "df.set_index(\"timestamp\",inplace=True)\n",
    "\n",
    "df = df[\"2020-12-14\":]\n",
    "\n",
    "df[\"dayofweek\"] = df.index.dayofweek.astype(\"int32\")\n",
    "df[\"log_views\"] = np.log(df[\"views\"] + 1e-8)\n",
    "df[\"month\"] = df.index.month.astype(\"int32\")\n",
    "df[\"year\"] = df.index.year.astype(\"int32\")\n",
    "df[\"avg_by_song_month\"] = df.groupby([\"month\",\"year\",\"article\"],observed=True)[\"views\"].transform(\"mean\").astype(\"float64\")\n",
    "df[\"min_by_song_month\"] = df.groupby([\"month\",\"year\",\"article\"],observed=True)[\"views\"].transform(\"min\").astype(\"float64\")\n",
    "df[\"max_by_song_month\"] = df.groupby([\"month\",\"year\",\"article\"],observed=True)[\"views\"].transform(\"max\").astype(\"float64\")\n",
    "\n",
    "for i in range(1, 8):\n",
    "    df[f\"t-{i}\"] = df[\"views\"].shift(i).ffill()\n",
    "\n",
    "df = df.iloc[7:]\n",
    "features = [\"dayofweek\", \"month\", \"year\", \"min_by_song_month\", \"max_by_song_month\", \"avg_by_song_month\",\"log_views\", \"t-1\", \"t-2\", \"t-3\", \"t-4\", \"t-5\", \"t-6\", \"t-7\"]\n",
    "target = \"views\""
   ]
  },
  {
   "cell_type": "code",
   "execution_count": 202,
   "metadata": {},
   "outputs": [],
   "source": [
    "import torch\n",
    "from torch.utils.data import Dataset\n",
    "\n",
    "class SequenceDataset(Dataset):\n",
    "    def __init__(self, x, y, sequence_length=5):\n",
    "        self.y = y\n",
    "        self.X = x\n",
    "        self.sequence_length = sequence_length\n",
    "\n",
    "    def __len__(self):\n",
    "        return self.X.shape[0]\n",
    "\n",
    "    def __getitem__(self, i): \n",
    "        if i >= self.sequence_length - 1:\n",
    "            i_start = i - self.sequence_length + 1\n",
    "            x = self.X[i_start:(i + 1), :]\n",
    "        else:\n",
    "            padding = self.X[0].repeat(self.sequence_length - i - 1, 1)\n",
    "            x = self.X[0:(i + 1), :]\n",
    "            x = torch.cat((padding, x), 0)\n",
    "\n",
    "        return x, self.y[i]"
   ]
  },
  {
   "cell_type": "code",
   "execution_count": 203,
   "metadata": {},
   "outputs": [
    {
     "name": "stdout",
     "output_type": "stream",
     "text": [
      "Features shape: torch.Size([1, 1, 14])\n",
      "Target shape: torch.Size([1, 1])\n"
     ]
    }
   ],
   "source": [
    "from sklearn.model_selection import train_test_split\n",
    "\n",
    "device = torch.device(\"cuda:0\" if torch.cuda.is_available() else \"cpu\")\n",
    "\n",
    "train, test = train_test_split(df, test_size=0.2, shuffle=False)\n",
    "\n",
    "train_x = torch.tensor(train[features].values).to(device)\n",
    "train_y = torch.tensor(train[target].values).unsqueeze(1).to(device)\n",
    "test_x = torch.tensor(test[features].values).to(device)\n",
    "test_y = torch.tensor(test[target].values).unsqueeze(1).to(device)\n",
    "\n",
    "torch.manual_seed(101)\n",
    "\n",
    "\n",
    "train_dataset = SequenceDataset(\n",
    "    x=train_x,\n",
    "    y=train_y,\n",
    "    sequence_length=1\n",
    ")\n",
    "test_dataset = SequenceDataset(\n",
    "    x=test_x,\n",
    "    y=test_y,\n",
    "    sequence_length=1\n",
    ")\n",
    "\n",
    "train_loader = DataLoader(train_dataset, shuffle=False)\n",
    "test_loader = DataLoader(test_dataset, shuffle=False)\n",
    "\n",
    "x, y = next(iter(train_loader))\n",
    "\n",
    "print(\"Features shape:\", x.shape)\n",
    "print(\"Target shape:\", y.shape)"
   ]
  },
  {
   "cell_type": "code",
   "execution_count": 204,
   "metadata": {},
   "outputs": [],
   "source": [
    "class LSTM(torch.nn.Module):\n",
    "    def __init__(self,n_features,seq_length):\n",
    "        super(LSTM, self).__init__()\n",
    "        self.n_features = n_features\n",
    "        self.seq_len = seq_length\n",
    "        self.n_hidden = 50 # number of hidden states\n",
    "        self.n_layers = 2 # number of LSTM layers (stacked)\n",
    "    \n",
    "        self.l_lstm = torch.nn.LSTM(input_size = n_features, \n",
    "                                 hidden_size = self.n_hidden,\n",
    "                                 num_layers = self.n_layers, \n",
    "                                 batch_first = True).to(device)\n",
    "        # according to pytorch docs LSTM output is \n",
    "        # (batch_size,seq_len, num_directions * hidden_size)\n",
    "        # when considering batch_first = True\n",
    "        self.l_linear = torch.nn.Linear(self.n_hidden*self.seq_len, 1).to(device)\n",
    "        \n",
    "    \n",
    "    def init_hidden(self, batch_size):\n",
    "        # even with batch_first = True this remains same as docs\n",
    "        hidden_state = torch.zeros(self.n_layers,batch_size,self.n_hidden).to(device)\n",
    "        cell_state = torch.zeros(self.n_layers,batch_size,self.n_hidden).to(device)\n",
    "        self.hidden = (hidden_state, cell_state)\n",
    "    \n",
    "    \n",
    "    def forward(self, x):        \n",
    "        batch_size, seq_len, _ = x.size()\n",
    "        \n",
    "        lstm_out, self.hidden = self.l_lstm(x,self.hidden)\n",
    "        # lstm_out(with batch_first = True) is \n",
    "        # (batch_size,seq_len,num_directions * hidden_size)\n",
    "        # for following linear layer we want to keep batch_size dimension and merge rest       \n",
    "        # .contiguous() -> solves tensor compatibility error\n",
    "        x = lstm_out.contiguous().view(batch_size,-1)\n",
    "        return self.l_linear(x)"
   ]
  },
  {
   "cell_type": "code",
   "execution_count": 205,
   "metadata": {},
   "outputs": [],
   "source": [
    "def smape(target, forecast):\n",
    "  if type(target) == pd.core.frame.DataFrame:\n",
    "    target = target.values\n",
    "\n",
    "  denominator = np.abs(target) + np.abs(forecast)\n",
    "  flag = denominator == 0.\n",
    "\n",
    "  smape = 2 * np.mean(\n",
    "      (np.abs(target - forecast) * (1 - flag)) / (denominator + flag)\n",
    "  )\n",
    "  return smape"
   ]
  },
  {
   "cell_type": "code",
   "execution_count": null,
   "metadata": {},
   "outputs": [],
   "source": [
    "learning_rate = 0.0001\n",
    "\n",
    "model = LSTM(n_features=14,seq_length=1).to(device)\n",
    "loss_function = SymmetricMeanAbsolutePercentageError().to(device)\n",
    "optimizer = torch.optim.Adam(model.parameters(), lr=learning_rate)\n",
    "\n",
    "\n",
    "def train_model(data_loader, model, loss_function, optimizer):\n",
    "    num_batches = len(data_loader)\n",
    "    total_loss = 0\n",
    "    model.train()\n",
    "    \n",
    "    for x, y in data_loader:\n",
    "        x,y = x.to(device),y.to(device)\n",
    "        model.init_hidden(x.size(0))\n",
    "        output = model(x.float())\n",
    "        loss = loss_function(output,y)\n",
    "\n",
    "        optimizer.zero_grad()\n",
    "        loss.backward()\n",
    "        optimizer.step()\n",
    "\n",
    "        total_loss += loss.item()\n",
    "\n",
    "    avg_loss = total_loss / num_batches\n",
    "    print(f\"Train loss: {avg_loss}\")\n",
    "\n",
    "def test_model(data_loader, model, loss_function):\n",
    "    \n",
    "    num_batches = len(data_loader)\n",
    "    total_loss = 0\n",
    "\n",
    "    model.eval()\n",
    "    with torch.no_grad():\n",
    "        for x, y in data_loader:\n",
    "            x,y = x.to(device),y.to(device)\n",
    "            model.init_hidden(x.size(0))\n",
    "            output = model(x.float())\n",
    "            total_loss += loss_function(output, y).item()\n",
    "\n",
    "    avg_loss = total_loss / num_batches\n",
    "    print(f\"Test loss: {avg_loss}\")\n",
    "\n",
    "\n",
    "print(\"Untrained test\\n--------\")\n",
    "test_model(test_loader, model, loss_function)\n",
    "print()\n",
    "\n",
    "epoch = 2\n",
    "for ix_epoch in range(epoch):\n",
    "    print(f\"Epoch {ix_epoch}\\n---------\")\n",
    "    train_model(train_loader, model, loss_function, optimizer=optimizer)\n",
    "    test_model(test_loader, model, loss_function)\n",
    "    print()\n",
    "path = \"lstm_new.pth\"    \n",
    "#torch.save(model.state_dict(),path)"
   ]
  },
  {
   "cell_type": "code",
   "execution_count": 8,
   "metadata": {},
   "outputs": [
    {
     "data": {
      "text/plain": [
       "LSTM(\n",
       "  (l_lstm): LSTM(14, 50, num_layers=2, batch_first=True)\n",
       "  (l_linear): Linear(in_features=50, out_features=1, bias=True)\n",
       ")"
      ]
     },
     "execution_count": 8,
     "metadata": {},
     "output_type": "execute_result"
    }
   ],
   "source": [
    "path = \"lstm_new.pth\"    \n",
    "model.load_state_dict(torch.load(path))\n",
    "model.eval()"
   ]
  },
  {
   "cell_type": "code",
   "execution_count": 228,
   "metadata": {},
   "outputs": [
    {
     "data": {
      "image/png": "[encoded data removed]",
      "text/plain": [
       "<Figure size 1080x720 with 2 Axes>"
      ]
     },
     "metadata": {},
     "output_type": "display_data"
    }
   ],
   "source": [
    "import matplotlib.pyplot as plt\n",
    "model.eval()\n",
    "\n",
    "\n",
    "fig, axs = plt.subplots(nrows=2, ncols=1,figsize=(15,10),tight_layout=True)\n",
    "fig.tight_layout()\n",
    "\n",
    "\n",
    "song1 = df[df[\"article\"] == \"All_I_Want_for_Christmas_Is_You\"][features][-28:-14].values\n",
    "actual1 = df[df[\"article\"] == \"All_I_Want_for_Christmas_Is_You\"][target][-28:-14].values.flatten()\n",
    "preds1 = []\n",
    "loss1 = []\n",
    "with torch.no_grad():\n",
    "    for i in range(14):\n",
    "        temp = torch.tensor(np.array(song1[i])).unsqueeze(0).unsqueeze(0).to(device).float()\n",
    "        predictions = model(temp)\n",
    "        preds1.append(predictions.cpu().detach().numpy())\n",
    "        loss1.append(smape(predictions.flatten().cpu().detach().numpy(),actual1[i]))\n",
    "\n",
    "loss1 = np.average(np.array(loss1))\n",
    "preds1 = np.array(preds1).flatten()\n",
    "\n",
    "axs[0].plot(preds1,label=\"predicted\")\n",
    "axs[0].plot(actual1,label=\"actual\")\n",
    "axs[0].grid(True)\n",
    "axs[0].legend()\n",
    "axs[0].set_xlabel(\"Days\")\n",
    "axs[0].set_ylabel(\"Views\")\n",
    "axs[0].title.set_text(f\"All_I_Want_for_Christmas_Is_You - SMAPE: {loss1}\")\n",
    "\n",
    "\n",
    "\n",
    "song2 = df[df[\"article\"] == \"Sweet_Mother\"][features][-28:-14].values\n",
    "actual2 = df[df[\"article\"] == \"Sweet_Mother\"][target][-28:-14].values.flatten()\n",
    "preds2 = []\n",
    "loss2 = []\n",
    "with torch.no_grad():\n",
    "    for i in range(14):\n",
    "        temp = torch.tensor(np.array(song2[i])).unsqueeze(0).unsqueeze(0).to(device).float()\n",
    "        predictions = model(temp)\n",
    "        preds2.append(predictions.cpu().detach().numpy())\n",
    "        loss = smape(predictions.flatten().cpu().detach().numpy(),actual2[i])\n",
    "        loss2.append(loss)\n",
    "\n",
    "loss2 = np.average(np.array(loss2))\n",
    "preds2 = np.array(preds2).flatten()\n",
    "\n",
    "axs[1].plot(preds2,label=\"predicted\")\n",
    "axs[1].plot(actual2,label=\"actual\")\n",
    "axs[1].grid(True)\n",
    "axs[1].legend()\n",
    "axs[1].set_xlabel(\"Days\")\n",
    "axs[1].set_ylabel(\"Views\")\n",
    "axs[1].title.set_text(f\"Sweet_Mother - SMAPE: {loss2}\")\n",
    "\n",
    "\n",
    "# plt.show()"
   ]
  },
  {
   "cell_type": "code",
   "execution_count": 195,
   "metadata": {},
   "outputs": [
    {
     "data": {
      "application/vnd.plotly.v1+json": {
       "config": {
        "plotlyServerURL": "https://plot.ly"
       },
       "data": [
        {
         "alignmentgroup": "True",
         "hovertemplate": "Training Type=Training<br>Model=%{x}<br>Time=%{text}<extra></extra>",
         "legendgroup": "Training",
         "marker": {
          "color": "#4C78A8",
          "pattern": {
           "shape": ""
          }
         },
         "name": "Training",
         "offsetgroup": "Training",
         "orientation": "v",
         "showlegend": true,
         "text": [
          668
         ],
         "textposition": "auto",
         "type": "bar",
         "width": 0.4,
         "x": [
          "LSTM"
         ],
         "xaxis": "x",
         "y": [
          668
         ],
         "yaxis": "y"
        },
        {
         "alignmentgroup": "True",
         "hovertemplate": "Training Type=Optimizing<br>Model=%{x}<br>Time=%{text}<extra></extra>",
         "legendgroup": "Optimizing",
         "marker": {
          "color": "#F58518",
          "pattern": {
           "shape": ""
          }
         },
         "name": "Optimizing",
         "offsetgroup": "Optimizing",
         "orientation": "v",
         "showlegend": true,
         "text": [
          73
         ],
         "textposition": "auto",
         "type": "bar",
         "width": 0.4,
         "x": [
          "LSTM"
         ],
         "xaxis": "x",
         "y": [
          73
         ],
         "yaxis": "y"
        }
       ],
       "layout": {
        "annotations": [
         {
          "font": {
           "family": "Arial Black",
           "size": 15
          },
          "showarrow": false,
          "text": "Total: 741 Minutes (12h:21m)",
          "x": 0,
          "y": 760
         }
        ],
        "barmode": "relative",
        "legend": {
         "bgcolor": "LightSteelBlue",
         "title": {
          "text": "Training Type"
         },
         "tracegroupgap": 0,
         "x": 1.25,
         "xanchor": "right",
         "y": 0,
         "yanchor": "bottom"
        },
        "margin": {
         "t": 60
        },
        "template": {
         "data": {
          "bar": [
           {
            "error_x": {
             "color": "#2a3f5f"
            },
            "error_y": {
             "color": "#2a3f5f"
            },
            "marker": {
             "line": {
              "color": "#E5ECF6",
              "width": 0.5
             },
             "pattern": {
              "fillmode": "overlay",
              "size": 10,
              "solidity": 0.2
             }
            },
            "type": "bar"
           }
          ],
          "barpolar": [
           {
            "marker": {
             "line": {
              "color": "#E5ECF6",
              "width": 0.5
             },
             "pattern": {
              "fillmode": "overlay",
              "size": 10,
              "solidity": 0.2
             }
            },
            "type": "barpolar"
           }
          ],
          "carpet": [
           {
            "aaxis": {
             "endlinecolor": "#2a3f5f",
             "gridcolor": "white",
             "linecolor": "white",
             "minorgridcolor": "white",
             "startlinecolor": "#2a3f5f"
            },
            "baxis": {
             "endlinecolor": "#2a3f5f",
             "gridcolor": "white",
             "linecolor": "white",
             "minorgridcolor": "white",
             "startlinecolor": "#2a3f5f"
            },
            "type": "carpet"
           }
          ],
          "choropleth": [
           {
            "colorbar": {
             "outlinewidth": 0,
             "ticks": ""
            },
            "type": "choropleth"
           }
          ],
          "contour": [
           {
            "colorbar": {
             "outlinewidth": 0,
             "ticks": ""
            },
            "colorscale": [
             [
              0,
              "#0d0887"
             ],
             [
              0.1111111111111111,
              "#46039f"
             ],
             [
              0.2222222222222222,
              "#7201a8"
             ],
             [
              0.3333333333333333,
              "#9c179e"
             ],
             [
              0.4444444444444444,
              "#bd3786"
             ],
             [
              0.5555555555555556,
              "#d8576b"
             ],
             [
              0.6666666666666666,
              "#ed7953"
             ],
             [
              0.7777777777777778,
              "#fb9f3a"
             ],
             [
              0.8888888888888888,
              "#fdca26"
             ],
             [
              1,
              "#f0f921"
             ]
            ],
            "type": "contour"
           }
          ],
          "contourcarpet": [
           {
            "colorbar": {
             "outlinewidth": 0,
             "ticks": ""
            },
            "type": "contourcarpet"
           }
          ],
          "heatmap": [
           {
            "colorbar": {
             "outlinewidth": 0,
             "ticks": ""
            },
            "colorscale": [
             [
              0,
              "#0d0887"
             ],
             [
              0.1111111111111111,
              "#46039f"
             ],
             [
              0.2222222222222222,
              "#7201a8"
             ],
             [
              0.3333333333333333,
              "#9c179e"
             ],
             [
              0.4444444444444444,
              "#bd3786"
             ],
             [
              0.5555555555555556,
              "#d8576b"
             ],
             [
              0.6666666666666666,
              "#ed7953"
             ],
             [
              0.7777777777777778,
              "#fb9f3a"
             ],
             [
              0.8888888888888888,
              "#fdca26"
             ],
             [
              1,
              "#f0f921"
             ]
            ],
            "type": "heatmap"
           }
          ],
          "heatmapgl": [
           {
            "colorbar": {
             "outlinewidth": 0,
             "ticks": ""
            },
            "colorscale": [
             [
              0,
              "#0d0887"
             ],
             [
              0.1111111111111111,
              "#46039f"
             ],
             [
              0.2222222222222222,
              "#7201a8"
             ],
             [
              0.3333333333333333,
              "#9c179e"
             ],
             [
              0.4444444444444444,
              "#bd3786"
             ],
             [
              0.5555555555555556,
              "#d8576b"
             ],
             [
              0.6666666666666666,
              "#ed7953"
             ],
             [
              0.7777777777777778,
              "#fb9f3a"
             ],
             [
              0.8888888888888888,
              "#fdca26"
             ],
             [
              1,
              "#f0f921"
             ]
            ],
            "type": "heatmapgl"
           }
          ],
          "histogram": [
           {
            "marker": {
             "pattern": {
              "fillmode": "overlay",
              "size": 10,
              "solidity": 0.2
             }
            },
            "type": "histogram"
           }
          ],
          "histogram2d": [
           {
            "colorbar": {
             "outlinewidth": 0,
             "ticks": ""
            },
            "colorscale": [
             [
              0,
              "#0d0887"
             ],
             [
              0.1111111111111111,
              "#46039f"
             ],
             [
              0.2222222222222222,
              "#7201a8"
             ],
             [
              0.3333333333333333,
              "#9c179e"
             ],
             [
              0.4444444444444444,
              "#bd3786"
             ],
             [
              0.5555555555555556,
              "#d8576b"
             ],
             [
              0.6666666666666666,
              "#ed7953"
             ],
             [
              0.7777777777777778,
              "#fb9f3a"
             ],
             [
              0.8888888888888888,
              "#fdca26"
             ],
             [
              1,
              "#f0f921"
             ]
            ],
            "type": "histogram2d"
           }
          ],
          "histogram2dcontour": [
           {
            "colorbar": {
             "outlinewidth": 0,
             "ticks": ""
            },
            "colorscale": [
             [
              0,
              "#0d0887"
             ],
             [
              0.1111111111111111,
              "#46039f"
             ],
             [
              0.2222222222222222,
              "#7201a8"
             ],
             [
              0.3333333333333333,
              "#9c179e"
             ],
             [
              0.4444444444444444,
              "#bd3786"
             ],
             [
              0.5555555555555556,
              "#d8576b"
             ],
             [
              0.6666666666666666,
              "#ed7953"
             ],
             [
              0.7777777777777778,
              "#fb9f3a"
             ],
             [
              0.8888888888888888,
              "#fdca26"
             ],
             [
              1,
              "#f0f921"
             ]
            ],
            "type": "histogram2dcontour"
           }
          ],
          "mesh3d": [
           {
            "colorbar": {
             "outlinewidth": 0,
             "ticks": ""
            },
            "type": "mesh3d"
           }
          ],
          "parcoords": [
           {
            "line": {
             "colorbar": {
              "outlinewidth": 0,
              "ticks": ""
             }
            },
            "type": "parcoords"
           }
          ],
          "pie": [
           {
            "automargin": true,
            "type": "pie"
           }
          ],
          "scatter": [
           {
            "fillpattern": {
             "fillmode": "overlay",
             "size": 10,
             "solidity": 0.2
            },
            "type": "scatter"
           }
          ],
          "scatter3d": [
           {
            "line": {
             "colorbar": {
              "outlinewidth": 0,
              "ticks": ""
             }
            },
            "marker": {
             "colorbar": {
              "outlinewidth": 0,
              "ticks": ""
             }
            },
            "type": "scatter3d"
           }
          ],
          "scattercarpet": [
           {
            "marker": {
             "colorbar": {
              "outlinewidth": 0,
              "ticks": ""
             }
            },
            "type": "scattercarpet"
           }
          ],
          "scattergeo": [
           {
            "marker": {
             "colorbar": {
              "outlinewidth": 0,
              "ticks": ""
             }
            },
            "type": "scattergeo"
           }
          ],
          "scattergl": [
           {
            "marker": {
             "colorbar": {
              "outlinewidth": 0,
              "ticks": ""
             }
            },
            "type": "scattergl"
           }
          ],
          "scattermapbox": [
           {
            "marker": {
             "colorbar": {
              "outlinewidth": 0,
              "ticks": ""
             }
            },
            "type": "scattermapbox"
           }
          ],
          "scatterpolar": [
           {
            "marker": {
             "colorbar": {
              "outlinewidth": 0,
              "ticks": ""
             }
            },
            "type": "scatterpolar"
           }
          ],
          "scatterpolargl": [
           {
            "marker": {
             "colorbar": {
              "outlinewidth": 0,
              "ticks": ""
             }
            },
            "type": "scatterpolargl"
           }
          ],
          "scatterternary": [
           {
            "marker": {
             "colorbar": {
              "outlinewidth": 0,
              "ticks": ""
             }
            },
            "type": "scatterternary"
           }
          ],
          "surface": [
           {
            "colorbar": {
             "outlinewidth": 0,
             "ticks": ""
            },
            "colorscale": [
             [
              0,
              "#0d0887"
             ],
             [
              0.1111111111111111,
              "#46039f"
             ],
             [
              0.2222222222222222,
              "#7201a8"
             ],
             [
              0.3333333333333333,
              "#9c179e"
             ],
             [
              0.4444444444444444,
              "#bd3786"
             ],
             [
              0.5555555555555556,
              "#d8576b"
             ],
             [
              0.6666666666666666,
              "#ed7953"
             ],
             [
              0.7777777777777778,
              "#fb9f3a"
             ],
             [
              0.8888888888888888,
              "#fdca26"
             ],
             [
              1,
              "#f0f921"
             ]
            ],
            "type": "surface"
           }
          ],
          "table": [
           {
            "cells": {
             "fill": {
              "color": "#EBF0F8"
             },
             "line": {
              "color": "white"
             }
            },
            "header": {
             "fill": {
              "color": "#C8D4E3"
             },
             "line": {
              "color": "white"
             }
            },
            "type": "table"
           }
          ]
         },
         "layout": {
          "annotationdefaults": {
           "arrowcolor": "#2a3f5f",
           "arrowhead": 0,
           "arrowwidth": 1
          },
          "autotypenumbers": "strict",
          "coloraxis": {
           "colorbar": {
            "outlinewidth": 0,
            "ticks": ""
           }
          },
          "colorscale": {
           "diverging": [
            [
             0,
             "#8e0152"
            ],
            [
             0.1,
             "#c51b7d"
            ],
            [
             0.2,
             "#de77ae"
            ],
            [
             0.3,
             "#f1b6da"
            ],
            [
             0.4,
             "#fde0ef"
            ],
            [
             0.5,
             "#f7f7f7"
            ],
            [
             0.6,
             "#e6f5d0"
            ],
            [
             0.7,
             "#b8e186"
            ],
            [
             0.8,
             "#7fbc41"
            ],
            [
             0.9,
             "#4d9221"
            ],
            [
             1,
             "#276419"
            ]
           ],
           "sequential": [
            [
             0,
             "#0d0887"
            ],
            [
             0.1111111111111111,
             "#46039f"
            ],
            [
             0.2222222222222222,
             "#7201a8"
            ],
            [
             0.3333333333333333,
             "#9c179e"
            ],
            [
             0.4444444444444444,
             "#bd3786"
            ],
            [
             0.5555555555555556,
             "#d8576b"
            ],
            [
             0.6666666666666666,
             "#ed7953"
            ],
            [
             0.7777777777777778,
             "#fb9f3a"
            ],
            [
             0.8888888888888888,
             "#fdca26"
            ],
            [
             1,
             "#f0f921"
            ]
           ],
           "sequentialminus": [
            [
             0,
             "#0d0887"
            ],
            [
             0.1111111111111111,
             "#46039f"
            ],
            [
             0.2222222222222222,
             "#7201a8"
            ],
            [
             0.3333333333333333,
             "#9c179e"
            ],
            [
             0.4444444444444444,
             "#bd3786"
            ],
            [
             0.5555555555555556,
             "#d8576b"
            ],
            [
             0.6666666666666666,
             "#ed7953"
            ],
            [
             0.7777777777777778,
             "#fb9f3a"
            ],
            [
             0.8888888888888888,
             "#fdca26"
            ],
            [
             1,
             "#f0f921"
            ]
           ]
          },
          "colorway": [
           "#636efa",
           "#EF553B",
           "#00cc96",
           "#ab63fa",
           "#FFA15A",
           "#19d3f3",
           "#FF6692",
           "#B6E880",
           "#FF97FF",
           "#FECB52"
          ],
          "font": {
           "color": "#2a3f5f"
          },
          "geo": {
           "bgcolor": "white",
           "lakecolor": "white",
           "landcolor": "#E5ECF6",
           "showlakes": true,
           "showland": true,
           "subunitcolor": "white"
          },
          "hoverlabel": {
           "align": "left"
          },
          "hovermode": "closest",
          "mapbox": {
           "style": "light"
          },
          "paper_bgcolor": "white",
          "plot_bgcolor": "#E5ECF6",
          "polar": {
           "angularaxis": {
            "gridcolor": "white",
            "linecolor": "white",
            "ticks": ""
           },
           "bgcolor": "#E5ECF6",
           "radialaxis": {
            "gridcolor": "white",
            "linecolor": "white",
            "ticks": ""
           }
          },
          "scene": {
           "xaxis": {
            "backgroundcolor": "#E5ECF6",
            "gridcolor": "white",
            "gridwidth": 2,
            "linecolor": "white",
            "showbackground": true,
            "ticks": "",
            "zerolinecolor": "white"
           },
           "yaxis": {
            "backgroundcolor": "#E5ECF6",
            "gridcolor": "white",
            "gridwidth": 2,
            "linecolor": "white",
            "showbackground": true,
            "ticks": "",
            "zerolinecolor": "white"
           },
           "zaxis": {
            "backgroundcolor": "#E5ECF6",
            "gridcolor": "white",
            "gridwidth": 2,
            "linecolor": "white",
            "showbackground": true,
            "ticks": "",
            "zerolinecolor": "white"
           }
          },
          "shapedefaults": {
           "line": {
            "color": "#2a3f5f"
           }
          },
          "ternary": {
           "aaxis": {
            "gridcolor": "white",
            "linecolor": "white",
            "ticks": ""
           },
           "baxis": {
            "gridcolor": "white",
            "linecolor": "white",
            "ticks": ""
           },
           "bgcolor": "#E5ECF6",
           "caxis": {
            "gridcolor": "white",
            "linecolor": "white",
            "ticks": ""
           }
          },
          "title": {
           "x": 0.05
          },
          "xaxis": {
           "automargin": true,
           "gridcolor": "white",
           "linecolor": "white",
           "ticks": "",
           "title": {
            "standoff": 15
           },
           "zerolinecolor": "white",
           "zerolinewidth": 2
          },
          "yaxis": {
           "automargin": true,
           "gridcolor": "white",
           "linecolor": "white",
           "ticks": "",
           "title": {
            "standoff": 15
           },
           "zerolinecolor": "white",
           "zerolinewidth": 2
          }
         }
        },
        "title": {
         "text": "Training Time",
         "x": 0.45
        },
        "xaxis": {
         "anchor": "y",
         "domain": [
          0,
          1
         ],
         "title": {
          "text": "Model"
         }
        },
        "yaxis": {
         "anchor": "x",
         "domain": [
          0,
          1
         ],
         "title": {
          "text": "Time in Minutes"
         }
        }
       }
      }
     },
     "metadata": {},
     "output_type": "display_data"
    }
   ],
   "source": [
    "import plotly.express as px\n",
    "import pandas as pd\n",
    "\n",
    "df_ = pd.DataFrame({\"Time\":[668,73],\n",
    "                   \"Model\":[\"LSTM\",\"LSTM\"],\n",
    "                   \"Training Type\":[\"Training\",\"Optimizing\"]\n",
    "                   })\n",
    "fig = px.bar(df_,y=\"Time\",x=\"Model\",color=\"Training Type\",text=\"Time\",color_discrete_sequence=px.colors.qualitative.T10)\n",
    "fig.update_yaxes(title=\"Time in Minutes\")\n",
    "fig.update_layout(legend=dict(\n",
    "    yanchor=\"bottom\",\n",
    "    y=0,\n",
    "    xanchor=\"right\",\n",
    "    x=1.25,\n",
    "    bgcolor=\"LightSteelBlue\",\n",
    "),title={\n",
    "    \"text\":\"Training Time\",\n",
    "    \"x\":0.45\n",
    "})\n",
    "min = 99999\n",
    "max = 0\n",
    "\n",
    "counter = 0\n",
    "temp = 0\n",
    "for t,_,_ in df_.values:\n",
    "    temp += t\n",
    "    counter += 1\n",
    "    if counter == 2:\n",
    "        if temp> max:\n",
    "            max = temp\n",
    "        elif temp < min:\n",
    "            min = temp\n",
    "        temp = 0\n",
    "        counter = 0\n",
    "\n",
    "#fig.add_hline(min,line_width=3,line_dash=\"dash\",line_color=\"#4ae004\")\n",
    "#fig.add_hline(max,line_width=3,line_dash=\"dash\",line_color=\"red\")\n",
    "fig.update_traces(width=0.4)\n",
    "fig.add_annotation(x=0, y=760,\n",
    "            text=\"Total: 741 Minutes (12h:21m)\",\n",
    "            showarrow=False,font_size=15,font_family=\"Arial Black\")\n",
    "fig.show()\n",
    "fig.write_image(\"training_time.png\",format='png',engine='kaleido',scale=3)\n"
   ]
  },
  {
   "cell_type": "code",
   "execution_count": 229,
   "metadata": {},
   "outputs": [
    {
     "data": {
      "text/plain": [
       "<AxesSubplot:>"
      ]
     },
     "execution_count": 229,
     "metadata": {},
     "output_type": "execute_result"
    },
    {
     "data": {
      "image/png": "[encoded data removed]",
      "text/plain": [
       "<Figure size 1080x720 with 1 Axes>"
      ]
     },
     "metadata": {},
     "output_type": "display_data"
    }
   ],
   "source": [
    "import seaborn as sns\n",
    "losses = {\"SMAPE\":[]}\n",
    "for song in df[\"article\"].unique():\n",
    "    input = df[df[\"article\"] == song][features][-28:-14].values\n",
    "    actual = df[df[\"article\"] == song][target][-28:-14].values.flatten() \n",
    "\n",
    "    preds = np.zeros(len(input))\n",
    "    for i,v in enumerate(input):\n",
    "        temp = torch.tensor(np.array(input[i])).unsqueeze(0).unsqueeze(0).to(device).float()\n",
    "        preds[i] = model(temp) / 8\n",
    "    losses[\"SMAPE\"].append(smape(actual,preds.flatten()))\n",
    "sns.set(rc={'figure.figsize':(15,10)})\n",
    "sns.boxplot(data=pd.DataFrame(data=losses),orient=\"v\")"
   ]
  }
 ],
 "metadata": {
  "kernelspec": {
   "display_name": "Python 3.9.13 64-bit (microsoft store)",
   "language": "python",
   "name": "python3"
  },
  "language_info": {
   "codemirror_mode": {
    "name": "ipython",
    "version": 3
   },
   "file_extension": ".py",
   "mimetype": "text/x-python",
   "name": "python",
   "nbconvert_exporter": "python",
   "pygments_lexer": "ipython3",
   "version": "3.9.13"
  },
  "orig_nbformat": 4,
  "vscode": {
   "interpreter": {
    "hash": "d7baccf88227eab4c3a997091e3b8cad5657bd0277ceacd9564be0b0f999d1db"
   }
  }
 },
 "nbformat": 4,
 "nbformat_minor": 2
}
