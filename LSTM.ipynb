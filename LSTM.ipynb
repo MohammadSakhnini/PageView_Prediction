{
 "cells": [
  {
   "cell_type": "code",
   "execution_count": 6,
   "metadata": {},
   "outputs": [],
   "source": [
    "from pytorch_lightning.callbacks import EarlyStopping, LearningRateMonitor\n",
    "from torch.utils.data import Dataset,DataLoader,TensorDataset\n",
    "from pytorch_forecasting import TimeSeriesDataSet\n",
    "from pytorch_forecasting.models import BaseModel\n",
    "from pytorch_forecasting.data import GroupNormalizer\n",
    "from pytorch_forecasting import Baseline\n",
    "import matplotlib.pyplot as plt\n",
    "from pytorch_lightning import Trainer\n",
    "from typing import Dict\n",
    "import torch.nn as nn\n",
    "import pandas as pd\n",
    "import numpy as np\n",
    "import torch\n",
    "import os\n",
    "#os.chdir(\"..\")"
   ]
  },
  {
   "cell_type": "code",
   "execution_count": 7,
   "metadata": {},
   "outputs": [
    {
     "data": {
      "text/html": [
       "<div>\n",
       "<style scoped>\n",
       "    .dataframe tbody tr th:only-of-type {\n",
       "        vertical-align: middle;\n",
       "    }\n",
       "\n",
       "    .dataframe tbody tr th {\n",
       "        vertical-align: top;\n",
       "    }\n",
       "\n",
       "    .dataframe thead th {\n",
       "        text-align: right;\n",
       "    }\n",
       "</style>\n",
       "<table border=\"1\" class=\"dataframe\">\n",
       "  <thead>\n",
       "    <tr style=\"text-align: right;\">\n",
       "      <th></th>\n",
       "      <th>article</th>\n",
       "      <th>timestamp</th>\n",
       "      <th>views</th>\n",
       "      <th>month</th>\n",
       "      <th>log_views</th>\n",
       "      <th>time_idx</th>\n",
       "      <th>dayofweek</th>\n",
       "      <th>year</th>\n",
       "      <th>avg_by_song</th>\n",
       "    </tr>\n",
       "  </thead>\n",
       "  <tbody>\n",
       "    <tr>\n",
       "      <th>0</th>\n",
       "      <td>(Everything_I_Do)_I_Do_It_for_You</td>\n",
       "      <td>2015-07-01</td>\n",
       "      <td>639</td>\n",
       "      <td>7</td>\n",
       "      <td>6.459904</td>\n",
       "      <td>0</td>\n",
       "      <td>2</td>\n",
       "      <td>2015</td>\n",
       "      <td>682.548387</td>\n",
       "    </tr>\n",
       "    <tr>\n",
       "      <th>1</th>\n",
       "      <td>(Everything_I_Do)_I_Do_It_for_You</td>\n",
       "      <td>2015-07-02</td>\n",
       "      <td>647</td>\n",
       "      <td>7</td>\n",
       "      <td>6.472346</td>\n",
       "      <td>1</td>\n",
       "      <td>3</td>\n",
       "      <td>2015</td>\n",
       "      <td>682.548387</td>\n",
       "    </tr>\n",
       "    <tr>\n",
       "      <th>2</th>\n",
       "      <td>(Everything_I_Do)_I_Do_It_for_You</td>\n",
       "      <td>2015-07-03</td>\n",
       "      <td>549</td>\n",
       "      <td>7</td>\n",
       "      <td>6.308098</td>\n",
       "      <td>2</td>\n",
       "      <td>4</td>\n",
       "      <td>2015</td>\n",
       "      <td>682.548387</td>\n",
       "    </tr>\n",
       "    <tr>\n",
       "      <th>3</th>\n",
       "      <td>(Everything_I_Do)_I_Do_It_for_You</td>\n",
       "      <td>2015-07-04</td>\n",
       "      <td>638</td>\n",
       "      <td>7</td>\n",
       "      <td>6.458338</td>\n",
       "      <td>3</td>\n",
       "      <td>5</td>\n",
       "      <td>2015</td>\n",
       "      <td>682.548387</td>\n",
       "    </tr>\n",
       "    <tr>\n",
       "      <th>4</th>\n",
       "      <td>(Everything_I_Do)_I_Do_It_for_You</td>\n",
       "      <td>2015-07-05</td>\n",
       "      <td>774</td>\n",
       "      <td>7</td>\n",
       "      <td>6.651572</td>\n",
       "      <td>4</td>\n",
       "      <td>6</td>\n",
       "      <td>2015</td>\n",
       "      <td>682.548387</td>\n",
       "    </tr>\n",
       "    <tr>\n",
       "      <th>...</th>\n",
       "      <td>...</td>\n",
       "      <td>...</td>\n",
       "      <td>...</td>\n",
       "      <td>...</td>\n",
       "      <td>...</td>\n",
       "      <td>...</td>\n",
       "      <td>...</td>\n",
       "      <td>...</td>\n",
       "      <td>...</td>\n",
       "    </tr>\n",
       "    <tr>\n",
       "      <th>150686</th>\n",
       "      <td>You're_the_One_That_I_Want</td>\n",
       "      <td>2021-12-28</td>\n",
       "      <td>217</td>\n",
       "      <td>12</td>\n",
       "      <td>5.379897</td>\n",
       "      <td>2372</td>\n",
       "      <td>1</td>\n",
       "      <td>2021</td>\n",
       "      <td>191.064516</td>\n",
       "    </tr>\n",
       "    <tr>\n",
       "      <th>150687</th>\n",
       "      <td>You're_the_One_That_I_Want</td>\n",
       "      <td>2021-12-29</td>\n",
       "      <td>181</td>\n",
       "      <td>12</td>\n",
       "      <td>5.198497</td>\n",
       "      <td>2373</td>\n",
       "      <td>2</td>\n",
       "      <td>2021</td>\n",
       "      <td>191.064516</td>\n",
       "    </tr>\n",
       "    <tr>\n",
       "      <th>150688</th>\n",
       "      <td>You're_the_One_That_I_Want</td>\n",
       "      <td>2021-12-30</td>\n",
       "      <td>175</td>\n",
       "      <td>12</td>\n",
       "      <td>5.164786</td>\n",
       "      <td>2374</td>\n",
       "      <td>3</td>\n",
       "      <td>2021</td>\n",
       "      <td>191.064516</td>\n",
       "    </tr>\n",
       "    <tr>\n",
       "      <th>150689</th>\n",
       "      <td>You're_the_One_That_I_Want</td>\n",
       "      <td>2021-12-31</td>\n",
       "      <td>279</td>\n",
       "      <td>12</td>\n",
       "      <td>5.631212</td>\n",
       "      <td>2375</td>\n",
       "      <td>4</td>\n",
       "      <td>2021</td>\n",
       "      <td>191.064516</td>\n",
       "    </tr>\n",
       "    <tr>\n",
       "      <th>150690</th>\n",
       "      <td>You're_the_One_That_I_Want</td>\n",
       "      <td>2022-01-01</td>\n",
       "      <td>221</td>\n",
       "      <td>1</td>\n",
       "      <td>5.398163</td>\n",
       "      <td>2376</td>\n",
       "      <td>5</td>\n",
       "      <td>2022</td>\n",
       "      <td>221.000000</td>\n",
       "    </tr>\n",
       "  </tbody>\n",
       "</table>\n",
       "<p>121227 rows × 9 columns</p>\n",
       "</div>"
      ],
      "text/plain": [
       "                                  article  timestamp  views month  log_views  \\\n",
       "0       (Everything_I_Do)_I_Do_It_for_You 2015-07-01    639     7   6.459904   \n",
       "1       (Everything_I_Do)_I_Do_It_for_You 2015-07-02    647     7   6.472346   \n",
       "2       (Everything_I_Do)_I_Do_It_for_You 2015-07-03    549     7   6.308098   \n",
       "3       (Everything_I_Do)_I_Do_It_for_You 2015-07-04    638     7   6.458338   \n",
       "4       (Everything_I_Do)_I_Do_It_for_You 2015-07-05    774     7   6.651572   \n",
       "...                                   ...        ...    ...   ...        ...   \n",
       "150686         You're_the_One_That_I_Want 2021-12-28    217    12   5.379897   \n",
       "150687         You're_the_One_That_I_Want 2021-12-29    181    12   5.198497   \n",
       "150688         You're_the_One_That_I_Want 2021-12-30    175    12   5.164786   \n",
       "150689         You're_the_One_That_I_Want 2021-12-31    279    12   5.631212   \n",
       "150690         You're_the_One_That_I_Want 2022-01-01    221     1   5.398163   \n",
       "\n",
       "        time_idx dayofweek  year  avg_by_song  \n",
       "0              0         2  2015   682.548387  \n",
       "1              1         3  2015   682.548387  \n",
       "2              2         4  2015   682.548387  \n",
       "3              3         5  2015   682.548387  \n",
       "4              4         6  2015   682.548387  \n",
       "...          ...       ...   ...          ...  \n",
       "150686      2372         1  2021   191.064516  \n",
       "150687      2373         2  2021   191.064516  \n",
       "150688      2374         3  2021   191.064516  \n",
       "150689      2375         4  2021   191.064516  \n",
       "150690      2376         5  2022   221.000000  \n",
       "\n",
       "[121227 rows x 9 columns]"
      ]
     },
     "execution_count": 7,
     "metadata": {},
     "output_type": "execute_result"
    }
   ],
   "source": [
    "data = pd.read_csv(\"data/All_music.csv\")\n",
    "data.sort_values(by=[\"timestamp\"],inplace=True) # for my sanity\n",
    "data[\"timestamp\"] = pd.to_datetime(data[\"timestamp\"]) # needed to create time_index\n",
    "\n",
    "#group by month\n",
    "# data[\"time_idx\"] = data[\"timestamp\"].dt.year * 12 + data[\"timestamp\"].dt.month\n",
    "# data[\"time_idx\"] -= data[\"time_idx\"].min()\n",
    "\n",
    "data[\"month\"] = data[\"timestamp\"].dt.month.astype(str).astype(\"category\")\n",
    "data[\"log_views\"] = np.log(data[\"views\"] + 1e-8)\n",
    "\n",
    "\n",
    "data[\"time_idx\"] = data.index.astype(int)\n",
    "#data[\"timestamp\"] = data[\"timestamp\"].astype(str).astype('category')\n",
    "# (data.groupby(\"project\")[\"time_idx\"].diff() == 1).value_counts()\n",
    "\n",
    "\n",
    "# # add time index\n",
    "# data[\"time_idx\"] = data[\"date\"].dt.year * 12 + data[\"date\"].dt.month\n",
    "# data[\"time_idx\"] -= data[\"time_idx\"].min()\n",
    "data.drop([\"project\",\"granularity\",\"access\",\"agent\"],inplace=True,axis=1)\n",
    "data[\"article\"] = data[\"article\"].astype(str).astype(\"category\")\n",
    "\n",
    "# Delete wrong data\n",
    "data = data[data[\"article\"] != \"Paper_Doll\"]\n",
    "data = data[data[\"article\"] != \"Y.M.C.A\"]\n",
    "data = data[data[\"article\"] != \"Bei_Mir_Bist_Du_Schön\"]\n",
    "\n",
    "#new Features\n",
    "data[\"dayofweek\"] = data[\"timestamp\"].dt.dayofweek.astype(str).astype(\"category\")\n",
    "data[\"log_views\"] = np.log(data[\"views\"] + 1e-8)\n",
    "data[\"month\"] = data[\"timestamp\"].dt.month.astype(str).astype(\"category\")\n",
    "data[\"year\"] = data[\"timestamp\"].dt.year.astype(str).astype(\"category\")\n",
    "data[\"avg_by_song\"] = data.groupby([\"month\",\"year\",\"article\"],observed=True)[\"views\"].transform(\"mean\")\n",
    "\n",
    "\n",
    "data = data[data['article'].map(data['article'].value_counts()) == 2377]\n",
    "data.drop(\"Unnamed: 0\",inplace=True,axis=1)\n",
    "data.sort_values(by=[\"article\",\"timestamp\"],inplace=True)\n",
    "#data[\"time_idx\"] = data[\"timestamp\"].dt.year * 12 + data[\"timestamp\"].dt.month + 365 * data[\"timestamp\"].dt.day\n",
    "data[\"time_idx\"] = [i for i in range(2377)] * len(data[\"article\"].unique())\n",
    "data"
   ]
  },
  {
   "cell_type": "code",
   "execution_count": 8,
   "metadata": {},
   "outputs": [
    {
     "name": "stderr",
     "output_type": "stream",
     "text": [
      "C:\\Users\\Mohammad Sakhnini\\AppData\\Local\\Packages\\PythonSoftwareFoundation.Python.3.9_qbz5n2kfra8p0\\LocalCache\\local-packages\\Python39\\site-packages\\pytorch_lightning\\utilities\\parsing.py:268: UserWarning:\n",
      "\n",
      "Attribute 'loss' is an instance of `nn.Module` and is already saved during checkpointing. It is recommended to ignore them using `self.save_hyperparameters(ignore=['loss'])`.\n",
      "\n",
      "C:\\Users\\Mohammad Sakhnini\\AppData\\Local\\Packages\\PythonSoftwareFoundation.Python.3.9_qbz5n2kfra8p0\\LocalCache\\local-packages\\Python39\\site-packages\\pytorch_lightning\\utilities\\parsing.py:268: UserWarning:\n",
      "\n",
      "Attribute 'logging_metrics' is an instance of `nn.Module` and is already saved during checkpointing. It is recommended to ignore them using `self.save_hyperparameters(ignore=['logging_metrics'])`.\n",
      "\n",
      "C:\\Users\\Mohammad Sakhnini\\AppData\\Local\\Packages\\PythonSoftwareFoundation.Python.3.9_qbz5n2kfra8p0\\LocalCache\\local-packages\\Python39\\site-packages\\torch\\nn\\modules\\rnn.py:62: UserWarning:\n",
      "\n",
      "dropout option adds dropout after all but last recurrent layer, so non-zero dropout expects num_layers greater than 1, but got dropout=0.1 and num_layers=1\n",
      "\n",
      "C:\\Users\\Mohammad Sakhnini\\AppData\\Local\\Packages\\PythonSoftwareFoundation.Python.3.9_qbz5n2kfra8p0\\LocalCache\\local-packages\\Python39\\site-packages\\pytorch_lightning\\trainer\\connectors\\accelerator_connector.py:447: LightningDeprecationWarning:\n",
      "\n",
      "Setting `Trainer(gpus=1)` is deprecated in v1.7 and will be removed in v2.0. Please use `Trainer(accelerator='gpu', devices=1)` instead.\n",
      "\n",
      "GPU available: True (cuda), used: True\n",
      "TPU available: False, using: 0 TPU cores\n",
      "IPU available: False, using: 0 IPUs\n",
      "HPU available: False, using: 0 HPUs\n",
      "`Trainer(limit_train_batches=1.0)` was configured so 100% of the batches per epoch will be used..\n"
     ]
    }
   ],
   "source": [
    "from torch.nn.utils import rnn\n",
    "\n",
    "from pytorch_forecasting.models.base_model import AutoRegressiveBaseModel\n",
    "from pytorch_forecasting.models.nn import LSTM\n",
    "\n",
    "\n",
    "class LSTMModel(AutoRegressiveBaseModel):\n",
    "    def __init__(\n",
    "        self,\n",
    "        target: str,\n",
    "        target_lags: Dict[str, Dict[str, int]],\n",
    "        n_layers: int,\n",
    "        hidden_size: int,\n",
    "        dropout: float = 0.1,\n",
    "        **kwargs,\n",
    "    ):\n",
    "        # arguments target and target_lags are required for autoregressive models\n",
    "        # even though target_lags cannot be used without covariates\n",
    "        # saves arguments in signature to `.hparams` attribute, mandatory call - do not skip this\n",
    "        self.save_hyperparameters()\n",
    "        # pass additional arguments to BaseModel.__init__, mandatory call - do not skip this\n",
    "        super().__init__(**kwargs)\n",
    "\n",
    "        # use version of LSTM that can handle zero-length sequences\n",
    "        self.lstm = LSTM(\n",
    "            hidden_size=self.hparams.hidden_size,\n",
    "            input_size=7,\n",
    "            num_layers=self.hparams.n_layers,\n",
    "            dropout=self.hparams.dropout,\n",
    "            batch_first=True,\n",
    "        )\n",
    "        self.output_layer = nn.Linear(self.hparams.hidden_size, 1)\n",
    "\n",
    "    def encode(self, x: Dict[str, torch.Tensor]):\n",
    "        # we need at least one encoding step as because the target needs to be lagged by one time step\n",
    "        # because we use the custom LSTM, we do not have to require encoder lengths of > 1\n",
    "        # but can handle lengths of >= 1\n",
    "        assert x[\"encoder_lengths\"].min() >= 1\n",
    "        input_vector = x[\"encoder_cont\"].clone()\n",
    "        # lag target by one\n",
    "        input_vector[..., self.target_positions] = torch.roll(\n",
    "            input_vector[..., self.target_positions], shifts=1, dims=1\n",
    "        )\n",
    "        input_vector = input_vector[:, 1:]  # first time step cannot be used because of lagging\n",
    "\n",
    "        # determine effective encoder_length length\n",
    "        effective_encoder_lengths = x[\"encoder_lengths\"] - 1\n",
    "        # run through LSTM network\n",
    "        _, hidden_state = self.lstm(\n",
    "            input_vector, lengths=effective_encoder_lengths, enforce_sorted=False  # passing the lengths directly\n",
    "        )  # second ouput is not needed (hidden state)\n",
    "        return hidden_state\n",
    "\n",
    "    def decode(self, x: Dict[str, torch.Tensor], hidden_state):\n",
    "        # again lag target by one\n",
    "        input_vector = x[\"decoder_cont\"].clone()\n",
    "        input_vector[..., self.target_positions] = torch.roll(\n",
    "            input_vector[..., self.target_positions], shifts=1, dims=1\n",
    "        )\n",
    "        # but this time fill in missing target from encoder_cont at the first time step instead of throwing it away\n",
    "        last_encoder_target = x[\"encoder_cont\"][\n",
    "            torch.arange(x[\"encoder_cont\"].size(0), device=x[\"encoder_cont\"].device),\n",
    "            x[\"encoder_lengths\"] - 1,\n",
    "            self.target_positions.unsqueeze(-1),\n",
    "        ].T\n",
    "        input_vector[:, 0, self.target_positions] = last_encoder_target\n",
    "\n",
    "        if self.training:  # training mode\n",
    "            lstm_output, _ = self.lstm(input_vector, hidden_state, lengths=x[\"decoder_lengths\"], enforce_sorted=False)\n",
    "\n",
    "            # transform into right shape\n",
    "            prediction = self.output_layer(lstm_output)\n",
    "            prediction = self.transform_output(prediction, target_scale=x[\"target_scale\"])\n",
    "\n",
    "            # predictions are not yet rescaled\n",
    "            return prediction\n",
    "\n",
    "        else:  # prediction mode\n",
    "            target_pos = self.target_positions\n",
    "\n",
    "            def decode_one(idx, lagged_targets, hidden_state):\n",
    "                x = input_vector[:, [idx]]\n",
    "                # overwrite at target positions\n",
    "                x[:, 0, target_pos] = lagged_targets[-1]  # take most recent target (i.e. lag=1)\n",
    "                lstm_output, hidden_state = self.lstm(x, hidden_state)\n",
    "                # transform into right shape\n",
    "                prediction = self.output_layer(lstm_output)[:, 0]  # take first timestep\n",
    "                return prediction, hidden_state\n",
    "\n",
    "            # make predictions which are fed into next step\n",
    "            output = self.decode_autoregressive(\n",
    "                decode_one,\n",
    "                first_target=input_vector[:, 0, target_pos],\n",
    "                first_hidden_state=hidden_state,\n",
    "                target_scale=x[\"target_scale\"],\n",
    "                n_decoder_steps=input_vector.size(1),\n",
    "            )\n",
    "\n",
    "            # predictions are already rescaled\n",
    "            return output\n",
    "\n",
    "    def forward(self, x: Dict[str, torch.Tensor]) -> Dict[str, torch.Tensor]:\n",
    "        hidden_state = self.encode(x)  # encode to hidden state\n",
    "        output = self.decode(x, hidden_state)  # decode leveraging hidden state\n",
    "\n",
    "        return self.to_network_output(prediction=output)\n",
    "\n",
    "\n",
    "max_encoder_length = 365   #\n",
    "max_prediction_length = 14  # predict last 14 days\n",
    "test_cutoff = data.time_idx.max() - max_prediction_length\n",
    "training_cutoff = test_cutoff - max_prediction_length\n",
    "\n",
    "HIDDEN_SIZE = 16\n",
    "HIDDEN_CONTINOUS_SIZE = HIDDEN_SIZE // 2\n",
    "#create test set.\n",
    "data_test = data[lambda x:  test_cutoff < x.time_idx]\n",
    "\n",
    "# create train+val part\n",
    "data_seen = data[lambda x:  x.time_idx <= test_cutoff]\n",
    "\n",
    "\n",
    "dataset = TimeSeriesDataSet(\n",
    "    data[lambda x: x.time_idx <= training_cutoff],\n",
    "    time_idx=\"time_idx\",\n",
    "    target=\"views\",\n",
    "    group_ids=[\"article\"],\n",
    "    min_encoder_length=max_encoder_length // 2,\n",
    "    max_encoder_length=max_encoder_length,\n",
    "    min_prediction_length=1,\n",
    "    max_prediction_length=max_prediction_length,\n",
    "    target_normalizer=GroupNormalizer(groups=[\"article\"]),\n",
    "    time_varying_known_categoricals=[\"dayofweek\", \"month\", \"year\"],\n",
    "    time_varying_known_reals=[\"log_views\"],\n",
    "    static_categoricals=[\"article\"],\n",
    "    time_varying_unknown_reals=[\"avg_by_song\", \"log_views\"],\n",
    "    #allow_missing_timesteps=True,\n",
    "    add_relative_time_idx=True,\n",
    "    add_target_scales=True,\n",
    "    add_encoder_length=True)\n",
    "\n",
    "model = LSTMModel.from_dataset(dataset, n_layers=1, hidden_size=4)\n",
    "dataloader = dataset.to_dataloader(batch_size=4,shuffle=False)\n",
    "\n",
    "early_stop_callback = EarlyStopping(monitor=\"val_loss\", min_delta=1e-4, patience=10, verbose=False, mode=\"min\")\n",
    "lr_logger = LearningRateMonitor()  # log the learning rate\n",
    "\n",
    "trainer = Trainer(\n",
    "    max_epochs=20,\n",
    "    gpus=1,\n",
    "    gradient_clip_val=0.1,\n",
    "    #limit_train_batches=30,  # coment in for training, running valiation every 30 batches\n",
    "    limit_train_batches=1.0, #if set to 1.0 gather all training data, default.\n",
    "    callbacks=[lr_logger, early_stop_callback],\n",
    ")\n",
    "path = \"model_lstm.pth\"\n",
    "\n",
    "if os.path.exists(path):\n",
    "    model.load_state_dict(torch.load(path))\n",
    "    model.eval()\n",
    "else:\n",
    "    trainer.fit(\n",
    "    model,\n",
    "    train_dataloaders=dataloader,\n",
    "    val_dataloaders=dataloader,\n",
    ")\n",
    "#trainer.fit(model, train_dataloaders=dataloader, val_dataloaders=dataloader)\n",
    "#torch.save(model.state_dict(),path)"
   ]
  },
  {
   "cell_type": "code",
   "execution_count": 9,
   "metadata": {},
   "outputs": [],
   "source": [
    "def smape(target, forecast):\n",
    "  if type(target) == pd.core.frame.DataFrame:\n",
    "    target = target.values\n",
    "\n",
    "  denominator = np.abs(target) + np.abs(forecast)\n",
    "  flag = denominator == 0.\n",
    "\n",
    "  smape = 2 * np.mean(\n",
    "      (np.abs(target - forecast) * (1 - flag)) / (denominator + flag)\n",
    "  )\n",
    "  return smape"
   ]
  },
  {
   "cell_type": "code",
   "execution_count": 10,
   "metadata": {},
   "outputs": [],
   "source": [
    "# create dataloaders for model\n",
    "batch_size = 64  # set this between 32 to 128\n",
    "train_dataloader = dataset.to_dataloader(\n",
    "    train=True, batch_size=batch_size, num_workers=0)\n",
    "val_dataloader = dataset.to_dataloader(\n",
    "    train=False, batch_size=batch_size * 10, num_workers=0)\n",
    "\n",
    "predictions = model.predict(val_dataloader)\n",
    "actuals = torch.cat([y for _, (y, _) in iter(val_dataloader)])\n"
   ]
  },
  {
   "cell_type": "code",
   "execution_count": 15,
   "metadata": {},
   "outputs": [
    {
     "data": {
      "image/png": "[encoded data removed]",
      "text/plain": [
       "<Figure size 1080x720 with 2 Axes>"
      ]
     },
     "metadata": {
      "needs_background": "light"
     },
     "output_type": "display_data"
    }
   ],
   "source": [
    "import matplotlib.pyplot as plt\n",
    "\n",
    "song1 = 39\n",
    "song2 = 3\n",
    "loss1 = smape(predictions[song1].cpu().detach().numpy(),actuals[song1].cpu().detach().numpy())\n",
    "loss2 = smape(predictions[song2].cpu().detach().numpy(),actuals[song2].cpu().detach().numpy())\n",
    "fig, axs = plt.subplots(nrows=2, ncols=1,figsize=(15,10),tight_layout=True)\n",
    "fig.tight_layout()\n",
    "axs[0].plot(predictions[song1],label=\"predicted\")\n",
    "axs[0].plot(actuals[song1],label=\"actual\")\n",
    "axs[0].grid(True)\n",
    "axs[0].legend()\n",
    "axs[0].set_xlabel(\"Days\")\n",
    "axs[0].set_ylabel(\"Views\")\n",
    "axs[0].title.set_text(data[\"article\"].unique()[song1] +f\" - SMAPE: {loss1}\")\n",
    "\n",
    "axs[1].plot(predictions[song2],label=\"predicted\")\n",
    "axs[1].plot(actuals[song2],label=\"actual\")\n",
    "axs[1].grid(True)\n",
    "axs[1].legend()\n",
    "axs[1].set_xlabel(\"Days\")\n",
    "axs[1].set_ylabel(\"Views\")\n",
    "axs[1].title.set_text(data[\"article\"].unique()[song2] +f\" - SMAPE: {loss2}\")\n",
    "\n",
    "\n",
    "plt.show()\n"
   ]
  },
  {
   "cell_type": "code",
   "execution_count": 5,
   "metadata": {},
   "outputs": [
    {
     "data": {
      "application/vnd.plotly.v1+json": {
       "config": {
        "plotlyServerURL": "https://plot.ly"
       },
       "data": [
        {
         "alignmentgroup": "True",
         "hovertemplate": "Training Type=Training<br>Model=%{x}<br>Time=%{text}<extra></extra>",
         "legendgroup": "Training",
         "marker": {
          "color": "#4C78A8",
          "pattern": {
           "shape": ""
          }
         },
         "name": "Training",
         "offsetgroup": "Training",
         "orientation": "v",
         "showlegend": true,
         "text": [
          668
         ],
         "textposition": "auto",
         "type": "bar",
         "width": 0.4,
         "x": [
          "LSTM"
         ],
         "xaxis": "x",
         "y": [
          668
         ],
         "yaxis": "y"
        },
        {
         "alignmentgroup": "True",
         "hovertemplate": "Training Type=Optimizing<br>Model=%{x}<br>Time=%{text}<extra></extra>",
         "legendgroup": "Optimizing",
         "marker": {
          "color": "#F58518",
          "pattern": {
           "shape": ""
          }
         },
         "name": "Optimizing",
         "offsetgroup": "Optimizing",
         "orientation": "v",
         "showlegend": true,
         "text": [
          73
         ],
         "textposition": "auto",
         "type": "bar",
         "width": 0.4,
         "x": [
          "LSTM"
         ],
         "xaxis": "x",
         "y": [
          73
         ],
         "yaxis": "y"
        }
       ],
       "layout": {
        "annotations": [
         {
          "font": {
           "family": "Arial Black",
           "size": 15
          },
          "showarrow": false,
          "text": "Total: 741 Minutes (12h:21m)",
          "x": 0,
          "y": 760
         }
        ],
        "barmode": "relative",
        "legend": {
         "bgcolor": "LightSteelBlue",
         "title": {
          "text": "Training Type"
         },
         "tracegroupgap": 0,
         "x": 1.25,
         "xanchor": "right",
         "y": 0,
         "yanchor": "bottom"
        },
        "margin": {
         "t": 60
        },
        "template": {
         "data": {
          "bar": [
           {
            "error_x": {
             "color": "#2a3f5f"
            },
            "error_y": {
             "color": "#2a3f5f"
            },
            "marker": {
             "line": {
              "color": "#E5ECF6",
              "width": 0.5
             },
             "pattern": {
              "fillmode": "overlay",
              "size": 10,
              "solidity": 0.2
             }
            },
            "type": "bar"
           }
          ],
          "barpolar": [
           {
            "marker": {
             "line": {
              "color": "#E5ECF6",
              "width": 0.5
             },
             "pattern": {
              "fillmode": "overlay",
              "size": 10,
              "solidity": 0.2
             }
            },
            "type": "barpolar"
           }
          ],
          "carpet": [
           {
            "aaxis": {
             "endlinecolor": "#2a3f5f",
             "gridcolor": "white",
             "linecolor": "white",
             "minorgridcolor": "white",
             "startlinecolor": "#2a3f5f"
            },
            "baxis": {
             "endlinecolor": "#2a3f5f",
             "gridcolor": "white",
             "linecolor": "white",
             "minorgridcolor": "white",
             "startlinecolor": "#2a3f5f"
            },
            "type": "carpet"
           }
          ],
          "choropleth": [
           {
            "colorbar": {
             "outlinewidth": 0,
             "ticks": ""
            },
            "type": "choropleth"
           }
          ],
          "contour": [
           {
            "colorbar": {
             "outlinewidth": 0,
             "ticks": ""
            },
            "colorscale": [
             [
              0,
              "#0d0887"
             ],
             [
              0.1111111111111111,
              "#46039f"
             ],
             [
              0.2222222222222222,
              "#7201a8"
             ],
             [
              0.3333333333333333,
              "#9c179e"
             ],
             [
              0.4444444444444444,
              "#bd3786"
             ],
             [
              0.5555555555555556,
              "#d8576b"
             ],
             [
              0.6666666666666666,
              "#ed7953"
             ],
             [
              0.7777777777777778,
              "#fb9f3a"
             ],
             [
              0.8888888888888888,
              "#fdca26"
             ],
             [
              1,
              "#f0f921"
             ]
            ],
            "type": "contour"
           }
          ],
          "contourcarpet": [
           {
            "colorbar": {
             "outlinewidth": 0,
             "ticks": ""
            },
            "type": "contourcarpet"
           }
          ],
          "heatmap": [
           {
            "colorbar": {
             "outlinewidth": 0,
             "ticks": ""
            },
            "colorscale": [
             [
              0,
              "#0d0887"
             ],
             [
              0.1111111111111111,
              "#46039f"
             ],
             [
              0.2222222222222222,
              "#7201a8"
             ],
             [
              0.3333333333333333,
              "#9c179e"
             ],
             [
              0.4444444444444444,
              "#bd3786"
             ],
             [
              0.5555555555555556,
              "#d8576b"
             ],
             [
              0.6666666666666666,
              "#ed7953"
             ],
             [
              0.7777777777777778,
              "#fb9f3a"
             ],
             [
              0.8888888888888888,
              "#fdca26"
             ],
             [
              1,
              "#f0f921"
             ]
            ],
            "type": "heatmap"
           }
          ],
          "heatmapgl": [
           {
            "colorbar": {
             "outlinewidth": 0,
             "ticks": ""
            },
            "colorscale": [
             [
              0,
              "#0d0887"
             ],
             [
              0.1111111111111111,
              "#46039f"
             ],
             [
              0.2222222222222222,
              "#7201a8"
             ],
             [
              0.3333333333333333,
              "#9c179e"
             ],
             [
              0.4444444444444444,
              "#bd3786"
             ],
             [
              0.5555555555555556,
              "#d8576b"
             ],
             [
              0.6666666666666666,
              "#ed7953"
             ],
             [
              0.7777777777777778,
              "#fb9f3a"
             ],
             [
              0.8888888888888888,
              "#fdca26"
             ],
             [
              1,
              "#f0f921"
             ]
            ],
            "type": "heatmapgl"
           }
          ],
          "histogram": [
           {
            "marker": {
             "pattern": {
              "fillmode": "overlay",
              "size": 10,
              "solidity": 0.2
             }
            },
            "type": "histogram"
           }
          ],
          "histogram2d": [
           {
            "colorbar": {
             "outlinewidth": 0,
             "ticks": ""
            },
            "colorscale": [
             [
              0,
              "#0d0887"
             ],
             [
              0.1111111111111111,
              "#46039f"
             ],
             [
              0.2222222222222222,
              "#7201a8"
             ],
             [
              0.3333333333333333,
              "#9c179e"
             ],
             [
              0.4444444444444444,
              "#bd3786"
             ],
             [
              0.5555555555555556,
              "#d8576b"
             ],
             [
              0.6666666666666666,
              "#ed7953"
             ],
             [
              0.7777777777777778,
              "#fb9f3a"
             ],
             [
              0.8888888888888888,
              "#fdca26"
             ],
             [
              1,
              "#f0f921"
             ]
            ],
            "type": "histogram2d"
           }
          ],
          "histogram2dcontour": [
           {
            "colorbar": {
             "outlinewidth": 0,
             "ticks": ""
            },
            "colorscale": [
             [
              0,
              "#0d0887"
             ],
             [
              0.1111111111111111,
              "#46039f"
             ],
             [
              0.2222222222222222,
              "#7201a8"
             ],
             [
              0.3333333333333333,
              "#9c179e"
             ],
             [
              0.4444444444444444,
              "#bd3786"
             ],
             [
              0.5555555555555556,
              "#d8576b"
             ],
             [
              0.6666666666666666,
              "#ed7953"
             ],
             [
              0.7777777777777778,
              "#fb9f3a"
             ],
             [
              0.8888888888888888,
              "#fdca26"
             ],
             [
              1,
              "#f0f921"
             ]
            ],
            "type": "histogram2dcontour"
           }
          ],
          "mesh3d": [
           {
            "colorbar": {
             "outlinewidth": 0,
             "ticks": ""
            },
            "type": "mesh3d"
           }
          ],
          "parcoords": [
           {
            "line": {
             "colorbar": {
              "outlinewidth": 0,
              "ticks": ""
             }
            },
            "type": "parcoords"
           }
          ],
          "pie": [
           {
            "automargin": true,
            "type": "pie"
           }
          ],
          "scatter": [
           {
            "fillpattern": {
             "fillmode": "overlay",
             "size": 10,
             "solidity": 0.2
            },
            "type": "scatter"
           }
          ],
          "scatter3d": [
           {
            "line": {
             "colorbar": {
              "outlinewidth": 0,
              "ticks": ""
             }
            },
            "marker": {
             "colorbar": {
              "outlinewidth": 0,
              "ticks": ""
             }
            },
            "type": "scatter3d"
           }
          ],
          "scattercarpet": [
           {
            "marker": {
             "colorbar": {
              "outlinewidth": 0,
              "ticks": ""
             }
            },
            "type": "scattercarpet"
           }
          ],
          "scattergeo": [
           {
            "marker": {
             "colorbar": {
              "outlinewidth": 0,
              "ticks": ""
             }
            },
            "type": "scattergeo"
           }
          ],
          "scattergl": [
           {
            "marker": {
             "colorbar": {
              "outlinewidth": 0,
              "ticks": ""
             }
            },
            "type": "scattergl"
           }
          ],
          "scattermapbox": [
           {
            "marker": {
             "colorbar": {
              "outlinewidth": 0,
              "ticks": ""
             }
            },
            "type": "scattermapbox"
           }
          ],
          "scatterpolar": [
           {
            "marker": {
             "colorbar": {
              "outlinewidth": 0,
              "ticks": ""
             }
            },
            "type": "scatterpolar"
           }
          ],
          "scatterpolargl": [
           {
            "marker": {
             "colorbar": {
              "outlinewidth": 0,
              "ticks": ""
             }
            },
            "type": "scatterpolargl"
           }
          ],
          "scatterternary": [
           {
            "marker": {
             "colorbar": {
              "outlinewidth": 0,
              "ticks": ""
             }
            },
            "type": "scatterternary"
           }
          ],
          "surface": [
           {
            "colorbar": {
             "outlinewidth": 0,
             "ticks": ""
            },
            "colorscale": [
             [
              0,
              "#0d0887"
             ],
             [
              0.1111111111111111,
              "#46039f"
             ],
             [
              0.2222222222222222,
              "#7201a8"
             ],
             [
              0.3333333333333333,
              "#9c179e"
             ],
             [
              0.4444444444444444,
              "#bd3786"
             ],
             [
              0.5555555555555556,
              "#d8576b"
             ],
             [
              0.6666666666666666,
              "#ed7953"
             ],
             [
              0.7777777777777778,
              "#fb9f3a"
             ],
             [
              0.8888888888888888,
              "#fdca26"
             ],
             [
              1,
              "#f0f921"
             ]
            ],
            "type": "surface"
           }
          ],
          "table": [
           {
            "cells": {
             "fill": {
              "color": "#EBF0F8"
             },
             "line": {
              "color": "white"
             }
            },
            "header": {
             "fill": {
              "color": "#C8D4E3"
             },
             "line": {
              "color": "white"
             }
            },
            "type": "table"
           }
          ]
         },
         "layout": {
          "annotationdefaults": {
           "arrowcolor": "#2a3f5f",
           "arrowhead": 0,
           "arrowwidth": 1
          },
          "autotypenumbers": "strict",
          "coloraxis": {
           "colorbar": {
            "outlinewidth": 0,
            "ticks": ""
           }
          },
          "colorscale": {
           "diverging": [
            [
             0,
             "#8e0152"
            ],
            [
             0.1,
             "#c51b7d"
            ],
            [
             0.2,
             "#de77ae"
            ],
            [
             0.3,
             "#f1b6da"
            ],
            [
             0.4,
             "#fde0ef"
            ],
            [
             0.5,
             "#f7f7f7"
            ],
            [
             0.6,
             "#e6f5d0"
            ],
            [
             0.7,
             "#b8e186"
            ],
            [
             0.8,
             "#7fbc41"
            ],
            [
             0.9,
             "#4d9221"
            ],
            [
             1,
             "#276419"
            ]
           ],
           "sequential": [
            [
             0,
             "#0d0887"
            ],
            [
             0.1111111111111111,
             "#46039f"
            ],
            [
             0.2222222222222222,
             "#7201a8"
            ],
            [
             0.3333333333333333,
             "#9c179e"
            ],
            [
             0.4444444444444444,
             "#bd3786"
            ],
            [
             0.5555555555555556,
             "#d8576b"
            ],
            [
             0.6666666666666666,
             "#ed7953"
            ],
            [
             0.7777777777777778,
             "#fb9f3a"
            ],
            [
             0.8888888888888888,
             "#fdca26"
            ],
            [
             1,
             "#f0f921"
            ]
           ],
           "sequentialminus": [
            [
             0,
             "#0d0887"
            ],
            [
             0.1111111111111111,
             "#46039f"
            ],
            [
             0.2222222222222222,
             "#7201a8"
            ],
            [
             0.3333333333333333,
             "#9c179e"
            ],
            [
             0.4444444444444444,
             "#bd3786"
            ],
            [
             0.5555555555555556,
             "#d8576b"
            ],
            [
             0.6666666666666666,
             "#ed7953"
            ],
            [
             0.7777777777777778,
             "#fb9f3a"
            ],
            [
             0.8888888888888888,
             "#fdca26"
            ],
            [
             1,
             "#f0f921"
            ]
           ]
          },
          "colorway": [
           "#636efa",
           "#EF553B",
           "#00cc96",
           "#ab63fa",
           "#FFA15A",
           "#19d3f3",
           "#FF6692",
           "#B6E880",
           "#FF97FF",
           "#FECB52"
          ],
          "font": {
           "color": "#2a3f5f"
          },
          "geo": {
           "bgcolor": "white",
           "lakecolor": "white",
           "landcolor": "#E5ECF6",
           "showlakes": true,
           "showland": true,
           "subunitcolor": "white"
          },
          "hoverlabel": {
           "align": "left"
          },
          "hovermode": "closest",
          "mapbox": {
           "style": "light"
          },
          "paper_bgcolor": "white",
          "plot_bgcolor": "#E5ECF6",
          "polar": {
           "angularaxis": {
            "gridcolor": "white",
            "linecolor": "white",
            "ticks": ""
           },
           "bgcolor": "#E5ECF6",
           "radialaxis": {
            "gridcolor": "white",
            "linecolor": "white",
            "ticks": ""
           }
          },
          "scene": {
           "xaxis": {
            "backgroundcolor": "#E5ECF6",
            "gridcolor": "white",
            "gridwidth": 2,
            "linecolor": "white",
            "showbackground": true,
            "ticks": "",
            "zerolinecolor": "white"
           },
           "yaxis": {
            "backgroundcolor": "#E5ECF6",
            "gridcolor": "white",
            "gridwidth": 2,
            "linecolor": "white",
            "showbackground": true,
            "ticks": "",
            "zerolinecolor": "white"
           },
           "zaxis": {
            "backgroundcolor": "#E5ECF6",
            "gridcolor": "white",
            "gridwidth": 2,
            "linecolor": "white",
            "showbackground": true,
            "ticks": "",
            "zerolinecolor": "white"
           }
          },
          "shapedefaults": {
           "line": {
            "color": "#2a3f5f"
           }
          },
          "ternary": {
           "aaxis": {
            "gridcolor": "white",
            "linecolor": "white",
            "ticks": ""
           },
           "baxis": {
            "gridcolor": "white",
            "linecolor": "white",
            "ticks": ""
           },
           "bgcolor": "#E5ECF6",
           "caxis": {
            "gridcolor": "white",
            "linecolor": "white",
            "ticks": ""
           }
          },
          "title": {
           "x": 0.05
          },
          "xaxis": {
           "automargin": true,
           "gridcolor": "white",
           "linecolor": "white",
           "ticks": "",
           "title": {
            "standoff": 15
           },
           "zerolinecolor": "white",
           "zerolinewidth": 2
          },
          "yaxis": {
           "automargin": true,
           "gridcolor": "white",
           "linecolor": "white",
           "ticks": "",
           "title": {
            "standoff": 15
           },
           "zerolinecolor": "white",
           "zerolinewidth": 2
          }
         }
        },
        "title": {
         "text": "Training Time",
         "x": 0.45
        },
        "xaxis": {
         "anchor": "y",
         "domain": [
          0,
          1
         ],
         "title": {
          "text": "Model"
         }
        },
        "yaxis": {
         "anchor": "x",
         "domain": [
          0,
          1
         ],
         "title": {
          "text": "Time in Minutes"
         }
        }
       }
      }
     },
     "metadata": {},
     "output_type": "display_data"
    }
   ],
   "source": [
    "import plotly.express as px\n",
    "import pandas as pd\n",
    "\n",
    "df = pd.DataFrame({\"Time\":[668,73],\n",
    "                   \"Model\":[\"LSTM\",\"LSTM\"],\n",
    "                   \"Training Type\":[\"Training\",\"Optimizing\"]\n",
    "                   })\n",
    "fig = px.bar(df,y=\"Time\",x=\"Model\",color=\"Training Type\",text=\"Time\",color_discrete_sequence=px.colors.qualitative.T10)\n",
    "fig.update_yaxes(title=\"Time in Minutes\")\n",
    "fig.update_layout(legend=dict(\n",
    "    yanchor=\"bottom\",\n",
    "    y=0,\n",
    "    xanchor=\"right\",\n",
    "    x=1.25,\n",
    "    bgcolor=\"LightSteelBlue\",\n",
    "),title={\n",
    "    \"text\":\"Training Time\",\n",
    "    \"x\":0.45\n",
    "})\n",
    "min = 99999\n",
    "max = 0\n",
    "\n",
    "counter = 0\n",
    "temp = 0\n",
    "for t,_,_ in df.values:\n",
    "    temp += t\n",
    "    counter += 1\n",
    "    if counter == 2:\n",
    "        if temp> max:\n",
    "            max = temp\n",
    "        elif temp < min:\n",
    "            min = temp\n",
    "        temp = 0\n",
    "        counter = 0\n",
    "\n",
    "#fig.add_hline(min,line_width=3,line_dash=\"dash\",line_color=\"#4ae004\")\n",
    "#fig.add_hline(max,line_width=3,line_dash=\"dash\",line_color=\"red\")\n",
    "fig.update_traces(width=0.4)\n",
    "fig.add_annotation(x=0, y=760,\n",
    "            text=\"Total: 741 Minutes (12h:21m)\",\n",
    "            showarrow=False,font_size=15,font_family=\"Arial Black\")\n",
    "fig.show()\n",
    "fig.write_image(\"training_time.png\",format='png',engine='kaleido',scale=3)\n"
   ]
  },
  {
   "cell_type": "code",
   "execution_count": 16,
   "metadata": {},
   "outputs": [
    {
     "data": {
      "text/plain": [
       "<AxesSubplot:>"
      ]
     },
     "execution_count": 16,
     "metadata": {},
     "output_type": "execute_result"
    },
    {
     "data": {
      "image/png": "[encoded data removed]",
      "text/plain": [
       "<Figure size 432x288 with 1 Axes>"
      ]
     },
     "metadata": {
      "needs_background": "light"
     },
     "output_type": "display_data"
    }
   ],
   "source": [
    "import seaborn as sns\n",
    "\n",
    "losses = {\"SMAPE\":[]}\n",
    "for i in range(51):\n",
    "    losses[\"SMAPE\"].append(smape(predictions[i].cpu().detach().numpy(),actuals[i].cpu().detach().numpy()))\n",
    "sns.boxplot(data=pd.DataFrame(data=losses),orient=\"v\")"
   ]
  }
 ],
 "metadata": {
  "kernelspec": {
   "display_name": "Python 3.9.13 64-bit (microsoft store)",
   "language": "python",
   "name": "python3"
  },
  "language_info": {
   "codemirror_mode": {
    "name": "ipython",
    "version": 3
   },
   "file_extension": ".py",
   "mimetype": "text/x-python",
   "name": "python",
   "nbconvert_exporter": "python",
   "pygments_lexer": "ipython3",
   "version": "3.9.13"
  },
  "orig_nbformat": 4,
  "vscode": {
   "interpreter": {
    "hash": "d7baccf88227eab4c3a997091e3b8cad5657bd0277ceacd9564be0b0f999d1db"
   }
  }
 },
 "nbformat": 4,
 "nbformat_minor": 2
}
