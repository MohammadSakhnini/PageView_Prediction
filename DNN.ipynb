{
 "cells": [
  {
   "attachments": {},
   "cell_type": "markdown",
   "metadata": {},
   "source": [
    "Implementation, testing and training of a Deep Neural Network"
   ]
  },
  {
   "cell_type": "code",
   "execution_count": 156,
   "metadata": {},
   "outputs": [],
   "source": [
    "from torch.utils.data import Dataset,DataLoader,TensorDataset\n",
    "from torchmetrics import SymmetricMeanAbsolutePercentageError\n",
    "import matplotlib.pyplot as plt\n",
    "import torch.nn as nn\n",
    "import pandas as pd\n",
    "import numpy as np\n",
    "import torch\n",
    "import pickle"
   ]
  },
  {
   "attachments": {},
   "cell_type": "markdown",
   "metadata": {},
   "source": [
    "Filtering the data and creating the needed features that will be fed into the model"
   ]
  },
  {
   "cell_type": "code",
   "execution_count": 157,
   "metadata": {},
   "outputs": [],
   "source": [
    "df = pd.read_csv('Data/All_music.csv')\n",
    "df[\"timestamp\"] = pd.to_datetime(df[\"timestamp\"])\n",
    "df.drop(\"Unnamed: 0\",inplace=True,axis=1)\n",
    "df.set_index(\"timestamp\",inplace=True)\n",
    "\n",
    "df = df[\"2020-12-14\":]\n",
    "\n",
    "df[\"dayofweek\"] = df.index.dayofweek.astype(\"int32\")\n",
    "df[\"log_views\"] = np.log(df[\"views\"] + 1e-8)\n",
    "df[\"month\"] = df.index.month.astype(\"int32\")\n",
    "df[\"year\"] = df.index.year.astype(\"int32\")\n",
    "df[\"avg_by_song_month\"] = df.groupby([\"month\",\"year\",\"article\"],observed=True)[\"views\"].transform(\"mean\").astype(\"float64\")\n",
    "df[\"min_by_song_month\"] = df.groupby([\"month\",\"year\",\"article\"],observed=True)[\"views\"].transform(\"min\").astype(\"float64\")\n",
    "df[\"max_by_song_month\"] = df.groupby([\"month\",\"year\",\"article\"],observed=True)[\"views\"].transform(\"max\").astype(\"float64\")\n",
    "\n",
    "for i in range(1, 8):\n",
    "    df[f\"t-{i}\"] = df[\"views\"].shift(i).ffill()\n",
    "\n",
    "df = df.iloc[7:]\n",
    "features = [\"dayofweek\", \"month\", \"year\", \"min_by_song_month\", \"max_by_song_month\", \"avg_by_song_month\",\"log_views\", \"t-1\", \"t-2\", \"t-3\", \"t-4\", \"t-5\", \"t-6\", \"t-7\"]\n",
    "target = \"views\""
   ]
  },
  {
   "cell_type": "code",
   "execution_count": 158,
   "metadata": {},
   "outputs": [],
   "source": [
    "class MusicDataset(Dataset):\n",
    "    def __init__(self,features,target):\n",
    "        self.feature = features\n",
    "        self.target = target\n",
    "    \n",
    "    def __len__(self):\n",
    "        return len(self.feature)\n",
    "    \n",
    "    def __getitem__(self,idx):\n",
    "        item = self.feature[idx]\n",
    "        label = self.target[idx]\n",
    "        \n",
    "        return item,label"
   ]
  },
  {
   "attachments": {},
   "cell_type": "markdown",
   "metadata": {},
   "source": [
    "Creating the training and testing data"
   ]
  },
  {
   "cell_type": "code",
   "execution_count": 159,
   "metadata": {},
   "outputs": [],
   "source": [
    "from sklearn.model_selection import train_test_split\n",
    "\n",
    "device = torch.device(\"cuda:0\" if torch.cuda.is_available() else \"cpu\")\n",
    "\n",
    "train, test = train_test_split(df, test_size=0.2, shuffle=True)\n",
    "\n",
    "train_x = torch.tensor(train[features].values).to(device)\n",
    "train_y = torch.tensor(train[target].values).unsqueeze(1).to(device)\n",
    "test_x = torch.tensor(test[features].values).to(device)\n",
    "test_y = torch.tensor(test[target].values).unsqueeze(1).to(device)\n",
    "\n",
    "train = MusicDataset(train_x,train_y)\n",
    "valid = MusicDataset(test_x,test_y)\n",
    "\n",
    "train_loader = DataLoader(train,batch_size=2,shuffle=False)\n",
    "valid_loader = DataLoader(valid,batch_size=2,shuffle=False)"
   ]
  },
  {
   "attachments": {},
   "cell_type": "markdown",
   "metadata": {},
   "source": [
    "The first version of the Neural Network"
   ]
  },
  {
   "cell_type": "code",
   "execution_count": 160,
   "metadata": {},
   "outputs": [],
   "source": [
    "class NeuralNetwork(nn.Module):\n",
    "    def __init__(self, input_dim, hidden_dim):\n",
    "        super(NeuralNetwork, self).__init__()\n",
    "        self.hidden1 = nn.Linear(input_dim, hidden_dim)\n",
    "        self.activ1 = nn.LeakyReLU()\n",
    "        self.hidden2 = nn.Linear(hidden_dim, 1)\n",
    "        self.activ2 = nn.LeakyReLU()\n",
    "        self.hidden3 = nn.Linear(hidden_dim - 5, 1)\n",
    "       \n",
    "    def forward(self, x):\n",
    "        x = self.hidden1(x)\n",
    "        x = self.activ1(x)\n",
    "        x = self.hidden2(x)\n",
    "        x = self.activ2(x)\n",
    "        x = self.hidden3(x)\n",
    "        return x\n",
    "\n",
    "\n",
    "def smape(target, forecast):\n",
    "  if type(target) == pd.core.frame.DataFrame:\n",
    "    target = target.values\n",
    "\n",
    "  denominator = np.abs(target) + np.abs(forecast)\n",
    "  flag = denominator == 0.\n",
    "\n",
    "  smape = 2 * np.mean(\n",
    "      (np.abs(target - forecast) * (1 - flag)) / (denominator + flag)\n",
    "  )\n",
    "  return smape"
   ]
  },
  {
   "attachments": {},
   "cell_type": "markdown",
   "metadata": {},
   "source": [
    "Training the model"
   ]
  },
  {
   "cell_type": "code",
   "execution_count": 161,
   "metadata": {},
   "outputs": [],
   "source": [
    "def train_model(train_dl, model):\n",
    "    # define the optimization\n",
    "    criterion = SymmetricMeanAbsolutePercentageError().to(device)\n",
    "    optimizer = torch.optim.Adam(model.parameters(), lr=0.00047841723492162016)\n",
    "    # enumerate epochs\n",
    "    for epoch in range(100):\n",
    "        # enumerate mini batches\n",
    "        running_loss = 0\n",
    "        for i, (inputs, targets) in enumerate(train_dl):\n",
    "            #Decay Learning Rate\n",
    "            # clear the gradients\n",
    "            optimizer.zero_grad()\n",
    "            # compute the model output\n",
    "            yhat = model(inputs.float().to(device)).to(device)\n",
    "            # calculate loss\n",
    "            loss = criterion(yhat.float(), targets.float()).to(device)\n",
    "            # credit assignment\n",
    "            loss.backward()\n",
    "            # update model weights\n",
    "            optimizer.step()\n",
    "            \n",
    "            running_loss += loss.item()\n",
    "            if i % 2000 == 1999:    # print every 2000 mini-batches\n",
    "                print('[%d, %5d] loss: %.3f' %\n",
    "                    (epoch + 1, i + 1, running_loss / 2000))\n",
    "                running_loss = 0.0\n",
    "\n",
    "# evaluate the model\n",
    "def evaluate_model(test_dl, model,epoch = None):\n",
    "    predictions, actuals = list(), list()\n",
    "    with torch.no_grad():\n",
    "        for i, (inputs, targets) in enumerate(test_dl):\n",
    "            # evaluate the model on the test set\n",
    "            yhat = model(inputs.float()).to(device)\n",
    "            # retrieve numpy array\n",
    "            yhat = yhat.cpu().detach().numpy()\n",
    "            actual = targets.cpu().detach().numpy()\n",
    "            actual = actual.reshape((len(actual), 1))\n",
    "            # round to class values\n",
    "            yhat = yhat.round()\n",
    "            # store\n",
    "            predictions.append(yhat)\n",
    "            actuals.append(actual)\n",
    "        predictions, actuals = np.vstack(predictions), np.vstack(actuals)\n",
    "    # calculate accuracy\n",
    "    return smape(actuals, predictions)\n",
    "\n",
    "\n",
    "# make a class prediction for one row of data\n",
    "def predict(row, model):\n",
    "    # convert row to data\n",
    "    row = torch.Tensor([row]).to(device)\n",
    "    # make prediction\n",
    "    yhat = model(row).to(device)\n",
    "    # retrieve numpy array\n",
    "    yhat = yhat.cpu().detach().numpy()\n",
    "    return yhat\n",
    "\n",
    "n_input = len(features)\n",
    "n_hidden = 20\n",
    "\n",
    "model = NeuralNetwork(n_input,n_hidden).to(device)\n",
    "#train_model(train_loader,model) Uncomment to train\n",
    "path = \"DNN_optimized.pth\"\n",
    "#torch.save(model.state_dict(),path)"
   ]
  },
  {
   "attachments": {},
   "cell_type": "markdown",
   "metadata": {},
   "source": [
    "Generating a more optimal model and storing using optuna"
   ]
  },
  {
   "cell_type": "code",
   "execution_count": 162,
   "metadata": {},
   "outputs": [],
   "source": [
    "import optuna\n",
    "import torch\n",
    "import torch.nn as nn\n",
    "import torch.optim as optim\n",
    "import pandas as pd\n",
    "import numpy as np\n",
    "\n",
    "\n",
    "EPOCHS = 100\n",
    "\n",
    "\n",
    "# Build a model by implementing define-by-run design from Optuna\n",
    "def build_model_custom(trial):\n",
    "    \n",
    "    n_layers = trial.suggest_int(\"n_layers\", 1, 4)\n",
    "    layers = []\n",
    "\n",
    "    in_features = len(features)\n",
    "    \n",
    "    for i in range(n_layers):\n",
    "        \n",
    "        out_features = trial.suggest_int(\"n_units_l{}\".format(i), 6, 22)\n",
    "        \n",
    "        layers.append(nn.Linear(in_features, out_features))\n",
    "        layers.append(nn.LeakyReLU())\n",
    "        p = trial.suggest_float(\"dropout_l{}\".format(i),0.1,0.5) # dropout ratio in each layer\n",
    "        layers.append(nn.Dropout(p))\n",
    "        in_features = out_features\n",
    "        \n",
    "    layers.append(nn.Linear(in_features, 1))\n",
    "    layers.append(nn.LeakyReLU())\n",
    "    \n",
    "    return nn.Sequential(*layers)\n",
    "\n",
    "# Train and evaluate the accuracy of neural network with the addition of pruning mechanism\n",
    "def train_and_evaluate(param, model, trial):\n",
    "    \n",
    "\n",
    "    train, test = train_test_split(df, test_size=0.2, shuffle=True)\n",
    "\n",
    "    train_x = torch.tensor(train[features].values)\n",
    "    train_y = torch.tensor(train[target].values).unsqueeze(1)\n",
    "    test_x = torch.tensor(test[features].values)\n",
    "    test_y = torch.tensor(test[target].values).unsqueeze(1)\n",
    "\n",
    "    train = MusicDataset(train_x,train_y)\n",
    "    valid = MusicDataset(test_x,test_y)\n",
    "\n",
    "    train_loader = DataLoader(train,batch_size=2,shuffle=False)\n",
    "    valid_loader = DataLoader(valid,batch_size=2,shuffle=False)\n",
    "\n",
    "    use_cuda = torch.cuda.is_available()\n",
    "    device = torch.device(\"cuda\" if use_cuda else \"cpu\")\n",
    "\n",
    "    criterion = SymmetricMeanAbsolutePercentageError()\n",
    "    optimizer = getattr(optim, param['optimizer'])(model.parameters(), lr= param['learning_rate'])\n",
    "\n",
    "    if use_cuda:\n",
    "            model = model.cuda()\n",
    "            criterion = criterion.cuda()\n",
    "\n",
    "    for epoch_num in range(EPOCHS):\n",
    "\n",
    "            total_loss_train = 0\n",
    "\n",
    "            for train_input, train_label in train_loader:\n",
    "\n",
    "                train_label = train_label.to(device)\n",
    "                train_input = train_input.to(device)\n",
    "\n",
    "                output = model(train_input.float())\n",
    "                \n",
    "                batch_loss = criterion(output, train_label.long())\n",
    "                total_loss_train += batch_loss.item()\n",
    "\n",
    "                model.zero_grad()\n",
    "                batch_loss.backward()\n",
    "                optimizer.step()\n",
    "            \n",
    "            total_loss_val = 0\n",
    "\n",
    "            with torch.no_grad():\n",
    "\n",
    "                for val_input, val_label in valid_loader:\n",
    "\n",
    "                    val_label = val_label.to(device)\n",
    "                    val_input = val_input.to(device)\n",
    "\n",
    "                    output = model(val_input.float())\n",
    "\n",
    "                    batch_loss = criterion(output, val_label.float())\n",
    "                    total_loss_val += batch_loss.item()\n",
    "                    \n",
    "\n",
    "            \n",
    "            accuracy = total_loss_val/len(test)\n",
    "            \n",
    "            # Add prune mechanism\n",
    "            trial.report(accuracy, epoch_num)\n",
    "\n",
    "            if trial.should_prune():\n",
    "                raise optuna.exceptions.TrialPruned()\n",
    "\n",
    "    return accuracy\n",
    "  \n",
    "# Define a set of hyperparameter values, build the model, train the model, and evaluate the accuracy\n",
    "def objective(trial):\n",
    "\n",
    "     params = {\n",
    "              'learning_rate': trial.suggest_loguniform('learning_rate', 1e-5, 1e-1),\n",
    "              'optimizer': trial.suggest_categorical(\"optimizer\", [\"Adam\", \"RMSprop\", \"SGD\"]),\n",
    "              }\n",
    "    \n",
    "     model = build_model_custom(trial)\n",
    "\n",
    "     accuracy = train_and_evaluate(params, model, trial)\n",
    "     trial.set_user_attr(key=\"best_model\", value=model)\n",
    "     return accuracy\n",
    "  \n",
    "\n",
    "def callback(study, trial):\n",
    "    if study.best_trial.number == trial.number:\n",
    "        study.set_user_attr(key=\"best_model\", value=trial.user_attrs[\"best_model\"])\n",
    "    "
   ]
  },
  {
   "cell_type": "code",
   "execution_count": 163,
   "metadata": {},
   "outputs": [],
   "source": [
    "# study = optuna.create_study(direction=\"minimize\", pruner=optuna.pruners.SuccessiveHalvingPruner())\n",
    "# study.optimize(objective, n_trials=100,callbacks=[callback])\n",
    "\n",
    "# with open(\"DNN_optuna.pkl\", \"wb\") as fout:\n",
    "#     pickle.dump(study, fout)\n",
    "# torch.save(best_model.state_dict(),\"DNN_optimized.pth\")"
   ]
  },
  {
   "attachments": {},
   "cell_type": "markdown",
   "metadata": {},
   "source": [
    "Evaluting the model"
   ]
  },
  {
   "cell_type": "code",
   "execution_count": 164,
   "metadata": {},
   "outputs": [
    {
     "data": {
      "text/plain": [
       "<matplotlib.legend.Legend at 0x1cf444c9af0>"
      ]
     },
     "execution_count": 164,
     "metadata": {},
     "output_type": "execute_result"
    },
    {
     "data": {
      "image/png": "[encoded data removed]",
      "text/plain": [
       "<Figure size 1080x720 with 2 Axes>"
      ]
     },
     "metadata": {},
     "output_type": "display_data"
    }
   ],
   "source": [
    "study = pd.read_pickle(\"DNN_optuna.pkl\")\n",
    "best_model = study.user_attrs[\"best_model\"]\n",
    "\n",
    "song1 = df[df[\"article\"] == \"Sweet_Mother\"][features][-28:-14].values\n",
    "actual1 = df[df[\"article\"] == \"Sweet_Mother\"][target][-28:-14].values.flatten()\n",
    "song1_predicitons = np.zeros(len(song1))\n",
    "fig, axs = plt.subplots(nrows=2, ncols=1,figsize=(15,10),tight_layout=True)\n",
    "fig.tight_layout()\n",
    "\n",
    "for i,v in enumerate(song1):\n",
    "    song1_predicitons[i] = predict(v,best_model)\n",
    "\n",
    "axs[0].plot(actual1,label=\"actual\")\n",
    "axs[0].plot(song1_predicitons.flatten(),label=\"predictions\")\n",
    "axs[0].title.set_text(\"Sweet_Mother - SMAPE :\" + str(smape(actual1,song1_predicitons.flatten())))\n",
    "axs[0].set_xlabel(\"Days\")\n",
    "axs[0].set_ylabel(\"Views\")\n",
    "axs[0].grid(True)\n",
    "axs[0].legend()\n",
    "\n",
    "\n",
    "song2 = df[df[\"article\"] == \"All_I_Want_for_Christmas_Is_You\"][features][-28:-14].values\n",
    "actual2 = df[df[\"article\"] == \"All_I_Want_for_Christmas_Is_You\"][target][-28:-14].values.flatten()\n",
    "song2_predicitons = np.zeros(len(song2))\n",
    "for i,v in enumerate(song2):\n",
    "    song2_predicitons[i] = predict(v,best_model)\n",
    "\n",
    "axs[1].plot(actual2,label=\"actual\")\n",
    "axs[1].plot(song2_predicitons.flatten(),label=\"predictions\")\n",
    "axs[1].title.set_text(\"All_I_Want_for_Christmas_Is_You - SMAPE :\" + str(smape(actual2,song2_predicitons.flatten())))\n",
    "axs[1].set_xlabel(\"Days\")\n",
    "axs[1].set_ylabel(\"Views\")\n",
    "axs[1].grid(True)\n",
    "axs[1].legend()"
   ]
  },
  {
   "cell_type": "code",
   "execution_count": 165,
   "metadata": {},
   "outputs": [
    {
     "data": {
      "text/plain": [
       "<AxesSubplot:>"
      ]
     },
     "execution_count": 165,
     "metadata": {},
     "output_type": "execute_result"
    },
    {
     "data": {
      "image/png": "[encoded data removed]",
      "text/plain": [
       "<Figure size 1080x720 with 1 Axes>"
      ]
     },
     "metadata": {},
     "output_type": "display_data"
    }
   ],
   "source": [
    "import seaborn as sns\n",
    "\n",
    "losses = {\"SMAPE\":[]}\n",
    "for song in df[\"article\"].unique():\n",
    "    input = df[df[\"article\"] == song][features][-14:].values\n",
    "    actual = df[df[\"article\"] == song][target][-14:].values.flatten() \n",
    "\n",
    "    preds = np.zeros(len(input))\n",
    "    for i,v in enumerate(input):\n",
    "        preds[i] = predict(v,best_model)\n",
    "    losses[\"SMAPE\"].append(smape(actual,preds.flatten()))\n",
    "sns.set(rc={'figure.figsize':(15,10)})\n",
    "sns.boxplot(data=pd.DataFrame(data=losses),orient=\"v\")"
   ]
  },
  {
   "cell_type": "code",
   "execution_count": 166,
   "metadata": {},
   "outputs": [
    {
     "data": {
      "application/vnd.plotly.v1+json": {
       "config": {
        "plotlyServerURL": "https://plot.ly"
       },
       "data": [
        {
         "alignmentgroup": "True",
         "hovertemplate": "Training Type=Training<br>Model=%{x}<br>Time=%{text}<extra></extra>",
         "legendgroup": "Training",
         "marker": {
          "color": "#4C78A8",
          "pattern": {
           "shape": ""
          }
         },
         "name": "Training",
         "offsetgroup": "Training",
         "orientation": "v",
         "showlegend": true,
         "text": [
          31,
          30
         ],
         "textposition": "auto",
         "type": "bar",
         "width": 0.4,
         "x": [
          "Deep Neural Network",
          "Lightgbm"
         ],
         "xaxis": "x",
         "y": [
          31,
          30
         ],
         "yaxis": "y"
        },
        {
         "alignmentgroup": "True",
         "hovertemplate": "Training Type=Optimizing<br>Model=%{x}<br>Time=%{text}<extra></extra>",
         "legendgroup": "Optimizing",
         "marker": {
          "color": "#F58518",
          "pattern": {
           "shape": ""
          }
         },
         "name": "Optimizing",
         "offsetgroup": "Optimizing",
         "orientation": "v",
         "showlegend": true,
         "text": [
          216,
          65
         ],
         "textposition": "auto",
         "type": "bar",
         "width": 0.4,
         "x": [
          "Deep Neural Network",
          "Lightgbm"
         ],
         "xaxis": "x",
         "y": [
          216,
          65
         ],
         "yaxis": "y"
        }
       ],
       "layout": {
        "annotations": [
         {
          "font": {
           "family": "Arial Black",
           "size": 15
          },
          "showarrow": false,
          "text": "Total: 247 Minutes (04h:07m)",
          "x": 0,
          "y": 260
         },
         {
          "font": {
           "family": "Arial Black",
           "size": 15
          },
          "showarrow": false,
          "text": "Total: 95 Minutes (01h:35m)",
          "x": 1,
          "y": 110
         }
        ],
        "barmode": "relative",
        "legend": {
         "bgcolor": "LightSteelBlue",
         "title": {
          "text": "Training Type"
         },
         "tracegroupgap": 0,
         "x": 1.25,
         "xanchor": "right",
         "y": 0,
         "yanchor": "bottom"
        },
        "margin": {
         "t": 60
        },
        "shapes": [
         {
          "line": {
           "color": "#4ae004",
           "dash": "dash",
           "width": 3
          },
          "type": "line",
          "x0": 0,
          "x1": 1,
          "xref": "x domain",
          "y0": 95,
          "y1": 95,
          "yref": "y"
         },
         {
          "line": {
           "color": "red",
           "dash": "dash",
           "width": 3
          },
          "type": "line",
          "x0": 0,
          "x1": 1,
          "xref": "x domain",
          "y0": 247,
          "y1": 247,
          "yref": "y"
         }
        ],
        "template": {
         "data": {
          "bar": [
           {
            "error_x": {
             "color": "#2a3f5f"
            },
            "error_y": {
             "color": "#2a3f5f"
            },
            "marker": {
             "line": {
              "color": "#E5ECF6",
              "width": 0.5
             },
             "pattern": {
              "fillmode": "overlay",
              "size": 10,
              "solidity": 0.2
             }
            },
            "type": "bar"
           }
          ],
          "barpolar": [
           {
            "marker": {
             "line": {
              "color": "#E5ECF6",
              "width": 0.5
             },
             "pattern": {
              "fillmode": "overlay",
              "size": 10,
              "solidity": 0.2
             }
            },
            "type": "barpolar"
           }
          ],
          "carpet": [
           {
            "aaxis": {
             "endlinecolor": "#2a3f5f",
             "gridcolor": "white",
             "linecolor": "white",
             "minorgridcolor": "white",
             "startlinecolor": "#2a3f5f"
            },
            "baxis": {
             "endlinecolor": "#2a3f5f",
             "gridcolor": "white",
             "linecolor": "white",
             "minorgridcolor": "white",
             "startlinecolor": "#2a3f5f"
            },
            "type": "carpet"
           }
          ],
          "choropleth": [
           {
            "colorbar": {
             "outlinewidth": 0,
             "ticks": ""
            },
            "type": "choropleth"
           }
          ],
          "contour": [
           {
            "colorbar": {
             "outlinewidth": 0,
             "ticks": ""
            },
            "colorscale": [
             [
              0,
              "#0d0887"
             ],
             [
              0.1111111111111111,
              "#46039f"
             ],
             [
              0.2222222222222222,
              "#7201a8"
             ],
             [
              0.3333333333333333,
              "#9c179e"
             ],
             [
              0.4444444444444444,
              "#bd3786"
             ],
             [
              0.5555555555555556,
              "#d8576b"
             ],
             [
              0.6666666666666666,
              "#ed7953"
             ],
             [
              0.7777777777777778,
              "#fb9f3a"
             ],
             [
              0.8888888888888888,
              "#fdca26"
             ],
             [
              1,
              "#f0f921"
             ]
            ],
            "type": "contour"
           }
          ],
          "contourcarpet": [
           {
            "colorbar": {
             "outlinewidth": 0,
             "ticks": ""
            },
            "type": "contourcarpet"
           }
          ],
          "heatmap": [
           {
            "colorbar": {
             "outlinewidth": 0,
             "ticks": ""
            },
            "colorscale": [
             [
              0,
              "#0d0887"
             ],
             [
              0.1111111111111111,
              "#46039f"
             ],
             [
              0.2222222222222222,
              "#7201a8"
             ],
             [
              0.3333333333333333,
              "#9c179e"
             ],
             [
              0.4444444444444444,
              "#bd3786"
             ],
             [
              0.5555555555555556,
              "#d8576b"
             ],
             [
              0.6666666666666666,
              "#ed7953"
             ],
             [
              0.7777777777777778,
              "#fb9f3a"
             ],
             [
              0.8888888888888888,
              "#fdca26"
             ],
             [
              1,
              "#f0f921"
             ]
            ],
            "type": "heatmap"
           }
          ],
          "heatmapgl": [
           {
            "colorbar": {
             "outlinewidth": 0,
             "ticks": ""
            },
            "colorscale": [
             [
              0,
              "#0d0887"
             ],
             [
              0.1111111111111111,
              "#46039f"
             ],
             [
              0.2222222222222222,
              "#7201a8"
             ],
             [
              0.3333333333333333,
              "#9c179e"
             ],
             [
              0.4444444444444444,
              "#bd3786"
             ],
             [
              0.5555555555555556,
              "#d8576b"
             ],
             [
              0.6666666666666666,
              "#ed7953"
             ],
             [
              0.7777777777777778,
              "#fb9f3a"
             ],
             [
              0.8888888888888888,
              "#fdca26"
             ],
             [
              1,
              "#f0f921"
             ]
            ],
            "type": "heatmapgl"
           }
          ],
          "histogram": [
           {
            "marker": {
             "pattern": {
              "fillmode": "overlay",
              "size": 10,
              "solidity": 0.2
             }
            },
            "type": "histogram"
           }
          ],
          "histogram2d": [
           {
            "colorbar": {
             "outlinewidth": 0,
             "ticks": ""
            },
            "colorscale": [
             [
              0,
              "#0d0887"
             ],
             [
              0.1111111111111111,
              "#46039f"
             ],
             [
              0.2222222222222222,
              "#7201a8"
             ],
             [
              0.3333333333333333,
              "#9c179e"
             ],
             [
              0.4444444444444444,
              "#bd3786"
             ],
             [
              0.5555555555555556,
              "#d8576b"
             ],
             [
              0.6666666666666666,
              "#ed7953"
             ],
             [
              0.7777777777777778,
              "#fb9f3a"
             ],
             [
              0.8888888888888888,
              "#fdca26"
             ],
             [
              1,
              "#f0f921"
             ]
            ],
            "type": "histogram2d"
           }
          ],
          "histogram2dcontour": [
           {
            "colorbar": {
             "outlinewidth": 0,
             "ticks": ""
            },
            "colorscale": [
             [
              0,
              "#0d0887"
             ],
             [
              0.1111111111111111,
              "#46039f"
             ],
             [
              0.2222222222222222,
              "#7201a8"
             ],
             [
              0.3333333333333333,
              "#9c179e"
             ],
             [
              0.4444444444444444,
              "#bd3786"
             ],
             [
              0.5555555555555556,
              "#d8576b"
             ],
             [
              0.6666666666666666,
              "#ed7953"
             ],
             [
              0.7777777777777778,
              "#fb9f3a"
             ],
             [
              0.8888888888888888,
              "#fdca26"
             ],
             [
              1,
              "#f0f921"
             ]
            ],
            "type": "histogram2dcontour"
           }
          ],
          "mesh3d": [
           {
            "colorbar": {
             "outlinewidth": 0,
             "ticks": ""
            },
            "type": "mesh3d"
           }
          ],
          "parcoords": [
           {
            "line": {
             "colorbar": {
              "outlinewidth": 0,
              "ticks": ""
             }
            },
            "type": "parcoords"
           }
          ],
          "pie": [
           {
            "automargin": true,
            "type": "pie"
           }
          ],
          "scatter": [
           {
            "fillpattern": {
             "fillmode": "overlay",
             "size": 10,
             "solidity": 0.2
            },
            "type": "scatter"
           }
          ],
          "scatter3d": [
           {
            "line": {
             "colorbar": {
              "outlinewidth": 0,
              "ticks": ""
             }
            },
            "marker": {
             "colorbar": {
              "outlinewidth": 0,
              "ticks": ""
             }
            },
            "type": "scatter3d"
           }
          ],
          "scattercarpet": [
           {
            "marker": {
             "colorbar": {
              "outlinewidth": 0,
              "ticks": ""
             }
            },
            "type": "scattercarpet"
           }
          ],
          "scattergeo": [
           {
            "marker": {
             "colorbar": {
              "outlinewidth": 0,
              "ticks": ""
             }
            },
            "type": "scattergeo"
           }
          ],
          "scattergl": [
           {
            "marker": {
             "colorbar": {
              "outlinewidth": 0,
              "ticks": ""
             }
            },
            "type": "scattergl"
           }
          ],
          "scattermapbox": [
           {
            "marker": {
             "colorbar": {
              "outlinewidth": 0,
              "ticks": ""
             }
            },
            "type": "scattermapbox"
           }
          ],
          "scatterpolar": [
           {
            "marker": {
             "colorbar": {
              "outlinewidth": 0,
              "ticks": ""
             }
            },
            "type": "scatterpolar"
           }
          ],
          "scatterpolargl": [
           {
            "marker": {
             "colorbar": {
              "outlinewidth": 0,
              "ticks": ""
             }
            },
            "type": "scatterpolargl"
           }
          ],
          "scatterternary": [
           {
            "marker": {
             "colorbar": {
              "outlinewidth": 0,
              "ticks": ""
             }
            },
            "type": "scatterternary"
           }
          ],
          "surface": [
           {
            "colorbar": {
             "outlinewidth": 0,
             "ticks": ""
            },
            "colorscale": [
             [
              0,
              "#0d0887"
             ],
             [
              0.1111111111111111,
              "#46039f"
             ],
             [
              0.2222222222222222,
              "#7201a8"
             ],
             [
              0.3333333333333333,
              "#9c179e"
             ],
             [
              0.4444444444444444,
              "#bd3786"
             ],
             [
              0.5555555555555556,
              "#d8576b"
             ],
             [
              0.6666666666666666,
              "#ed7953"
             ],
             [
              0.7777777777777778,
              "#fb9f3a"
             ],
             [
              0.8888888888888888,
              "#fdca26"
             ],
             [
              1,
              "#f0f921"
             ]
            ],
            "type": "surface"
           }
          ],
          "table": [
           {
            "cells": {
             "fill": {
              "color": "#EBF0F8"
             },
             "line": {
              "color": "white"
             }
            },
            "header": {
             "fill": {
              "color": "#C8D4E3"
             },
             "line": {
              "color": "white"
             }
            },
            "type": "table"
           }
          ]
         },
         "layout": {
          "annotationdefaults": {
           "arrowcolor": "#2a3f5f",
           "arrowhead": 0,
           "arrowwidth": 1
          },
          "autotypenumbers": "strict",
          "coloraxis": {
           "colorbar": {
            "outlinewidth": 0,
            "ticks": ""
           }
          },
          "colorscale": {
           "diverging": [
            [
             0,
             "#8e0152"
            ],
            [
             0.1,
             "#c51b7d"
            ],
            [
             0.2,
             "#de77ae"
            ],
            [
             0.3,
             "#f1b6da"
            ],
            [
             0.4,
             "#fde0ef"
            ],
            [
             0.5,
             "#f7f7f7"
            ],
            [
             0.6,
             "#e6f5d0"
            ],
            [
             0.7,
             "#b8e186"
            ],
            [
             0.8,
             "#7fbc41"
            ],
            [
             0.9,
             "#4d9221"
            ],
            [
             1,
             "#276419"
            ]
           ],
           "sequential": [
            [
             0,
             "#0d0887"
            ],
            [
             0.1111111111111111,
             "#46039f"
            ],
            [
             0.2222222222222222,
             "#7201a8"
            ],
            [
             0.3333333333333333,
             "#9c179e"
            ],
            [
             0.4444444444444444,
             "#bd3786"
            ],
            [
             0.5555555555555556,
             "#d8576b"
            ],
            [
             0.6666666666666666,
             "#ed7953"
            ],
            [
             0.7777777777777778,
             "#fb9f3a"
            ],
            [
             0.8888888888888888,
             "#fdca26"
            ],
            [
             1,
             "#f0f921"
            ]
           ],
           "sequentialminus": [
            [
             0,
             "#0d0887"
            ],
            [
             0.1111111111111111,
             "#46039f"
            ],
            [
             0.2222222222222222,
             "#7201a8"
            ],
            [
             0.3333333333333333,
             "#9c179e"
            ],
            [
             0.4444444444444444,
             "#bd3786"
            ],
            [
             0.5555555555555556,
             "#d8576b"
            ],
            [
             0.6666666666666666,
             "#ed7953"
            ],
            [
             0.7777777777777778,
             "#fb9f3a"
            ],
            [
             0.8888888888888888,
             "#fdca26"
            ],
            [
             1,
             "#f0f921"
            ]
           ]
          },
          "colorway": [
           "#636efa",
           "#EF553B",
           "#00cc96",
           "#ab63fa",
           "#FFA15A",
           "#19d3f3",
           "#FF6692",
           "#B6E880",
           "#FF97FF",
           "#FECB52"
          ],
          "font": {
           "color": "#2a3f5f"
          },
          "geo": {
           "bgcolor": "white",
           "lakecolor": "white",
           "landcolor": "#E5ECF6",
           "showlakes": true,
           "showland": true,
           "subunitcolor": "white"
          },
          "hoverlabel": {
           "align": "left"
          },
          "hovermode": "closest",
          "mapbox": {
           "style": "light"
          },
          "paper_bgcolor": "white",
          "plot_bgcolor": "#E5ECF6",
          "polar": {
           "angularaxis": {
            "gridcolor": "white",
            "linecolor": "white",
            "ticks": ""
           },
           "bgcolor": "#E5ECF6",
           "radialaxis": {
            "gridcolor": "white",
            "linecolor": "white",
            "ticks": ""
           }
          },
          "scene": {
           "xaxis": {
            "backgroundcolor": "#E5ECF6",
            "gridcolor": "white",
            "gridwidth": 2,
            "linecolor": "white",
            "showbackground": true,
            "ticks": "",
            "zerolinecolor": "white"
           },
           "yaxis": {
            "backgroundcolor": "#E5ECF6",
            "gridcolor": "white",
            "gridwidth": 2,
            "linecolor": "white",
            "showbackground": true,
            "ticks": "",
            "zerolinecolor": "white"
           },
           "zaxis": {
            "backgroundcolor": "#E5ECF6",
            "gridcolor": "white",
            "gridwidth": 2,
            "linecolor": "white",
            "showbackground": true,
            "ticks": "",
            "zerolinecolor": "white"
           }
          },
          "shapedefaults": {
           "line": {
            "color": "#2a3f5f"
           }
          },
          "ternary": {
           "aaxis": {
            "gridcolor": "white",
            "linecolor": "white",
            "ticks": ""
           },
           "baxis": {
            "gridcolor": "white",
            "linecolor": "white",
            "ticks": ""
           },
           "bgcolor": "#E5ECF6",
           "caxis": {
            "gridcolor": "white",
            "linecolor": "white",
            "ticks": ""
           }
          },
          "title": {
           "x": 0.05
          },
          "xaxis": {
           "automargin": true,
           "gridcolor": "white",
           "linecolor": "white",
           "ticks": "",
           "title": {
            "standoff": 15
           },
           "zerolinecolor": "white",
           "zerolinewidth": 2
          },
          "yaxis": {
           "automargin": true,
           "gridcolor": "white",
           "linecolor": "white",
           "ticks": "",
           "title": {
            "standoff": 15
           },
           "zerolinecolor": "white",
           "zerolinewidth": 2
          }
         }
        },
        "title": {
         "text": "Training Time",
         "x": 0.45
        },
        "xaxis": {
         "anchor": "y",
         "domain": [
          0,
          1
         ],
         "title": {
          "text": "Model"
         }
        },
        "yaxis": {
         "anchor": "x",
         "domain": [
          0,
          1
         ],
         "title": {
          "text": "Time in Minutes"
         }
        }
       }
      }
     },
     "metadata": {},
     "output_type": "display_data"
    }
   ],
   "source": [
    "import plotly.express as px\n",
    "import pandas as pd\n",
    "df = pd.DataFrame({\"Time\":[31,216,30,65],\n",
    "                   \"Model\":[\"Deep Neural Network\",\"Deep Neural Network\",\"Lightgbm\",\"Lightgbm\"],\n",
    "                   \"Training Type\":[\"Training\",\"Optimizing\"]*2\n",
    "                   })\n",
    "fig = px.bar(df,y=\"Time\",x=\"Model\",color=\"Training Type\",text=\"Time\",color_discrete_sequence=px.colors.qualitative.T10)\n",
    "fig.update_yaxes(title=\"Time in Minutes\")\n",
    "fig.update_layout(legend=dict(\n",
    "    yanchor=\"bottom\",\n",
    "    y=0,\n",
    "    xanchor=\"right\",\n",
    "    x=1.25,\n",
    "    bgcolor=\"LightSteelBlue\",\n",
    "),title={\n",
    "    \"text\":\"Training Time\",\n",
    "    \"x\":0.45\n",
    "})\n",
    "min = 99999\n",
    "max = 0\n",
    "\n",
    "counter = 0\n",
    "temp = 0\n",
    "for t,_,_ in df.values:\n",
    "    temp += t\n",
    "    counter += 1\n",
    "    if counter == 2:\n",
    "        if temp> max:\n",
    "            max = temp\n",
    "        elif temp < min:\n",
    "            min = temp\n",
    "        temp = 0\n",
    "        counter = 0\n",
    "\n",
    "fig.add_hline(min,line_width=3,line_dash=\"dash\",line_color=\"#4ae004\")\n",
    "fig.add_hline(max,line_width=3,line_dash=\"dash\",line_color=\"red\")\n",
    "fig.update_traces(width=0.4)\n",
    "fig.add_annotation(x=0, y=260,\n",
    "            text=\"Total: 247 Minutes (04h:07m)\",\n",
    "            showarrow=False,font_size=15,font_family=\"Arial Black\")\n",
    "fig.add_annotation(x=1, y=110,\n",
    "            text=\"Total: 95 Minutes (01h:35m)\",\n",
    "            showarrow=False,font_size=15,font_family=\"Arial Black\")\n",
    "fig.show()\n",
    "#fig.write_image(\"training_time.png\",format='png',engine='kaleido',scale=3)\n"
   ]
  }
 ],
 "metadata": {
  "kernelspec": {
   "display_name": "Python 3.9.13 64-bit (microsoft store)",
   "language": "python",
   "name": "python3"
  },
  "language_info": {
   "codemirror_mode": {
    "name": "ipython",
    "version": 3
   },
   "file_extension": ".py",
   "mimetype": "text/x-python",
   "name": "python",
   "nbconvert_exporter": "python",
   "pygments_lexer": "ipython3",
   "version": "3.9.13 (tags/v3.9.13:6de2ca5, May 17 2022, 16:36:42) [MSC v.1929 64 bit (AMD64)]"
  },
  "orig_nbformat": 4,
  "vscode": {
   "interpreter": {
    "hash": "d7baccf88227eab4c3a997091e3b8cad5657bd0277ceacd9564be0b0f999d1db"
   }
  }
 },
 "nbformat": 4,
 "nbformat_minor": 2
}
