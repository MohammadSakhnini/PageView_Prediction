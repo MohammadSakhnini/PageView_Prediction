{
 "cells": [
  {
   "cell_type": "code",
   "execution_count": 73,
   "outputs": [],
   "source": [
    "import requests\n",
    "from datetime import datetime\n",
    "from urllib import parse\n",
    "import pandas as pd\n",
    "import json\n",
    "import os\n",
    "import numpy as np\n",
    "import glob"
   ],
   "metadata": {
    "collapsed": false,
    "pycharm": {
     "name": "#%%\n"
    }
   }
  },
  {
   "cell_type": "code",
   "execution_count": 15,
   "outputs": [
    {
     "data": {
      "text/plain": "<requests.sessions.Session at 0x26f2412f3a0>"
     },
     "execution_count": 15,
     "metadata": {},
     "output_type": "execute_result"
    }
   ],
   "source": [
    "URL = \"https://wikimedia.org/api/rest_v1/\"\n",
    "HEADERS = {\"Accept\":\"application/json\",\"user-agent\":\"test123@gmail.com\"}\n",
    "SESSION = requests.Session()"
   ],
   "metadata": {
    "collapsed": false,
    "pycharm": {
     "name": "#%%\n"
    }
   }
  },
  {
   "cell_type": "code",
   "execution_count": 14,
   "outputs": [
    {
     "data": {
      "text/plain": "[{'project': 'de.wikipedia',\n  'article': 'Minecraft',\n  'granularity': 'daily',\n  'timestamp': '2020010100',\n  'access': 'all-access',\n  'agent': 'user',\n  'views': 1458},\n {'project': 'de.wikipedia',\n  'article': 'Minecraft',\n  'granularity': 'daily',\n  'timestamp': '2020010200',\n  'access': 'all-access',\n  'agent': 'user',\n  'views': 1400},\n {'project': 'de.wikipedia',\n  'article': 'Minecraft',\n  'granularity': 'daily',\n  'timestamp': '2020010300',\n  'access': 'all-access',\n  'agent': 'user',\n  'views': 1474},\n {'project': 'de.wikipedia',\n  'article': 'Minecraft',\n  'granularity': 'daily',\n  'timestamp': '2020010400',\n  'access': 'all-access',\n  'agent': 'user',\n  'views': 1448},\n {'project': 'de.wikipedia',\n  'article': 'Minecraft',\n  'granularity': 'daily',\n  'timestamp': '2020010500',\n  'access': 'all-access',\n  'agent': 'user',\n  'views': 1572},\n {'project': 'de.wikipedia',\n  'article': 'Minecraft',\n  'granularity': 'daily',\n  'timestamp': '2020010600',\n  'access': 'all-access',\n  'agent': 'user',\n  'views': 1286},\n {'project': 'de.wikipedia',\n  'article': 'Minecraft',\n  'granularity': 'daily',\n  'timestamp': '2020010700',\n  'access': 'all-access',\n  'agent': 'user',\n  'views': 1155},\n {'project': 'de.wikipedia',\n  'article': 'Minecraft',\n  'granularity': 'daily',\n  'timestamp': '2020010800',\n  'access': 'all-access',\n  'agent': 'user',\n  'views': 1153},\n {'project': 'de.wikipedia',\n  'article': 'Minecraft',\n  'granularity': 'daily',\n  'timestamp': '2020010900',\n  'access': 'all-access',\n  'agent': 'user',\n  'views': 1187},\n {'project': 'de.wikipedia',\n  'article': 'Minecraft',\n  'granularity': 'daily',\n  'timestamp': '2020011000',\n  'access': 'all-access',\n  'agent': 'user',\n  'views': 1311},\n {'project': 'de.wikipedia',\n  'article': 'Minecraft',\n  'granularity': 'daily',\n  'timestamp': '2020011100',\n  'access': 'all-access',\n  'agent': 'user',\n  'views': 1197},\n {'project': 'de.wikipedia',\n  'article': 'Minecraft',\n  'granularity': 'daily',\n  'timestamp': '2020011200',\n  'access': 'all-access',\n  'agent': 'user',\n  'views': 1290},\n {'project': 'de.wikipedia',\n  'article': 'Minecraft',\n  'granularity': 'daily',\n  'timestamp': '2020011300',\n  'access': 'all-access',\n  'agent': 'user',\n  'views': 1098},\n {'project': 'de.wikipedia',\n  'article': 'Minecraft',\n  'granularity': 'daily',\n  'timestamp': '2020011400',\n  'access': 'all-access',\n  'agent': 'user',\n  'views': 1110},\n {'project': 'de.wikipedia',\n  'article': 'Minecraft',\n  'granularity': 'daily',\n  'timestamp': '2020011500',\n  'access': 'all-access',\n  'agent': 'user',\n  'views': 1245},\n {'project': 'de.wikipedia',\n  'article': 'Minecraft',\n  'granularity': 'daily',\n  'timestamp': '2020011600',\n  'access': 'all-access',\n  'agent': 'user',\n  'views': 1023},\n {'project': 'de.wikipedia',\n  'article': 'Minecraft',\n  'granularity': 'daily',\n  'timestamp': '2020011700',\n  'access': 'all-access',\n  'agent': 'user',\n  'views': 1209},\n {'project': 'de.wikipedia',\n  'article': 'Minecraft',\n  'granularity': 'daily',\n  'timestamp': '2020011800',\n  'access': 'all-access',\n  'agent': 'user',\n  'views': 1188},\n {'project': 'de.wikipedia',\n  'article': 'Minecraft',\n  'granularity': 'daily',\n  'timestamp': '2020011900',\n  'access': 'all-access',\n  'agent': 'user',\n  'views': 1313},\n {'project': 'de.wikipedia',\n  'article': 'Minecraft',\n  'granularity': 'daily',\n  'timestamp': '2020012000',\n  'access': 'all-access',\n  'agent': 'user',\n  'views': 1055},\n {'project': 'de.wikipedia',\n  'article': 'Minecraft',\n  'granularity': 'daily',\n  'timestamp': '2020012100',\n  'access': 'all-access',\n  'agent': 'user',\n  'views': 1068},\n {'project': 'de.wikipedia',\n  'article': 'Minecraft',\n  'granularity': 'daily',\n  'timestamp': '2020012200',\n  'access': 'all-access',\n  'agent': 'user',\n  'views': 987},\n {'project': 'de.wikipedia',\n  'article': 'Minecraft',\n  'granularity': 'daily',\n  'timestamp': '2020012300',\n  'access': 'all-access',\n  'agent': 'user',\n  'views': 943},\n {'project': 'de.wikipedia',\n  'article': 'Minecraft',\n  'granularity': 'daily',\n  'timestamp': '2020012400',\n  'access': 'all-access',\n  'agent': 'user',\n  'views': 1022},\n {'project': 'de.wikipedia',\n  'article': 'Minecraft',\n  'granularity': 'daily',\n  'timestamp': '2020012500',\n  'access': 'all-access',\n  'agent': 'user',\n  'views': 1168},\n {'project': 'de.wikipedia',\n  'article': 'Minecraft',\n  'granularity': 'daily',\n  'timestamp': '2020012600',\n  'access': 'all-access',\n  'agent': 'user',\n  'views': 1169},\n {'project': 'de.wikipedia',\n  'article': 'Minecraft',\n  'granularity': 'daily',\n  'timestamp': '2020012700',\n  'access': 'all-access',\n  'agent': 'user',\n  'views': 1026},\n {'project': 'de.wikipedia',\n  'article': 'Minecraft',\n  'granularity': 'daily',\n  'timestamp': '2020012800',\n  'access': 'all-access',\n  'agent': 'user',\n  'views': 1118},\n {'project': 'de.wikipedia',\n  'article': 'Minecraft',\n  'granularity': 'daily',\n  'timestamp': '2020012900',\n  'access': 'all-access',\n  'agent': 'user',\n  'views': 977},\n {'project': 'de.wikipedia',\n  'article': 'Minecraft',\n  'granularity': 'daily',\n  'timestamp': '2020013000',\n  'access': 'all-access',\n  'agent': 'user',\n  'views': 930},\n {'project': 'de.wikipedia',\n  'article': 'Minecraft',\n  'granularity': 'daily',\n  'timestamp': '2020013100',\n  'access': 'all-access',\n  'agent': 'user',\n  'views': 961},\n {'project': 'de.wikipedia',\n  'article': 'Minecraft',\n  'granularity': 'daily',\n  'timestamp': '2020020100',\n  'access': 'all-access',\n  'agent': 'user',\n  'views': 1614},\n {'project': 'de.wikipedia',\n  'article': 'Minecraft',\n  'granularity': 'daily',\n  'timestamp': '2020020200',\n  'access': 'all-access',\n  'agent': 'user',\n  'views': 1175},\n {'project': 'de.wikipedia',\n  'article': 'Minecraft',\n  'granularity': 'daily',\n  'timestamp': '2020020300',\n  'access': 'all-access',\n  'agent': 'user',\n  'views': 1243},\n {'project': 'de.wikipedia',\n  'article': 'Minecraft',\n  'granularity': 'daily',\n  'timestamp': '2020020400',\n  'access': 'all-access',\n  'agent': 'user',\n  'views': 1016},\n {'project': 'de.wikipedia',\n  'article': 'Minecraft',\n  'granularity': 'daily',\n  'timestamp': '2020020500',\n  'access': 'all-access',\n  'agent': 'user',\n  'views': 990},\n {'project': 'de.wikipedia',\n  'article': 'Minecraft',\n  'granularity': 'daily',\n  'timestamp': '2020020600',\n  'access': 'all-access',\n  'agent': 'user',\n  'views': 931},\n {'project': 'de.wikipedia',\n  'article': 'Minecraft',\n  'granularity': 'daily',\n  'timestamp': '2020020700',\n  'access': 'all-access',\n  'agent': 'user',\n  'views': 1000},\n {'project': 'de.wikipedia',\n  'article': 'Minecraft',\n  'granularity': 'daily',\n  'timestamp': '2020020800',\n  'access': 'all-access',\n  'agent': 'user',\n  'views': 1085},\n {'project': 'de.wikipedia',\n  'article': 'Minecraft',\n  'granularity': 'daily',\n  'timestamp': '2020020900',\n  'access': 'all-access',\n  'agent': 'user',\n  'views': 1109},\n {'project': 'de.wikipedia',\n  'article': 'Minecraft',\n  'granularity': 'daily',\n  'timestamp': '2020021000',\n  'access': 'all-access',\n  'agent': 'user',\n  'views': 1064},\n {'project': 'de.wikipedia',\n  'article': 'Minecraft',\n  'granularity': 'daily',\n  'timestamp': '2020021100',\n  'access': 'all-access',\n  'agent': 'user',\n  'views': 1033},\n {'project': 'de.wikipedia',\n  'article': 'Minecraft',\n  'granularity': 'daily',\n  'timestamp': '2020021200',\n  'access': 'all-access',\n  'agent': 'user',\n  'views': 1013},\n {'project': 'de.wikipedia',\n  'article': 'Minecraft',\n  'granularity': 'daily',\n  'timestamp': '2020021300',\n  'access': 'all-access',\n  'agent': 'user',\n  'views': 869},\n {'project': 'de.wikipedia',\n  'article': 'Minecraft',\n  'granularity': 'daily',\n  'timestamp': '2020021400',\n  'access': 'all-access',\n  'agent': 'user',\n  'views': 967},\n {'project': 'de.wikipedia',\n  'article': 'Minecraft',\n  'granularity': 'daily',\n  'timestamp': '2020021500',\n  'access': 'all-access',\n  'agent': 'user',\n  'views': 1028},\n {'project': 'de.wikipedia',\n  'article': 'Minecraft',\n  'granularity': 'daily',\n  'timestamp': '2020021600',\n  'access': 'all-access',\n  'agent': 'user',\n  'views': 1078},\n {'project': 'de.wikipedia',\n  'article': 'Minecraft',\n  'granularity': 'daily',\n  'timestamp': '2020021700',\n  'access': 'all-access',\n  'agent': 'user',\n  'views': 898},\n {'project': 'de.wikipedia',\n  'article': 'Minecraft',\n  'granularity': 'daily',\n  'timestamp': '2020021800',\n  'access': 'all-access',\n  'agent': 'user',\n  'views': 1005},\n {'project': 'de.wikipedia',\n  'article': 'Minecraft',\n  'granularity': 'daily',\n  'timestamp': '2020021900',\n  'access': 'all-access',\n  'agent': 'user',\n  'views': 956},\n {'project': 'de.wikipedia',\n  'article': 'Minecraft',\n  'granularity': 'daily',\n  'timestamp': '2020022000',\n  'access': 'all-access',\n  'agent': 'user',\n  'views': 870},\n {'project': 'de.wikipedia',\n  'article': 'Minecraft',\n  'granularity': 'daily',\n  'timestamp': '2020022100',\n  'access': 'all-access',\n  'agent': 'user',\n  'views': 841},\n {'project': 'de.wikipedia',\n  'article': 'Minecraft',\n  'granularity': 'daily',\n  'timestamp': '2020022200',\n  'access': 'all-access',\n  'agent': 'user',\n  'views': 962},\n {'project': 'de.wikipedia',\n  'article': 'Minecraft',\n  'granularity': 'daily',\n  'timestamp': '2020022300',\n  'access': 'all-access',\n  'agent': 'user',\n  'views': 1067},\n {'project': 'de.wikipedia',\n  'article': 'Minecraft',\n  'granularity': 'daily',\n  'timestamp': '2020022400',\n  'access': 'all-access',\n  'agent': 'user',\n  'views': 999},\n {'project': 'de.wikipedia',\n  'article': 'Minecraft',\n  'granularity': 'daily',\n  'timestamp': '2020022500',\n  'access': 'all-access',\n  'agent': 'user',\n  'views': 1004},\n {'project': 'de.wikipedia',\n  'article': 'Minecraft',\n  'granularity': 'daily',\n  'timestamp': '2020022600',\n  'access': 'all-access',\n  'agent': 'user',\n  'views': 959},\n {'project': 'de.wikipedia',\n  'article': 'Minecraft',\n  'granularity': 'daily',\n  'timestamp': '2020022700',\n  'access': 'all-access',\n  'agent': 'user',\n  'views': 968},\n {'project': 'de.wikipedia',\n  'article': 'Minecraft',\n  'granularity': 'daily',\n  'timestamp': '2020022800',\n  'access': 'all-access',\n  'agent': 'user',\n  'views': 824},\n {'project': 'de.wikipedia',\n  'article': 'Minecraft',\n  'granularity': 'daily',\n  'timestamp': '2020022900',\n  'access': 'all-access',\n  'agent': 'user',\n  'views': 962},\n {'project': 'de.wikipedia',\n  'article': 'Minecraft',\n  'granularity': 'daily',\n  'timestamp': '2020030100',\n  'access': 'all-access',\n  'agent': 'user',\n  'views': 975},\n {'project': 'de.wikipedia',\n  'article': 'Minecraft',\n  'granularity': 'daily',\n  'timestamp': '2020030200',\n  'access': 'all-access',\n  'agent': 'user',\n  'views': 860},\n {'project': 'de.wikipedia',\n  'article': 'Minecraft',\n  'granularity': 'daily',\n  'timestamp': '2020030300',\n  'access': 'all-access',\n  'agent': 'user',\n  'views': 919},\n {'project': 'de.wikipedia',\n  'article': 'Minecraft',\n  'granularity': 'daily',\n  'timestamp': '2020030400',\n  'access': 'all-access',\n  'agent': 'user',\n  'views': 856},\n {'project': 'de.wikipedia',\n  'article': 'Minecraft',\n  'granularity': 'daily',\n  'timestamp': '2020030500',\n  'access': 'all-access',\n  'agent': 'user',\n  'views': 913},\n {'project': 'de.wikipedia',\n  'article': 'Minecraft',\n  'granularity': 'daily',\n  'timestamp': '2020030600',\n  'access': 'all-access',\n  'agent': 'user',\n  'views': 1031},\n {'project': 'de.wikipedia',\n  'article': 'Minecraft',\n  'granularity': 'daily',\n  'timestamp': '2020030700',\n  'access': 'all-access',\n  'agent': 'user',\n  'views': 1027},\n {'project': 'de.wikipedia',\n  'article': 'Minecraft',\n  'granularity': 'daily',\n  'timestamp': '2020030800',\n  'access': 'all-access',\n  'agent': 'user',\n  'views': 972},\n {'project': 'de.wikipedia',\n  'article': 'Minecraft',\n  'granularity': 'daily',\n  'timestamp': '2020030900',\n  'access': 'all-access',\n  'agent': 'user',\n  'views': 947},\n {'project': 'de.wikipedia',\n  'article': 'Minecraft',\n  'granularity': 'daily',\n  'timestamp': '2020031000',\n  'access': 'all-access',\n  'agent': 'user',\n  'views': 986},\n {'project': 'de.wikipedia',\n  'article': 'Minecraft',\n  'granularity': 'daily',\n  'timestamp': '2020031100',\n  'access': 'all-access',\n  'agent': 'user',\n  'views': 1031},\n {'project': 'de.wikipedia',\n  'article': 'Minecraft',\n  'granularity': 'daily',\n  'timestamp': '2020031200',\n  'access': 'all-access',\n  'agent': 'user',\n  'views': 1042},\n {'project': 'de.wikipedia',\n  'article': 'Minecraft',\n  'granularity': 'daily',\n  'timestamp': '2020031300',\n  'access': 'all-access',\n  'agent': 'user',\n  'views': 1007},\n {'project': 'de.wikipedia',\n  'article': 'Minecraft',\n  'granularity': 'daily',\n  'timestamp': '2020031400',\n  'access': 'all-access',\n  'agent': 'user',\n  'views': 1082},\n {'project': 'de.wikipedia',\n  'article': 'Minecraft',\n  'granularity': 'daily',\n  'timestamp': '2020031500',\n  'access': 'all-access',\n  'agent': 'user',\n  'views': 1204},\n {'project': 'de.wikipedia',\n  'article': 'Minecraft',\n  'granularity': 'daily',\n  'timestamp': '2020031600',\n  'access': 'all-access',\n  'agent': 'user',\n  'views': 1096},\n {'project': 'de.wikipedia',\n  'article': 'Minecraft',\n  'granularity': 'daily',\n  'timestamp': '2020031700',\n  'access': 'all-access',\n  'agent': 'user',\n  'views': 1082},\n {'project': 'de.wikipedia',\n  'article': 'Minecraft',\n  'granularity': 'daily',\n  'timestamp': '2020031800',\n  'access': 'all-access',\n  'agent': 'user',\n  'views': 1090},\n {'project': 'de.wikipedia',\n  'article': 'Minecraft',\n  'granularity': 'daily',\n  'timestamp': '2020031900',\n  'access': 'all-access',\n  'agent': 'user',\n  'views': 1078},\n {'project': 'de.wikipedia',\n  'article': 'Minecraft',\n  'granularity': 'daily',\n  'timestamp': '2020032000',\n  'access': 'all-access',\n  'agent': 'user',\n  'views': 1395},\n {'project': 'de.wikipedia',\n  'article': 'Minecraft',\n  'granularity': 'daily',\n  'timestamp': '2020032100',\n  'access': 'all-access',\n  'agent': 'user',\n  'views': 1517},\n {'project': 'de.wikipedia',\n  'article': 'Minecraft',\n  'granularity': 'daily',\n  'timestamp': '2020032200',\n  'access': 'all-access',\n  'agent': 'user',\n  'views': 1419},\n {'project': 'de.wikipedia',\n  'article': 'Minecraft',\n  'granularity': 'daily',\n  'timestamp': '2020032300',\n  'access': 'all-access',\n  'agent': 'user',\n  'views': 1340},\n {'project': 'de.wikipedia',\n  'article': 'Minecraft',\n  'granularity': 'daily',\n  'timestamp': '2020032400',\n  'access': 'all-access',\n  'agent': 'user',\n  'views': 1326},\n {'project': 'de.wikipedia',\n  'article': 'Minecraft',\n  'granularity': 'daily',\n  'timestamp': '2020032500',\n  'access': 'all-access',\n  'agent': 'user',\n  'views': 1336},\n {'project': 'de.wikipedia',\n  'article': 'Minecraft',\n  'granularity': 'daily',\n  'timestamp': '2020032600',\n  'access': 'all-access',\n  'agent': 'user',\n  'views': 1282},\n {'project': 'de.wikipedia',\n  'article': 'Minecraft',\n  'granularity': 'daily',\n  'timestamp': '2020032700',\n  'access': 'all-access',\n  'agent': 'user',\n  'views': 1367},\n {'project': 'de.wikipedia',\n  'article': 'Minecraft',\n  'granularity': 'daily',\n  'timestamp': '2020032800',\n  'access': 'all-access',\n  'agent': 'user',\n  'views': 1331},\n {'project': 'de.wikipedia',\n  'article': 'Minecraft',\n  'granularity': 'daily',\n  'timestamp': '2020032900',\n  'access': 'all-access',\n  'agent': 'user',\n  'views': 1457},\n {'project': 'de.wikipedia',\n  'article': 'Minecraft',\n  'granularity': 'daily',\n  'timestamp': '2020033000',\n  'access': 'all-access',\n  'agent': 'user',\n  'views': 1475},\n {'project': 'de.wikipedia',\n  'article': 'Minecraft',\n  'granularity': 'daily',\n  'timestamp': '2020033100',\n  'access': 'all-access',\n  'agent': 'user',\n  'views': 1532},\n {'project': 'de.wikipedia',\n  'article': 'Minecraft',\n  'granularity': 'daily',\n  'timestamp': '2020040100',\n  'access': 'all-access',\n  'agent': 'user',\n  'views': 1446},\n {'project': 'de.wikipedia',\n  'article': 'Minecraft',\n  'granularity': 'daily',\n  'timestamp': '2020040200',\n  'access': 'all-access',\n  'agent': 'user',\n  'views': 1412},\n {'project': 'de.wikipedia',\n  'article': 'Minecraft',\n  'granularity': 'daily',\n  'timestamp': '2020040300',\n  'access': 'all-access',\n  'agent': 'user',\n  'views': 1466},\n {'project': 'de.wikipedia',\n  'article': 'Minecraft',\n  'granularity': 'daily',\n  'timestamp': '2020040400',\n  'access': 'all-access',\n  'agent': 'user',\n  'views': 1484},\n {'project': 'de.wikipedia',\n  'article': 'Minecraft',\n  'granularity': 'daily',\n  'timestamp': '2020040500',\n  'access': 'all-access',\n  'agent': 'user',\n  'views': 1334},\n {'project': 'de.wikipedia',\n  'article': 'Minecraft',\n  'granularity': 'daily',\n  'timestamp': '2020040600',\n  'access': 'all-access',\n  'agent': 'user',\n  'views': 1245},\n {'project': 'de.wikipedia',\n  'article': 'Minecraft',\n  'granularity': 'daily',\n  'timestamp': '2020040700',\n  'access': 'all-access',\n  'agent': 'user',\n  'views': 1266},\n {'project': 'de.wikipedia',\n  'article': 'Minecraft',\n  'granularity': 'daily',\n  'timestamp': '2020040800',\n  'access': 'all-access',\n  'agent': 'user',\n  'views': 1330},\n {'project': 'de.wikipedia',\n  'article': 'Minecraft',\n  'granularity': 'daily',\n  'timestamp': '2020040900',\n  'access': 'all-access',\n  'agent': 'user',\n  'views': 1380},\n {'project': 'de.wikipedia',\n  'article': 'Minecraft',\n  'granularity': 'daily',\n  'timestamp': '2020041000',\n  'access': 'all-access',\n  'agent': 'user',\n  'views': 1870},\n {'project': 'de.wikipedia',\n  'article': 'Minecraft',\n  'granularity': 'daily',\n  'timestamp': '2020041100',\n  'access': 'all-access',\n  'agent': 'user',\n  'views': 1808},\n {'project': 'de.wikipedia',\n  'article': 'Minecraft',\n  'granularity': 'daily',\n  'timestamp': '2020041200',\n  'access': 'all-access',\n  'agent': 'user',\n  'views': 2107},\n {'project': 'de.wikipedia',\n  'article': 'Minecraft',\n  'granularity': 'daily',\n  'timestamp': '2020041300',\n  'access': 'all-access',\n  'agent': 'user',\n  'views': 1986},\n {'project': 'de.wikipedia',\n  'article': 'Minecraft',\n  'granularity': 'daily',\n  'timestamp': '2020041400',\n  'access': 'all-access',\n  'agent': 'user',\n  'views': 1835},\n {'project': 'de.wikipedia',\n  'article': 'Minecraft',\n  'granularity': 'daily',\n  'timestamp': '2020041500',\n  'access': 'all-access',\n  'agent': 'user',\n  'views': 1620},\n {'project': 'de.wikipedia',\n  'article': 'Minecraft',\n  'granularity': 'daily',\n  'timestamp': '2020041600',\n  'access': 'all-access',\n  'agent': 'user',\n  'views': 1542},\n {'project': 'de.wikipedia',\n  'article': 'Minecraft',\n  'granularity': 'daily',\n  'timestamp': '2020041700',\n  'access': 'all-access',\n  'agent': 'user',\n  'views': 1545},\n {'project': 'de.wikipedia',\n  'article': 'Minecraft',\n  'granularity': 'daily',\n  'timestamp': '2020041800',\n  'access': 'all-access',\n  'agent': 'user',\n  'views': 1524},\n {'project': 'de.wikipedia',\n  'article': 'Minecraft',\n  'granularity': 'daily',\n  'timestamp': '2020041900',\n  'access': 'all-access',\n  'agent': 'user',\n  'views': 1672},\n {'project': 'de.wikipedia',\n  'article': 'Minecraft',\n  'granularity': 'daily',\n  'timestamp': '2020042000',\n  'access': 'all-access',\n  'agent': 'user',\n  'views': 1481},\n {'project': 'de.wikipedia',\n  'article': 'Minecraft',\n  'granularity': 'daily',\n  'timestamp': '2020042100',\n  'access': 'all-access',\n  'agent': 'user',\n  'views': 1427},\n {'project': 'de.wikipedia',\n  'article': 'Minecraft',\n  'granularity': 'daily',\n  'timestamp': '2020042200',\n  'access': 'all-access',\n  'agent': 'user',\n  'views': 1390},\n {'project': 'de.wikipedia',\n  'article': 'Minecraft',\n  'granularity': 'daily',\n  'timestamp': '2020042300',\n  'access': 'all-access',\n  'agent': 'user',\n  'views': 1318},\n {'project': 'de.wikipedia',\n  'article': 'Minecraft',\n  'granularity': 'daily',\n  'timestamp': '2020042400',\n  'access': 'all-access',\n  'agent': 'user',\n  'views': 1390},\n {'project': 'de.wikipedia',\n  'article': 'Minecraft',\n  'granularity': 'daily',\n  'timestamp': '2020042500',\n  'access': 'all-access',\n  'agent': 'user',\n  'views': 1456},\n {'project': 'de.wikipedia',\n  'article': 'Minecraft',\n  'granularity': 'daily',\n  'timestamp': '2020042600',\n  'access': 'all-access',\n  'agent': 'user',\n  'views': 1457},\n {'project': 'de.wikipedia',\n  'article': 'Minecraft',\n  'granularity': 'daily',\n  'timestamp': '2020042700',\n  'access': 'all-access',\n  'agent': 'user',\n  'views': 1467},\n {'project': 'de.wikipedia',\n  'article': 'Minecraft',\n  'granularity': 'daily',\n  'timestamp': '2020042800',\n  'access': 'all-access',\n  'agent': 'user',\n  'views': 1477},\n {'project': 'de.wikipedia',\n  'article': 'Minecraft',\n  'granularity': 'daily',\n  'timestamp': '2020042900',\n  'access': 'all-access',\n  'agent': 'user',\n  'views': 1390},\n {'project': 'de.wikipedia',\n  'article': 'Minecraft',\n  'granularity': 'daily',\n  'timestamp': '2020043000',\n  'access': 'all-access',\n  'agent': 'user',\n  'views': 1470},\n {'project': 'de.wikipedia',\n  'article': 'Minecraft',\n  'granularity': 'daily',\n  'timestamp': '2020050100',\n  'access': 'all-access',\n  'agent': 'user',\n  'views': 1596},\n {'project': 'de.wikipedia',\n  'article': 'Minecraft',\n  'granularity': 'daily',\n  'timestamp': '2020050200',\n  'access': 'all-access',\n  'agent': 'user',\n  'views': 1472},\n {'project': 'de.wikipedia',\n  'article': 'Minecraft',\n  'granularity': 'daily',\n  'timestamp': '2020050300',\n  'access': 'all-access',\n  'agent': 'user',\n  'views': 1536},\n {'project': 'de.wikipedia',\n  'article': 'Minecraft',\n  'granularity': 'daily',\n  'timestamp': '2020050400',\n  'access': 'all-access',\n  'agent': 'user',\n  'views': 1387},\n {'project': 'de.wikipedia',\n  'article': 'Minecraft',\n  'granularity': 'daily',\n  'timestamp': '2020050500',\n  'access': 'all-access',\n  'agent': 'user',\n  'views': 1266},\n {'project': 'de.wikipedia',\n  'article': 'Minecraft',\n  'granularity': 'daily',\n  'timestamp': '2020050600',\n  'access': 'all-access',\n  'agent': 'user',\n  'views': 1324},\n {'project': 'de.wikipedia',\n  'article': 'Minecraft',\n  'granularity': 'daily',\n  'timestamp': '2020050700',\n  'access': 'all-access',\n  'agent': 'user',\n  'views': 1221},\n {'project': 'de.wikipedia',\n  'article': 'Minecraft',\n  'granularity': 'daily',\n  'timestamp': '2020050800',\n  'access': 'all-access',\n  'agent': 'user',\n  'views': 1283},\n {'project': 'de.wikipedia',\n  'article': 'Minecraft',\n  'granularity': 'daily',\n  'timestamp': '2020050900',\n  'access': 'all-access',\n  'agent': 'user',\n  'views': 1275},\n {'project': 'de.wikipedia',\n  'article': 'Minecraft',\n  'granularity': 'daily',\n  'timestamp': '2020051000',\n  'access': 'all-access',\n  'agent': 'user',\n  'views': 1325},\n {'project': 'de.wikipedia',\n  'article': 'Minecraft',\n  'granularity': 'daily',\n  'timestamp': '2020051100',\n  'access': 'all-access',\n  'agent': 'user',\n  'views': 1446},\n {'project': 'de.wikipedia',\n  'article': 'Minecraft',\n  'granularity': 'daily',\n  'timestamp': '2020051200',\n  'access': 'all-access',\n  'agent': 'user',\n  'views': 1273},\n {'project': 'de.wikipedia',\n  'article': 'Minecraft',\n  'granularity': 'daily',\n  'timestamp': '2020051300',\n  'access': 'all-access',\n  'agent': 'user',\n  'views': 1394},\n {'project': 'de.wikipedia',\n  'article': 'Minecraft',\n  'granularity': 'daily',\n  'timestamp': '2020051400',\n  'access': 'all-access',\n  'agent': 'user',\n  'views': 1306},\n {'project': 'de.wikipedia',\n  'article': 'Minecraft',\n  'granularity': 'daily',\n  'timestamp': '2020051500',\n  'access': 'all-access',\n  'agent': 'user',\n  'views': 1347},\n {'project': 'de.wikipedia',\n  'article': 'Minecraft',\n  'granularity': 'daily',\n  'timestamp': '2020051600',\n  'access': 'all-access',\n  'agent': 'user',\n  'views': 1430},\n {'project': 'de.wikipedia',\n  'article': 'Minecraft',\n  'granularity': 'daily',\n  'timestamp': '2020051700',\n  'access': 'all-access',\n  'agent': 'user',\n  'views': 1831},\n {'project': 'de.wikipedia',\n  'article': 'Minecraft',\n  'granularity': 'daily',\n  'timestamp': '2020051800',\n  'access': 'all-access',\n  'agent': 'user',\n  'views': 1394},\n {'project': 'de.wikipedia',\n  'article': 'Minecraft',\n  'granularity': 'daily',\n  'timestamp': '2020051900',\n  'access': 'all-access',\n  'agent': 'user',\n  'views': 1320},\n {'project': 'de.wikipedia',\n  'article': 'Minecraft',\n  'granularity': 'daily',\n  'timestamp': '2020052000',\n  'access': 'all-access',\n  'agent': 'user',\n  'views': 1263},\n {'project': 'de.wikipedia',\n  'article': 'Minecraft',\n  'granularity': 'daily',\n  'timestamp': '2020052100',\n  'access': 'all-access',\n  'agent': 'user',\n  'views': 1065},\n {'project': 'de.wikipedia',\n  'article': 'Minecraft',\n  'granularity': 'daily',\n  'timestamp': '2020052200',\n  'access': 'all-access',\n  'agent': 'user',\n  'views': 1175},\n {'project': 'de.wikipedia',\n  'article': 'Minecraft',\n  'granularity': 'daily',\n  'timestamp': '2020052300',\n  'access': 'all-access',\n  'agent': 'user',\n  'views': 1517},\n {'project': 'de.wikipedia',\n  'article': 'Minecraft',\n  'granularity': 'daily',\n  'timestamp': '2020052400',\n  'access': 'all-access',\n  'agent': 'user',\n  'views': 1486},\n {'project': 'de.wikipedia',\n  'article': 'Minecraft',\n  'granularity': 'daily',\n  'timestamp': '2020052500',\n  'access': 'all-access',\n  'agent': 'user',\n  'views': 1835},\n {'project': 'de.wikipedia',\n  'article': 'Minecraft',\n  'granularity': 'daily',\n  'timestamp': '2020052600',\n  'access': 'all-access',\n  'agent': 'user',\n  'views': 1750},\n {'project': 'de.wikipedia',\n  'article': 'Minecraft',\n  'granularity': 'daily',\n  'timestamp': '2020052700',\n  'access': 'all-access',\n  'agent': 'user',\n  'views': 1358},\n {'project': 'de.wikipedia',\n  'article': 'Minecraft',\n  'granularity': 'daily',\n  'timestamp': '2020052800',\n  'access': 'all-access',\n  'agent': 'user',\n  'views': 1200},\n {'project': 'de.wikipedia',\n  'article': 'Minecraft',\n  'granularity': 'daily',\n  'timestamp': '2020052900',\n  'access': 'all-access',\n  'agent': 'user',\n  'views': 1120},\n {'project': 'de.wikipedia',\n  'article': 'Minecraft',\n  'granularity': 'daily',\n  'timestamp': '2020053000',\n  'access': 'all-access',\n  'agent': 'user',\n  'views': 1255},\n {'project': 'de.wikipedia',\n  'article': 'Minecraft',\n  'granularity': 'daily',\n  'timestamp': '2020053100',\n  'access': 'all-access',\n  'agent': 'user',\n  'views': 1290},\n {'project': 'de.wikipedia',\n  'article': 'Minecraft',\n  'granularity': 'daily',\n  'timestamp': '2020060100',\n  'access': 'all-access',\n  'agent': 'user',\n  'views': 1119},\n {'project': 'de.wikipedia',\n  'article': 'Minecraft',\n  'granularity': 'daily',\n  'timestamp': '2020060200',\n  'access': 'all-access',\n  'agent': 'user',\n  'views': 1049},\n {'project': 'de.wikipedia',\n  'article': 'Minecraft',\n  'granularity': 'daily',\n  'timestamp': '2020060300',\n  'access': 'all-access',\n  'agent': 'user',\n  'views': 1067},\n {'project': 'de.wikipedia',\n  'article': 'Minecraft',\n  'granularity': 'daily',\n  'timestamp': '2020060400',\n  'access': 'all-access',\n  'agent': 'user',\n  'views': 1211},\n {'project': 'de.wikipedia',\n  'article': 'Minecraft',\n  'granularity': 'daily',\n  'timestamp': '2020060500',\n  'access': 'all-access',\n  'agent': 'user',\n  'views': 1293},\n {'project': 'de.wikipedia',\n  'article': 'Minecraft',\n  'granularity': 'daily',\n  'timestamp': '2020060600',\n  'access': 'all-access',\n  'agent': 'user',\n  'views': 1205},\n {'project': 'de.wikipedia',\n  'article': 'Minecraft',\n  'granularity': 'daily',\n  'timestamp': '2020060700',\n  'access': 'all-access',\n  'agent': 'user',\n  'views': 1427},\n {'project': 'de.wikipedia',\n  'article': 'Minecraft',\n  'granularity': 'daily',\n  'timestamp': '2020060800',\n  'access': 'all-access',\n  'agent': 'user',\n  'views': 1210},\n {'project': 'de.wikipedia',\n  'article': 'Minecraft',\n  'granularity': 'daily',\n  'timestamp': '2020060900',\n  'access': 'all-access',\n  'agent': 'user',\n  'views': 1195},\n {'project': 'de.wikipedia',\n  'article': 'Minecraft',\n  'granularity': 'daily',\n  'timestamp': '2020061000',\n  'access': 'all-access',\n  'agent': 'user',\n  'views': 1232},\n {'project': 'de.wikipedia',\n  'article': 'Minecraft',\n  'granularity': 'daily',\n  'timestamp': '2020061100',\n  'access': 'all-access',\n  'agent': 'user',\n  'views': 1204},\n {'project': 'de.wikipedia',\n  'article': 'Minecraft',\n  'granularity': 'daily',\n  'timestamp': '2020061200',\n  'access': 'all-access',\n  'agent': 'user',\n  'views': 1000},\n {'project': 'de.wikipedia',\n  'article': 'Minecraft',\n  'granularity': 'daily',\n  'timestamp': '2020061300',\n  'access': 'all-access',\n  'agent': 'user',\n  'views': 1022},\n {'project': 'de.wikipedia',\n  'article': 'Minecraft',\n  'granularity': 'daily',\n  'timestamp': '2020061400',\n  'access': 'all-access',\n  'agent': 'user',\n  'views': 1361},\n {'project': 'de.wikipedia',\n  'article': 'Minecraft',\n  'granularity': 'daily',\n  'timestamp': '2020061500',\n  'access': 'all-access',\n  'agent': 'user',\n  'views': 1118},\n {'project': 'de.wikipedia',\n  'article': 'Minecraft',\n  'granularity': 'daily',\n  'timestamp': '2020061600',\n  'access': 'all-access',\n  'agent': 'user',\n  'views': 1046},\n {'project': 'de.wikipedia',\n  'article': 'Minecraft',\n  'granularity': 'daily',\n  'timestamp': '2020061700',\n  'access': 'all-access',\n  'agent': 'user',\n  'views': 1136},\n {'project': 'de.wikipedia',\n  'article': 'Minecraft',\n  'granularity': 'daily',\n  'timestamp': '2020061800',\n  'access': 'all-access',\n  'agent': 'user',\n  'views': 1034},\n {'project': 'de.wikipedia',\n  'article': 'Minecraft',\n  'granularity': 'daily',\n  'timestamp': '2020061900',\n  'access': 'all-access',\n  'agent': 'user',\n  'views': 1046},\n {'project': 'de.wikipedia',\n  'article': 'Minecraft',\n  'granularity': 'daily',\n  'timestamp': '2020062000',\n  'access': 'all-access',\n  'agent': 'user',\n  'views': 1051},\n {'project': 'de.wikipedia',\n  'article': 'Minecraft',\n  'granularity': 'daily',\n  'timestamp': '2020062100',\n  'access': 'all-access',\n  'agent': 'user',\n  'views': 1138},\n {'project': 'de.wikipedia',\n  'article': 'Minecraft',\n  'granularity': 'daily',\n  'timestamp': '2020062200',\n  'access': 'all-access',\n  'agent': 'user',\n  'views': 1031},\n {'project': 'de.wikipedia',\n  'article': 'Minecraft',\n  'granularity': 'daily',\n  'timestamp': '2020062300',\n  'access': 'all-access',\n  'agent': 'user',\n  'views': 1257},\n {'project': 'de.wikipedia',\n  'article': 'Minecraft',\n  'granularity': 'daily',\n  'timestamp': '2020062400',\n  'access': 'all-access',\n  'agent': 'user',\n  'views': 1094},\n {'project': 'de.wikipedia',\n  'article': 'Minecraft',\n  'granularity': 'daily',\n  'timestamp': '2020062500',\n  'access': 'all-access',\n  'agent': 'user',\n  'views': 1111},\n {'project': 'de.wikipedia',\n  'article': 'Minecraft',\n  'granularity': 'daily',\n  'timestamp': '2020062600',\n  'access': 'all-access',\n  'agent': 'user',\n  'views': 1139},\n {'project': 'de.wikipedia',\n  'article': 'Minecraft',\n  'granularity': 'daily',\n  'timestamp': '2020062700',\n  'access': 'all-access',\n  'agent': 'user',\n  'views': 1083},\n {'project': 'de.wikipedia',\n  'article': 'Minecraft',\n  'granularity': 'daily',\n  'timestamp': '2020062800',\n  'access': 'all-access',\n  'agent': 'user',\n  'views': 1274},\n {'project': 'de.wikipedia',\n  'article': 'Minecraft',\n  'granularity': 'daily',\n  'timestamp': '2020062900',\n  'access': 'all-access',\n  'agent': 'user',\n  'views': 1217},\n {'project': 'de.wikipedia',\n  'article': 'Minecraft',\n  'granularity': 'daily',\n  'timestamp': '2020063000',\n  'access': 'all-access',\n  'agent': 'user',\n  'views': 1078},\n {'project': 'de.wikipedia',\n  'article': 'Minecraft',\n  'granularity': 'daily',\n  'timestamp': '2020070100',\n  'access': 'all-access',\n  'agent': 'user',\n  'views': 974},\n {'project': 'de.wikipedia',\n  'article': 'Minecraft',\n  'granularity': 'daily',\n  'timestamp': '2020070200',\n  'access': 'all-access',\n  'agent': 'user',\n  'views': 1008},\n {'project': 'de.wikipedia',\n  'article': 'Minecraft',\n  'granularity': 'daily',\n  'timestamp': '2020070300',\n  'access': 'all-access',\n  'agent': 'user',\n  'views': 1036},\n {'project': 'de.wikipedia',\n  'article': 'Minecraft',\n  'granularity': 'daily',\n  'timestamp': '2020070400',\n  'access': 'all-access',\n  'agent': 'user',\n  'views': 989},\n {'project': 'de.wikipedia',\n  'article': 'Minecraft',\n  'granularity': 'daily',\n  'timestamp': '2020070500',\n  'access': 'all-access',\n  'agent': 'user',\n  'views': 1055},\n {'project': 'de.wikipedia',\n  'article': 'Minecraft',\n  'granularity': 'daily',\n  'timestamp': '2020070600',\n  'access': 'all-access',\n  'agent': 'user',\n  'views': 1098},\n {'project': 'de.wikipedia',\n  'article': 'Minecraft',\n  'granularity': 'daily',\n  'timestamp': '2020070700',\n  'access': 'all-access',\n  'agent': 'user',\n  'views': 1091},\n {'project': 'de.wikipedia',\n  'article': 'Minecraft',\n  'granularity': 'daily',\n  'timestamp': '2020070800',\n  'access': 'all-access',\n  'agent': 'user',\n  'views': 1214},\n {'project': 'de.wikipedia',\n  'article': 'Minecraft',\n  'granularity': 'daily',\n  'timestamp': '2020070900',\n  'access': 'all-access',\n  'agent': 'user',\n  'views': 1085},\n {'project': 'de.wikipedia',\n  'article': 'Minecraft',\n  'granularity': 'daily',\n  'timestamp': '2020071000',\n  'access': 'all-access',\n  'agent': 'user',\n  'views': 1054},\n {'project': 'de.wikipedia',\n  'article': 'Minecraft',\n  'granularity': 'daily',\n  'timestamp': '2020071100',\n  'access': 'all-access',\n  'agent': 'user',\n  'views': 1094},\n {'project': 'de.wikipedia',\n  'article': 'Minecraft',\n  'granularity': 'daily',\n  'timestamp': '2020071200',\n  'access': 'all-access',\n  'agent': 'user',\n  'views': 1047},\n {'project': 'de.wikipedia',\n  'article': 'Minecraft',\n  'granularity': 'daily',\n  'timestamp': '2020071300',\n  'access': 'all-access',\n  'agent': 'user',\n  'views': 975},\n {'project': 'de.wikipedia',\n  'article': 'Minecraft',\n  'granularity': 'daily',\n  'timestamp': '2020071400',\n  'access': 'all-access',\n  'agent': 'user',\n  'views': 1107},\n {'project': 'de.wikipedia',\n  'article': 'Minecraft',\n  'granularity': 'daily',\n  'timestamp': '2020071500',\n  'access': 'all-access',\n  'agent': 'user',\n  'views': 1157},\n {'project': 'de.wikipedia',\n  'article': 'Minecraft',\n  'granularity': 'daily',\n  'timestamp': '2020071600',\n  'access': 'all-access',\n  'agent': 'user',\n  'views': 1131},\n {'project': 'de.wikipedia',\n  'article': 'Minecraft',\n  'granularity': 'daily',\n  'timestamp': '2020071700',\n  'access': 'all-access',\n  'agent': 'user',\n  'views': 981},\n {'project': 'de.wikipedia',\n  'article': 'Minecraft',\n  'granularity': 'daily',\n  'timestamp': '2020071800',\n  'access': 'all-access',\n  'agent': 'user',\n  'views': 1023},\n {'project': 'de.wikipedia',\n  'article': 'Minecraft',\n  'granularity': 'daily',\n  'timestamp': '2020071900',\n  'access': 'all-access',\n  'agent': 'user',\n  'views': 1204},\n {'project': 'de.wikipedia',\n  'article': 'Minecraft',\n  'granularity': 'daily',\n  'timestamp': '2020072000',\n  'access': 'all-access',\n  'agent': 'user',\n  'views': 993},\n {'project': 'de.wikipedia',\n  'article': 'Minecraft',\n  'granularity': 'daily',\n  'timestamp': '2020072100',\n  'access': 'all-access',\n  'agent': 'user',\n  'views': 1051},\n {'project': 'de.wikipedia',\n  'article': 'Minecraft',\n  'granularity': 'daily',\n  'timestamp': '2020072200',\n  'access': 'all-access',\n  'agent': 'user',\n  'views': 946},\n {'project': 'de.wikipedia',\n  'article': 'Minecraft',\n  'granularity': 'daily',\n  'timestamp': '2020072300',\n  'access': 'all-access',\n  'agent': 'user',\n  'views': 941},\n {'project': 'de.wikipedia',\n  'article': 'Minecraft',\n  'granularity': 'daily',\n  'timestamp': '2020072400',\n  'access': 'all-access',\n  'agent': 'user',\n  'views': 1036},\n {'project': 'de.wikipedia',\n  'article': 'Minecraft',\n  'granularity': 'daily',\n  'timestamp': '2020072500',\n  'access': 'all-access',\n  'agent': 'user',\n  'views': 1088},\n {'project': 'de.wikipedia',\n  'article': 'Minecraft',\n  'granularity': 'daily',\n  'timestamp': '2020072600',\n  'access': 'all-access',\n  'agent': 'user',\n  'views': 1263},\n {'project': 'de.wikipedia',\n  'article': 'Minecraft',\n  'granularity': 'daily',\n  'timestamp': '2020072700',\n  'access': 'all-access',\n  'agent': 'user',\n  'views': 1099},\n {'project': 'de.wikipedia',\n  'article': 'Minecraft',\n  'granularity': 'daily',\n  'timestamp': '2020072800',\n  'access': 'all-access',\n  'agent': 'user',\n  'views': 1025},\n {'project': 'de.wikipedia',\n  'article': 'Minecraft',\n  'granularity': 'daily',\n  'timestamp': '2020072900',\n  'access': 'all-access',\n  'agent': 'user',\n  'views': 1096},\n {'project': 'de.wikipedia',\n  'article': 'Minecraft',\n  'granularity': 'daily',\n  'timestamp': '2020073000',\n  'access': 'all-access',\n  'agent': 'user',\n  'views': 925},\n {'project': 'de.wikipedia',\n  'article': 'Minecraft',\n  'granularity': 'daily',\n  'timestamp': '2020073100',\n  'access': 'all-access',\n  'agent': 'user',\n  'views': 940},\n {'project': 'de.wikipedia',\n  'article': 'Minecraft',\n  'granularity': 'daily',\n  'timestamp': '2020080100',\n  'access': 'all-access',\n  'agent': 'user',\n  'views': 1061}]"
     },
     "execution_count": 14,
     "metadata": {},
     "output_type": "execute_result"
    }
   ],
   "source": [
    "def get_pageviews(article: str, start: datetime, end: datetime, project=\"de.wikipedia.org\",\n",
    "                  access=\"all-access\", agent=\"user\", granularity=\"daily\"):\n",
    "    \"\"\"\n",
    "        args:\n",
    "            article: The name of the article\n",
    "            start: Start date \n",
    "            end: End date\n",
    "            project: The domain, default en.wikipedia.org\n",
    "            access: Type of the device, default all-access. other options(Desktop, mobile-app, mobile-web)\n",
    "            agent: Type of the agent, default all-agents. other options(user, spider, automated)\n",
    "            granularity: The time unit, default daily. Other options(monthly)\n",
    "            \n",
    "    \"\"\"\n",
    "    params = [\n",
    "        \"metrics\",\n",
    "        \"pageviews\",\n",
    "        \"per-article\",\n",
    "        project.capitalize(),\n",
    "        access,\n",
    "        agent,\n",
    "        parse.quote(article),\n",
    "        granularity,\n",
    "        start.strftime(\"%Y%m%d\"),\n",
    "        end.strftime(\"%Y%m%d\")\n",
    "    ]\n",
    "    url = URL + \"/\".join(params)\n",
    "    return SESSION.get(url,headers=HEADERS).json()[\"items\"]"
   ],
   "metadata": {
    "collapsed": false,
    "pycharm": {
     "name": "#%%\n"
    }
   }
  },
  {
   "cell_type": "code",
   "execution_count": 10,
   "outputs": [],
   "source": [
    "def store_pageviews(title, genre: str, data):\n",
    "    \"\"\"\n",
    "        args:\n",
    "            genre: options (Games,Film and TV, Literary, Music)\n",
    "    \"\"\"\n",
    "    if genre.lower() not in [\"games\", \"film and tv\", \"literary\", \"music\"]:\n",
    "        raise ValueError(\n",
    "            \"Genre must be an element of [Games, Film and TV, Literary, Music]\")\n",
    "    df = pd.DataFrame(data)\n",
    "    df[\"timestamp\"] = pd.to_datetime(df[\"timestamp\"], format=\"%Y%m%d%H\",)\n",
    "    if not os.path.isdir(\"Data\"):\n",
    "        os.mkdir(\"Data\")\n",
    "    df.to_excel(\"Data/\" + genre +\n",
    "                \"/\" + title + \".xlsx\", index=False)\n",
    "\n",
    "\n",
    "def fetch_data_sources(page, filename):\n",
    "    url = \"https://www.wikitable2json.com/api/\" + \\\n",
    "        page\n",
    "\n",
    "    params = {\"cleanRef\": \"true\", \"lang\": \"en\"}\n",
    "    request = SESSION.get(url=url, params=params, headers=HEADERS)\n",
    "    resposne = request.json()\n",
    "    table = np.squeeze(resposne)\n",
    "    data = {}\n",
    "    for i in range(len(table[0])):\n",
    "      data[table[0, i]] = table[1:, i].tolist()\n",
    "    df = pd.DataFrame(data)\n",
    "    df.to_excel(\"Data/\" + filename + \".xlsx\", index=False)\n",
    "\n",
    "fetch_data_sources(\"List_of_video_games_considered_the_best\", \"Games_sources\")"
   ],
   "metadata": {
    "collapsed": false,
    "pycharm": {
     "name": "#%%\n"
    }
   }
  },
  {
   "cell_type": "code",
   "execution_count": null,
   "outputs": [],
   "source": [
    "# df = pd.read_excel(\"Data/Games_sources.xlsx\")\n",
    "# df = df[df[\"Year\"] >= 2000 ]\n",
    "# for year,game in df.values[:,0:2]:\n",
    "#     print(game,year)\n",
    "#     if year < 2005:\n",
    "#         year = 2005\n",
    "#     data = get_pageviews(game,datetime(year,1,1),datetime(2020,1,1))\n",
    "#     store_pageviews(game,\"Games\",data)\n",
    "\n",
    "# dfs = []\n",
    "# for file in os.listdir(\"Data/Games\"):\n",
    "#     if file.endswith(\".xlsx\"):\n",
    "#         df = pd.read_excel(\"Data/Games/\"+file)\n",
    "#         dfs.append(df)\n",
    "# new_df = pd.concat(dfs)\n",
    "# new_df.to_excel(\"Data/All_Games.xlsx\")"
   ],
   "metadata": {
    "collapsed": false,
    "pycharm": {
     "name": "#%%\n"
    }
   }
  },
  {
   "cell_type": "code",
   "execution_count": 100,
   "outputs": [],
   "source": [
    "def get_related_titles(article: str):\n",
    "    url = \"https://en.wikipedia.org/api/rest_v1/page/related/\" + article\n",
    "    data = SESSION.get(url,headers=HEADERS).json()[\"pages\"]\n",
    "    titles = []\n",
    "    for i in data:\n",
    "        i = i[\"title\"]\n",
    "        titles.append(i)\n",
    "    return titles"
   ],
   "metadata": {
    "collapsed": false,
    "pycharm": {
     "name": "#%%\n"
    }
   }
  },
  {
   "cell_type": "code",
   "execution_count": 103,
   "outputs": [],
   "source": [
    "gameNames = []\n",
    "for file in os.listdir(\"Data/Games\"):\n",
    "    if file.endswith(\".xlsx\"):\n",
    "        x = file[0: len(file) - 5]\n",
    "        gameNames.append(x)\n",
    "\n",
    "for i in gameNames:\n",
    "    titles = get_related_titles(i)\n",
    "    df = pd.DataFrame(titles, columns=[\"related titles\"])\n",
    "    df.to_excel(\"Data/Games/related/related to \" + i + \".xlsx\")"
   ],
   "metadata": {
    "collapsed": false,
    "pycharm": {
     "name": "#%%\n"
    }
   }
  }
 ],
 "metadata": {
  "kernelspec": {
   "display_name": "Python 3.9.13 64-bit (microsoft store)",
   "language": "python",
   "name": "python3"
  },
  "language_info": {
   "codemirror_mode": {
    "name": "ipython",
    "version": 3
   },
   "file_extension": ".py",
   "mimetype": "text/x-python",
   "name": "python",
   "nbconvert_exporter": "python",
   "pygments_lexer": "ipython3",
   "version": "3.9.13"
  },
  "orig_nbformat": 4,
  "vscode": {
   "interpreter": {
    "hash": "d7baccf88227eab4c3a997091e3b8cad5657bd0277ceacd9564be0b0f999d1db"
   }
  }
 },
 "nbformat": 4,
 "nbformat_minor": 2
}