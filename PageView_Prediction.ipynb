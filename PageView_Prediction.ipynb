{
 "cells": [
  {
   "cell_type": "code",
   "execution_count": 153,
   "metadata": {},
   "outputs": [],
   "source": [
    "import requests\n",
    "from datetime import datetime\n",
    "from urllib import parse\n",
    "import pandas as pd"
   ]
  },
  {
   "cell_type": "code",
   "execution_count": 154,
   "metadata": {},
   "outputs": [],
   "source": [
    "URL = \"https://wikimedia.org/api/rest_v1/\"\n",
    "HEADERS = {\"Accept\":\"application/json\",\"user-agent\":\"test123@gmail.com\"}"
   ]
  },
  {
   "cell_type": "code",
   "execution_count": 159,
   "metadata": {},
   "outputs": [],
   "source": [
    "def get_pageviews(article: str, start: datetime, end: datetime, project=\"en.wikipedia.org\",\n",
    "                  access=\"all-access\", agent=\"all-agents\", granularity=\"daily\"):\n",
    "    \"\"\"\n",
    "        args:\n",
    "            article: The name of the article\n",
    "            start: Start date \n",
    "            end: End date\n",
    "            project: The domain, default en.wikipedia.org\n",
    "            access: Type of the device, default all-access. other options(Desktop, mobile-app, mobile-web)\n",
    "            agent: Type of the agent, default all-agents. other options(user, spider, automated)\n",
    "            granularity: The time unit, default daily. Other options(monthly)\n",
    "            \n",
    "    \"\"\"\n",
    "    params = [\n",
    "        \"metrics\",\n",
    "        \"pageviews\",\n",
    "        \"per-article\",\n",
    "        project.capitalize(),\n",
    "        access,\n",
    "        agent,\n",
    "        parse.quote(article),\n",
    "        granularity,\n",
    "        start.strftime(\"%Y%m%d\"),\n",
    "        end.strftime(\"%Y%m%d\")\n",
    "    ]\n",
    "    url = URL + \"/\".join(params)\n",
    "    return requests.get(url,headers=HEADERS).json()[\"items\"]\n"
   ]
  },
  {
   "cell_type": "code",
   "execution_count": 160,
   "metadata": {},
   "outputs": [],
   "source": [
    "def store_pageviews(title, data):\n",
    "    df = pd.DataFrame(data)\n",
    "    df.to_excel(title+\".xlsx\")\n"
   ]
  },
  {
   "cell_type": "code",
   "execution_count": 161,
   "metadata": {},
   "outputs": [],
   "source": [
    "s = get_pageviews(\"Overwatch 2\",datetime(2020,1,1),datetime(2022,10,4))\n",
    "store_pageviews(\"Overwatch 2\",s)"
   ]
  }
 ],
 "metadata": {
  "kernelspec": {
   "display_name": "Python 3.9.13 64-bit (microsoft store)",
   "language": "python",
   "name": "python3"
  },
  "language_info": {
   "codemirror_mode": {
    "name": "ipython",
    "version": 3
   },
   "file_extension": ".py",
   "mimetype": "text/x-python",
   "name": "python",
   "nbconvert_exporter": "python",
   "pygments_lexer": "ipython3",
   "version": "3.9.13"
  },
  "orig_nbformat": 4,
  "vscode": {
   "interpreter": {
    "hash": "d7baccf88227eab4c3a997091e3b8cad5657bd0277ceacd9564be0b0f999d1db"
   }
  }
 },
 "nbformat": 4,
 "nbformat_minor": 2
}
