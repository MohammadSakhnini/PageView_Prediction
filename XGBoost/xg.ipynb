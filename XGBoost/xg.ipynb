{
 "cells": [
  {
   "cell_type": "markdown",
   "source": [
    "# Imports"
   ],
   "metadata": {
    "collapsed": false
   }
  },
  {
   "cell_type": "code",
   "execution_count": 1,
   "metadata": {
    "collapsed": true
   },
   "outputs": [],
   "source": [
    "import datetime\n",
    "import sklearn.model_selection\n",
    "import spacy\n",
    "import requests\n",
    "import os\n",
    "from bs4 import BeautifulSoup\n",
    "from collections import Counter\n",
    "import matplotlib.pyplot as plt\n",
    "import numpy as np\n",
    "import pandas as pd\n",
    "import xgboost as xgb\n",
    "import itertools\n",
    "import seaborn as sns\n",
    "import lightgbm\n",
    "import tsfresh\n",
    "from sklearn.preprocessing import MinMaxScaler"
   ]
  },
  {
   "cell_type": "markdown",
   "source": [
    "# Helper Methods"
   ],
   "metadata": {
    "collapsed": false
   }
  },
  {
   "cell_type": "code",
   "execution_count": 2,
   "outputs": [],
   "source": [
    "DATA_PATH = \"../Data/\"\n",
    "DATA_PATH_NEW = \"../Data/Data_new/\"\n",
    "df_article_codes = pd.read_csv(\"article_codes.csv\")"
   ],
   "metadata": {
    "collapsed": false
   }
  },
  {
   "cell_type": "code",
   "execution_count": 3,
   "outputs": [],
   "source": [
    "def get_fileNames(category: str, path):\n",
    "    file_names = []\n",
    "    for files in os.listdir(path + category):\n",
    "        if files.endswith(\".csv\"):\n",
    "            files = files[0:len(files)-4]\n",
    "            file_names.append(files)\n",
    "    return file_names"
   ],
   "metadata": {
    "collapsed": false
   }
  },
  {
   "cell_type": "code",
   "execution_count": 125,
   "outputs": [],
   "source": [
    "def smape(target, forecast):\n",
    "    if type(target) == pd.core.frame.DataFrame:\n",
    "        target = target.values\n",
    "\n",
    "    denominator = np.abs(target) + np.abs(forecast)\n",
    "    flag = denominator == 0.\n",
    "\n",
    "    smape = 2 * np.mean(\n",
    "        (np.abs(target - forecast) * (1 - flag)) / (denominator + flag)\n",
    "    )\n",
    "    return smape"
   ],
   "metadata": {
    "collapsed": false
   }
  },
  {
   "cell_type": "code",
   "execution_count": 7,
   "outputs": [
    {
     "data": {
      "text/plain": "               views  article  dayofweek  month  quarter  dayofyear  year  \\\ntimestamp                                                                   \n2015-07-01  1.086553        0          2      7        3        182  2015   \n2015-07-02  1.102897        0          3      7        3        183  2015   \n2015-07-03  1.089896        0          4      7        3        184  2015   \n2015-07-04  1.065750        0          5      7        3        185  2015   \n2015-07-05  1.061664        0          6      7        3        186  2015   \n...              ...      ...        ...    ...      ...        ...   ...   \n2021-12-14  1.027117        0          1     12        4        348  2021   \n2021-12-15  1.046434        0          2     12        4        349  2021   \n2021-12-16  1.026374        0          3     12        4        350  2021   \n2021-12-17  1.019688        0          4     12        4        351  2021   \n2021-12-18  1.023031        0          5     12        4        352  2021   \n\n                 avg       t-1  \ntimestamp                       \n2015-07-01  1.086553       NaN  \n2015-07-02  1.094725  1.086553  \n2015-07-03  1.093115  1.102897  \n2015-07-04  1.086274  1.089896  \n2015-07-05  1.081352  1.065750  \n...              ...       ...  \n2021-12-14  1.072257  1.019688  \n2021-12-15  1.072247  1.027117  \n2021-12-16  1.072227  1.046434  \n2021-12-17  1.072205  1.026374  \n2021-12-18  1.072184  1.019688  \n\n[2363 rows x 9 columns]",
      "text/html": "<div>\n<style scoped>\n    .dataframe tbody tr th:only-of-type {\n        vertical-align: middle;\n    }\n\n    .dataframe tbody tr th {\n        vertical-align: top;\n    }\n\n    .dataframe thead th {\n        text-align: right;\n    }\n</style>\n<table border=\"1\" class=\"dataframe\">\n  <thead>\n    <tr style=\"text-align: right;\">\n      <th></th>\n      <th>views</th>\n      <th>article</th>\n      <th>dayofweek</th>\n      <th>month</th>\n      <th>quarter</th>\n      <th>dayofyear</th>\n      <th>year</th>\n      <th>avg</th>\n      <th>t-1</th>\n    </tr>\n    <tr>\n      <th>timestamp</th>\n      <th></th>\n      <th></th>\n      <th></th>\n      <th></th>\n      <th></th>\n      <th></th>\n      <th></th>\n      <th></th>\n      <th></th>\n    </tr>\n  </thead>\n  <tbody>\n    <tr>\n      <th>2015-07-01</th>\n      <td>1.086553</td>\n      <td>0</td>\n      <td>2</td>\n      <td>7</td>\n      <td>3</td>\n      <td>182</td>\n      <td>2015</td>\n      <td>1.086553</td>\n      <td>NaN</td>\n    </tr>\n    <tr>\n      <th>2015-07-02</th>\n      <td>1.102897</td>\n      <td>0</td>\n      <td>3</td>\n      <td>7</td>\n      <td>3</td>\n      <td>183</td>\n      <td>2015</td>\n      <td>1.094725</td>\n      <td>1.086553</td>\n    </tr>\n    <tr>\n      <th>2015-07-03</th>\n      <td>1.089896</td>\n      <td>0</td>\n      <td>4</td>\n      <td>7</td>\n      <td>3</td>\n      <td>184</td>\n      <td>2015</td>\n      <td>1.093115</td>\n      <td>1.102897</td>\n    </tr>\n    <tr>\n      <th>2015-07-04</th>\n      <td>1.065750</td>\n      <td>0</td>\n      <td>5</td>\n      <td>7</td>\n      <td>3</td>\n      <td>185</td>\n      <td>2015</td>\n      <td>1.086274</td>\n      <td>1.089896</td>\n    </tr>\n    <tr>\n      <th>2015-07-05</th>\n      <td>1.061664</td>\n      <td>0</td>\n      <td>6</td>\n      <td>7</td>\n      <td>3</td>\n      <td>186</td>\n      <td>2015</td>\n      <td>1.081352</td>\n      <td>1.065750</td>\n    </tr>\n    <tr>\n      <th>...</th>\n      <td>...</td>\n      <td>...</td>\n      <td>...</td>\n      <td>...</td>\n      <td>...</td>\n      <td>...</td>\n      <td>...</td>\n      <td>...</td>\n      <td>...</td>\n    </tr>\n    <tr>\n      <th>2021-12-14</th>\n      <td>1.027117</td>\n      <td>0</td>\n      <td>1</td>\n      <td>12</td>\n      <td>4</td>\n      <td>348</td>\n      <td>2021</td>\n      <td>1.072257</td>\n      <td>1.019688</td>\n    </tr>\n    <tr>\n      <th>2021-12-15</th>\n      <td>1.046434</td>\n      <td>0</td>\n      <td>2</td>\n      <td>12</td>\n      <td>4</td>\n      <td>349</td>\n      <td>2021</td>\n      <td>1.072247</td>\n      <td>1.027117</td>\n    </tr>\n    <tr>\n      <th>2021-12-16</th>\n      <td>1.026374</td>\n      <td>0</td>\n      <td>3</td>\n      <td>12</td>\n      <td>4</td>\n      <td>350</td>\n      <td>2021</td>\n      <td>1.072227</td>\n      <td>1.046434</td>\n    </tr>\n    <tr>\n      <th>2021-12-17</th>\n      <td>1.019688</td>\n      <td>0</td>\n      <td>4</td>\n      <td>12</td>\n      <td>4</td>\n      <td>351</td>\n      <td>2021</td>\n      <td>1.072205</td>\n      <td>1.026374</td>\n    </tr>\n    <tr>\n      <th>2021-12-18</th>\n      <td>1.023031</td>\n      <td>0</td>\n      <td>5</td>\n      <td>12</td>\n      <td>4</td>\n      <td>352</td>\n      <td>2021</td>\n      <td>1.072184</td>\n      <td>1.019688</td>\n    </tr>\n  </tbody>\n</table>\n<p>2363 rows × 9 columns</p>\n</div>"
     },
     "execution_count": 7,
     "metadata": {},
     "output_type": "execute_result"
    }
   ],
   "source": [
    "def make_data_new(category, article, days_to_predict):\n",
    "    df = pd.read_csv(f\"{DATA_PATH_NEW}{category}/{article}.csv\")\n",
    "    df.index = df[\"timestamp\"]\n",
    "    df.drop(['timestamp'], axis=1, inplace=True)\n",
    "    df.index = pd.to_datetime(df.index, format=\"%Y%m%d%H\")\n",
    "\n",
    "    #dfN = df[[\"views\"]].copy()\n",
    "    #df[\"target\"] = df.views.shift(-1)\n",
    "\n",
    "    # normalization\n",
    "    scaler = MinMaxScaler(feature_range=(1, 5))\n",
    "    data = np.array(df[\"views\"])\n",
    "    data = data.reshape(len(data), 1)\n",
    "    scaler = scaler.fit(data)\n",
    "    data = scaler.transform(data)\n",
    "    df[\"views\"] = data\n",
    "\n",
    "    df.dropna(inplace=True)\n",
    "    df = create_features(df)\n",
    "\n",
    "    #df = df.loc[(df.index >= '2015.01.01') & (df.index <= \"2021.01.01\")]\n",
    "    dfNeu = df.tail(days_to_predict)\n",
    "    df = df.head(len(df) - days_to_predict)\n",
    "\n",
    "    return df, dfNeu\n",
    "\n",
    "def make_data(category, article, days_to_predict):\n",
    "    df = pd.read_csv(f\"{DATA_PATH}{category}/{article}.csv\")\n",
    "    code = df_article_codes.loc[df_article_codes[\"article\"] == df[\"article\"][0].replace(\"_\", \" \")][\"code\"]\n",
    "    df = df.drop([\"project\", \"granularity\", \"access\", \"agent\", \"article\"], axis=1)\n",
    "    df[\"article\"] = list(code)[0]\n",
    "\n",
    "    df.index = df[\"timestamp\"]\n",
    "    df.index = pd.to_datetime(df.index)\n",
    "    df.drop(['timestamp'], axis=1, inplace=True)\n",
    "\n",
    "    # normalization\n",
    "    scaler = MinMaxScaler(feature_range=(1, 5))\n",
    "    data = np.array(df[\"views\"])\n",
    "    data = data.reshape(len(data), 1)\n",
    "    scaler = scaler.fit(data)\n",
    "    data = scaler.transform(data)\n",
    "    df[\"views\"] = data\n",
    "\n",
    "    df.dropna(inplace=True)\n",
    "    df = create_features(df)\n",
    "\n",
    "    #df = df.loc[(df.index >= '2015.01.01') & (df.index <= \"2021.01.01\")]\n",
    "    dfNeu = df.tail(days_to_predict)\n",
    "    df = df.head(len(df) - days_to_predict)\n",
    "\n",
    "    return df, dfNeu\n",
    "make_data(\"Games\", \"Advance Wars\", 14)[0]"
   ],
   "metadata": {
    "collapsed": false
   }
  },
  {
   "cell_type": "code",
   "execution_count": 47,
   "outputs": [],
   "source": [
    "counter = 0\n",
    "files = []\n",
    "code = []\n",
    "for category in [\"Games\", \"Music\", \"Movies\", \"Literary\"]:\n",
    "    for file in get_fileNames(category, DATA_PATH):\n",
    "        files.append(file)\n",
    "        code.append(counter)\n",
    "        counter += 1\n",
    "df = pd.DataFrame({\"article\": files, \"code\": code})\n",
    "df.to_csv(\"article_codes.csv\")"
   ],
   "metadata": {
    "collapsed": false
   }
  },
  {
   "cell_type": "markdown",
   "source": [
    "# Features"
   ],
   "metadata": {
    "collapsed": false
   }
  },
  {
   "cell_type": "code",
   "execution_count": 103,
   "outputs": [],
   "source": [
    "def create_features(df):\n",
    "    if isinstance(df, tuple):\n",
    "        df = df[0]\n",
    "    df = df.copy()\n",
    "    df[\"dayofweek\"] = df.index.dayofweek\n",
    "    df[\"month\"] = df.index.month\n",
    "    df[\"quarter\"] = df.index.quarter\n",
    "    df[\"dayofyear\"] = df.index.dayofyear\n",
    "    df[\"year\"] = df.index.year\n",
    "    avg = []\n",
    "    for i in range(1, len(df[\"views\"]) + 1):\n",
    "        avg.append(df[\"views\"][0:i].mean())\n",
    "    df[\"avg\"] = avg\n",
    "    for i in range(1, 8):\n",
    "        df[f\"t-{i}\"] = df[\"views\"].shift(i).ffill()\n",
    "\n",
    "    return df"
   ],
   "metadata": {
    "collapsed": false
   }
  },
  {
   "cell_type": "markdown",
   "source": [
    "# Preprocess Data"
   ],
   "metadata": {
    "collapsed": false
   }
  },
  {
   "cell_type": "code",
   "execution_count": 107,
   "outputs": [],
   "source": [
    "CATEGORIES = [\"Games\", \"Movies\", \"Music\", \"Literary\"]\n",
    "\n",
    "for category in CATEGORIES:\n",
    "    pd.concat(make_data(category, file, 14)[0] for file in get_fileNames(category, DATA_PATH)).to_csv(f\"data_{category}_small.csv\")"
   ],
   "metadata": {
    "collapsed": false
   }
  },
  {
   "cell_type": "markdown",
   "source": [
    "# XGBoost"
   ],
   "metadata": {
    "collapsed": false
   }
  },
  {
   "cell_type": "code",
   "execution_count": 102,
   "outputs": [],
   "source": [
    "FEATURES = [\"dayofweek\", \"month\", \"quarter\", \"dayofyear\", \"year\", \"avg\", \"t-1\", \"t-2\", \"t-3\", \"t-4\", \"t-5\", \"t-6\", \"t-7\", \"article\"] #views det letzten tage\n",
    "TARGET = \"views\"\n",
    "xgmodel = xgb.XGBRegressor(n_estimators=100000, early_stopping_rounds=50, learning_rate=0.01, eval_metric=smape, disable_default_eval_metric=True, max_depth=6)"
   ],
   "metadata": {
    "collapsed": false
   }
  },
  {
   "cell_type": "code",
   "execution_count": 109,
   "outputs": [
    {
     "name": "stdout",
     "output_type": "stream",
     "text": [
      "711609\n",
      "[0]\tvalidation_0-smape:0.81722\tvalidation_1-smape:0.81676\n",
      "[297]\tvalidation_0-smape:0.03527\tvalidation_1-smape:0.03959\n",
      "CPU times: total: 24.8 s\n",
      "Wall time: 19.7 s\n"
     ]
    }
   ],
   "source": [
    "%%time\n",
    "\n",
    "def train_xg(categories, model):\n",
    "    df_all = pd.concat([pd.read_csv(f\"data_{category}_small.csv\") for category in categories])\n",
    "    print(len(df_all))\n",
    "    train_data, test_data = sklearn.model_selection.train_test_split(df_all, test_size=0.3, random_state=69)\n",
    "\n",
    "    X_train = train_data[FEATURES]\n",
    "    y_train = train_data[TARGET]\n",
    "    X_test = test_data[FEATURES]\n",
    "    y_test = test_data[TARGET]\n",
    "\n",
    "    model.fit(X_train, y_train, eval_set=[(X_train, y_train), (X_test, y_test)], verbose=1000)\n",
    "\n",
    "param = {\n",
    "    'early_stopping_rounds': 50,\n",
    "    'disable_default_eval_metric': True,\n",
    "    'eval_metric': smape,\n",
    "    'lambda': 0.0011256534045695,\n",
    "    'alpha': 0.0017171511650539144,\n",
    "    'colsample_bytree': 1.0,\n",
    "    'subsample': 0.4,\n",
    "    'learning_rate': 0.018,\n",
    "    'max_depth': 13,\n",
    "    'random_state': 2020,\n",
    "    'min_child_weight': 6,\n",
    "    'n_estimators': 10000,\n",
    "    'tree_method': 'gpu_hist'\n",
    "}\n",
    "\n",
    "xgmodel = xgb.XGBRegressor(**param)\n",
    "train_xg([\"Games\", \"Music\", \"Movies\", \"Literary\"], xgmodel)"
   ],
   "metadata": {
    "collapsed": false
   }
  },
  {
   "cell_type": "code",
   "execution_count": 77,
   "outputs": [
    {
     "name": "stderr",
     "output_type": "stream",
     "text": [
      "C:\\Users\\Tobias\\anaconda3\\envs\\prediction\\lib\\site-packages\\xgboost\\sklearn.py:787: UserWarning: eval_metric is not saved in Scikit-Learn meta.\n",
      "  warnings.warn(\n"
     ]
    }
   ],
   "source": [
    "xgmodel.save_model(\"xgboost_small\")"
   ],
   "metadata": {
    "collapsed": false
   }
  },
  {
   "cell_type": "code",
   "execution_count": 120,
   "outputs": [],
   "source": [
    "def eval_xg(xgmodel):\n",
    "    smapes = []\n",
    "    for category in CATEGORIES:\n",
    "        for file in get_fileNames(category, DATA_PATH):\n",
    "            predictions = []\n",
    "            old, df = make_data(category, file, 14)\n",
    "            indeces = df.index\n",
    "            df[\"t-1\"][1:] = None\n",
    "            df[\"avg\"][1:] = None\n",
    "            avgs = [df[\"avg\"][indeces[0]]] * len(old)\n",
    "            for i in range(0, 13):\n",
    "                tmp = pd.DataFrame(df[FEATURES].loc[indeces[i]]).T\n",
    "                pred = xgmodel.predict(tmp)[0]\n",
    "                predictions.append(pred)\n",
    "                avgs.append(pred)\n",
    "\n",
    "                df.loc[indeces[i + 1], 'avg'] = (sum(avgs) / len(avgs))\n",
    "                for j in range(1, 8):\n",
    "                    if i + j < len(indeces):\n",
    "                        df.loc[indeces[i + j], f't-{j}'] = pred\n",
    "            tmp = pd.DataFrame(df[FEATURES].loc[indeces[13]]).T\n",
    "            pred = xgmodel.predict(tmp)[0]\n",
    "            predictions.append(pred)\n",
    "            df[\"predictions\"] = predictions\n",
    "\n",
    "            smapes.append(smape(df[\"views\"], df[\"predictions\"]))\n",
    "    return smapes"
   ],
   "metadata": {
    "collapsed": false
   }
  },
  {
   "cell_type": "code",
   "execution_count": 51,
   "outputs": [
    {
     "ename": "FileNotFoundError",
     "evalue": "[WinError 3] Das System kann den angegebenen Pfad nicht finden: '../Data/Data_new/Music'",
     "output_type": "error",
     "traceback": [
      "\u001B[1;31m---------------------------------------------------------------------------\u001B[0m",
      "\u001B[1;31mFileNotFoundError\u001B[0m                         Traceback (most recent call last)",
      "Cell \u001B[1;32mIn[51], line 6\u001B[0m\n\u001B[0;32m      4\u001B[0m data \u001B[38;5;241m=\u001B[39m []\n\u001B[0;32m      5\u001B[0m \u001B[38;5;28;01mfor\u001B[39;00m i \u001B[38;5;129;01min\u001B[39;00m category:\n\u001B[1;32m----> 6\u001B[0m     \u001B[38;5;28;01mfor\u001B[39;00m file \u001B[38;5;129;01min\u001B[39;00m \u001B[43mget_fileNames\u001B[49m\u001B[43m(\u001B[49m\u001B[43mi\u001B[49m\u001B[43m)\u001B[49m:\n\u001B[0;32m      7\u001B[0m         df, df_new_data \u001B[38;5;241m=\u001B[39m make_data(i, file, \u001B[38;5;241m14\u001B[39m)\n\u001B[0;32m      8\u001B[0m         data\u001B[38;5;241m.\u001B[39mappend(df)\n",
      "Cell \u001B[1;32mIn[4], line 3\u001B[0m, in \u001B[0;36mget_fileNames\u001B[1;34m(category)\u001B[0m\n\u001B[0;32m      1\u001B[0m \u001B[38;5;28;01mdef\u001B[39;00m \u001B[38;5;21mget_fileNames\u001B[39m(category: \u001B[38;5;28mstr\u001B[39m):\n\u001B[0;32m      2\u001B[0m     file_names \u001B[38;5;241m=\u001B[39m []\n\u001B[1;32m----> 3\u001B[0m     \u001B[38;5;28;01mfor\u001B[39;00m files \u001B[38;5;129;01min\u001B[39;00m \u001B[43mos\u001B[49m\u001B[38;5;241;43m.\u001B[39;49m\u001B[43mlistdir\u001B[49m\u001B[43m(\u001B[49m\u001B[38;5;124;43m\"\u001B[39;49m\u001B[38;5;124;43m../Data/Data_new/\u001B[39;49m\u001B[38;5;124;43m\"\u001B[39;49m\u001B[43m \u001B[49m\u001B[38;5;241;43m+\u001B[39;49m\u001B[43m \u001B[49m\u001B[43mcategory\u001B[49m\u001B[43m)\u001B[49m:\n\u001B[0;32m      4\u001B[0m         \u001B[38;5;28;01mif\u001B[39;00m files\u001B[38;5;241m.\u001B[39mendswith(\u001B[38;5;124m\"\u001B[39m\u001B[38;5;124m.csv\u001B[39m\u001B[38;5;124m\"\u001B[39m):\n\u001B[0;32m      5\u001B[0m             files \u001B[38;5;241m=\u001B[39m files[\u001B[38;5;241m0\u001B[39m:\u001B[38;5;28mlen\u001B[39m(files)\u001B[38;5;241m-\u001B[39m\u001B[38;5;241m4\u001B[39m]\n",
      "\u001B[1;31mFileNotFoundError\u001B[0m: [WinError 3] Das System kann den angegebenen Pfad nicht finden: '../Data/Data_new/Music'"
     ]
    }
   ],
   "source": [
    "import optuna\n",
    "\n",
    "category = [\"Music\", \"Games\", \"Literary\", \"Movies\"]\n",
    "data = []\n",
    "for i in category:\n",
    "    for file in get_fileNames(i):\n",
    "        df, df_new_data = make_data(i, file, 14)\n",
    "        data.append(df)\n",
    "data = pd.concat(data)\n",
    "\n",
    "def objective(trial,data=data):\n",
    "\n",
    "    train, test = sklearn.model_selection.train_test_split(data, test_size=0.3,random_state=42)\n",
    "\n",
    "    train_x = train[FEATURES]\n",
    "    train_y = train[TARGET]\n",
    "\n",
    "    test_x = test[FEATURES]\n",
    "    test_y = test[TARGET]\n",
    "\n",
    "    param = {\n",
    "        'eval_metric': smape,\n",
    "        'tree_method':'gpu_hist',  # this parameter means using the GPU when training our model to speedup the training process\n",
    "        'lambda': trial.suggest_loguniform('lambda', 1e-3, 10.0),\n",
    "        'alpha': trial.suggest_loguniform('alpha', 1e-3, 10.0),\n",
    "        'colsample_bytree': trial.suggest_categorical('colsample_bytree', [0.3,0.4,0.5,0.6,0.7,0.8,0.9, 1.0]),\n",
    "        'subsample': trial.suggest_categorical('subsample', [0.4,0.5,0.6,0.7,0.8,1.0]),\n",
    "        'learning_rate': trial.suggest_categorical('learning_rate', [0.008,0.01,0.012,0.014,0.016,0.018, 0.02]),\n",
    "        'n_estimators': 10000,\n",
    "        'max_depth': trial.suggest_categorical('max_depth', [5,7,9,11,13,15,17]),\n",
    "        'random_state': trial.suggest_categorical('random_state', [2020]),\n",
    "        'min_child_weight': trial.suggest_int('min_child_weight', 1, 300),\n",
    "    }\n",
    "    model = xgb.XGBRegressor(**param)\n",
    "\n",
    "    model.fit(train_x,train_y,eval_set=[(test_x,test_y)],early_stopping_rounds=50,verbose=1000)\n",
    "\n",
    "    preds = model.predict(test_x)\n",
    "\n",
    "    loss = smape(test_y, preds)\n",
    "\n",
    "    return loss\n",
    "'''\n",
    "study = optuna.create_study(direction=\"minimize\")\n",
    "study.optimize(objective, n_trials=50)\n",
    "print('Number of finished trials:', len(study.trials))\n",
    "print('Best trial:', study.best_trial.params)\n",
    "'''"
   ],
   "metadata": {
    "collapsed": false
   }
  },
  {
   "cell_type": "code",
   "execution_count": 28,
   "outputs": [
    {
     "data": {
      "text/plain": "    number     value             datetime_start          datetime_complete  \\\n0        0  0.088959 2022-12-07 10:55:23.210909 2022-12-07 10:55:26.013063   \n1        1  0.058613 2022-12-07 10:55:26.015062 2022-12-07 10:55:55.036969   \n2        2  0.078957 2022-12-07 10:55:55.037969 2022-12-07 10:55:58.791749   \n3        3  0.070615 2022-12-07 10:55:58.793749 2022-12-07 10:56:04.699759   \n4        4  0.081403 2022-12-07 10:56:04.701758 2022-12-07 10:56:08.561759   \n5        5  0.069526 2022-12-07 10:56:08.563760 2022-12-07 10:56:15.584009   \n6        6  0.070584 2022-12-07 10:56:15.586009 2022-12-07 10:56:25.623018   \n7        7  0.070736 2022-12-07 10:56:25.625018 2022-12-07 10:56:43.938845   \n8        8  0.079056 2022-12-07 10:56:43.939845 2022-12-07 10:56:51.756275   \n9        9  0.102615 2022-12-07 10:56:51.758275 2022-12-07 10:56:54.924614   \n10      10  0.058593 2022-12-07 10:56:54.926613 2022-12-07 10:57:12.929646   \n11      11  0.061119 2022-12-07 10:57:12.931647 2022-12-07 10:57:26.148209   \n12      12  0.066669 2022-12-07 10:57:26.150210 2022-12-07 10:57:35.256766   \n13      13  0.059057 2022-12-07 10:57:35.258764 2022-12-07 10:58:38.116885   \n14      14  0.065098 2022-12-07 10:58:38.118886 2022-12-07 10:58:48.303917   \n15      15  0.075849 2022-12-07 10:58:48.305918 2022-12-07 10:58:54.523684   \n16      16  0.065526 2022-12-07 10:58:54.526684 2022-12-07 10:59:07.548594   \n17      17  0.082252 2022-12-07 10:59:07.550596 2022-12-07 10:59:10.596690   \n18      18  0.078368 2022-12-07 10:59:10.598688 2022-12-07 10:59:16.751468   \n19      19  0.099686 2022-12-07 10:59:16.752469 2022-12-07 10:59:22.272880   \n20      20  0.091599 2022-12-07 10:59:22.275876 2022-12-07 10:59:24.510877   \n21      21  0.059371 2022-12-07 10:59:24.512876 2022-12-07 11:00:24.573284   \n22      22  0.063280 2022-12-07 11:00:24.574285 2022-12-07 11:01:06.452844   \n23      23  0.060683 2022-12-07 11:01:06.453843 2022-12-07 11:02:02.646549   \n24      24  0.071141 2022-12-07 11:02:02.647549 2022-12-07 11:02:10.793300   \n25      25  0.064798 2022-12-07 11:02:10.795299 2022-12-07 11:02:28.892647   \n26      26  0.067939 2022-12-07 11:02:28.893647 2022-12-07 11:02:55.878800   \n27      27  0.066650 2022-12-07 11:02:55.880800 2022-12-07 11:03:04.171683   \n28      28  0.067456 2022-12-07 11:03:04.172683 2022-12-07 11:05:25.002723   \n29      29  0.091939 2022-12-07 11:05:25.003722 2022-12-07 11:05:28.008235   \n\n                 duration  params_alpha  params_colsample_bytree  \\\n0  0 days 00:00:02.802154      2.266206                      0.4   \n1  0 days 00:00:29.021907      0.001183                      1.0   \n2  0 days 00:00:03.753780      1.340391                      0.7   \n3  0 days 00:00:05.906010      0.453258                      0.8   \n4  0 days 00:00:03.860001      0.036556                      0.9   \n5  0 days 00:00:07.020249      0.524031                      0.9   \n6  0 days 00:00:10.037009      0.685650                      0.8   \n7  0 days 00:00:18.313827      0.006902                      0.7   \n8  0 days 00:00:07.816430      0.013011                      0.6   \n9  0 days 00:00:03.166339      0.002358                      0.3   \n10 0 days 00:00:18.003033      0.001717                      1.0   \n11 0 days 00:00:13.216562      0.001123                      1.0   \n12 0 days 00:00:09.106556      0.005128                      1.0   \n13 0 days 00:01:02.858121      0.063575                      0.5   \n14 0 days 00:00:10.185031      0.001189                      1.0   \n15 0 days 00:00:06.217766      6.811685                      1.0   \n16 0 days 00:00:13.021910      0.020206                      1.0   \n17 0 days 00:00:03.046094      0.201487                      0.6   \n18 0 days 00:00:06.152780      0.004024                      0.5   \n19 0 days 00:00:05.520411      0.002498                      0.3   \n20 0 days 00:00:02.235001      0.012677                      0.4   \n21 0 days 00:01:00.060408      0.070000                      0.5   \n22 0 days 00:00:41.878559      0.117900                      0.5   \n23 0 days 00:00:56.192706      0.001002                      0.5   \n24 0 days 00:00:08.145751      0.039292                      1.0   \n25 0 days 00:00:18.097348      0.002600                      1.0   \n26 0 days 00:00:26.985153      0.006982                      0.5   \n27 0 days 00:00:08.290883      0.178624                      1.0   \n28 0 days 00:02:20.830040      9.398296                      0.6   \n29 0 days 00:00:03.004513      3.139577                      0.4   \n\n    params_lambda  params_learning_rate  params_max_depth  \\\n0        0.056718                 0.020                11   \n1        0.001616                 0.010                13   \n2        0.029292                 0.014                 7   \n3        1.464189                 0.012                 9   \n4        1.383037                 0.010                 5   \n5        9.823132                 0.020                17   \n6        2.543200                 0.008                11   \n7        0.232635                 0.008                17   \n8        0.078302                 0.010                11   \n9        0.346258                 0.014                11   \n10       0.001126                 0.018                13   \n11       0.001156                 0.018                13   \n12       0.001137                 0.018                13   \n13       0.007330                 0.016                15   \n14       0.006169                 0.018                13   \n15       0.003054                 0.010                13   \n16       0.016005                 0.012                13   \n17       0.002504                 0.016                 7   \n18       0.012162                 0.010                 9   \n19       0.003509                 0.018                15   \n20       0.027926                 0.018                 5   \n21       0.006715                 0.016                15   \n22       0.001153                 0.016                15   \n23       0.002612                 0.016                15   \n24       0.006717                 0.016                13   \n25       0.002172                 0.010                13   \n26       0.011398                 0.012                15   \n27       0.005624                 0.020                13   \n28       0.001793                 0.008                 9   \n29       0.029588                 0.014                 7   \n\n    params_min_child_weight  params_random_state  params_subsample     state  \n0                       275                 2020               0.6  COMPLETE  \n1                         7                 2020               0.4  COMPLETE  \n2                       124                 2020               1.0  COMPLETE  \n3                        36                 2020               0.7  COMPLETE  \n4                       280                 2020               0.8  COMPLETE  \n5                       272                 2020               0.8  COMPLETE  \n6                       223                 2020               0.8  COMPLETE  \n7                       299                 2020               1.0  COMPLETE  \n8                       290                 2020               0.6  COMPLETE  \n9                       290                 2020               0.6  COMPLETE  \n10                        6                 2020               0.4  COMPLETE  \n11                       23                 2020               0.4  COMPLETE  \n12                       84                 2020               0.4  COMPLETE  \n13                        5                 2020               0.4  COMPLETE  \n14                       73                 2020               0.5  COMPLETE  \n15                      167                 2020               0.4  COMPLETE  \n16                       64                 2020               0.4  COMPLETE  \n17                      122                 2020               0.5  COMPLETE  \n18                       50                 2020               0.7  COMPLETE  \n19                        1                 2020               0.4  COMPLETE  \n20                       99                 2020               0.4  COMPLETE  \n21                        2                 2020               0.4  COMPLETE  \n22                       39                 2020               0.4  COMPLETE  \n23                       19                 2020               0.4  COMPLETE  \n24                      185                 2020               0.4  COMPLETE  \n25                       57                 2020               0.4  COMPLETE  \n26                       18                 2020               1.0  COMPLETE  \n27                      100                 2020               0.5  COMPLETE  \n28                       39                 2020               0.7  COMPLETE  \n29                      211                 2020               0.6  COMPLETE  ",
      "text/html": "<div>\n<style scoped>\n    .dataframe tbody tr th:only-of-type {\n        vertical-align: middle;\n    }\n\n    .dataframe tbody tr th {\n        vertical-align: top;\n    }\n\n    .dataframe thead th {\n        text-align: right;\n    }\n</style>\n<table border=\"1\" class=\"dataframe\">\n  <thead>\n    <tr style=\"text-align: right;\">\n      <th></th>\n      <th>number</th>\n      <th>value</th>\n      <th>datetime_start</th>\n      <th>datetime_complete</th>\n      <th>duration</th>\n      <th>params_alpha</th>\n      <th>params_colsample_bytree</th>\n      <th>params_lambda</th>\n      <th>params_learning_rate</th>\n      <th>params_max_depth</th>\n      <th>params_min_child_weight</th>\n      <th>params_random_state</th>\n      <th>params_subsample</th>\n      <th>state</th>\n    </tr>\n  </thead>\n  <tbody>\n    <tr>\n      <th>0</th>\n      <td>0</td>\n      <td>0.088959</td>\n      <td>2022-12-07 10:55:23.210909</td>\n      <td>2022-12-07 10:55:26.013063</td>\n      <td>0 days 00:00:02.802154</td>\n      <td>2.266206</td>\n      <td>0.4</td>\n      <td>0.056718</td>\n      <td>0.020</td>\n      <td>11</td>\n      <td>275</td>\n      <td>2020</td>\n      <td>0.6</td>\n      <td>COMPLETE</td>\n    </tr>\n    <tr>\n      <th>1</th>\n      <td>1</td>\n      <td>0.058613</td>\n      <td>2022-12-07 10:55:26.015062</td>\n      <td>2022-12-07 10:55:55.036969</td>\n      <td>0 days 00:00:29.021907</td>\n      <td>0.001183</td>\n      <td>1.0</td>\n      <td>0.001616</td>\n      <td>0.010</td>\n      <td>13</td>\n      <td>7</td>\n      <td>2020</td>\n      <td>0.4</td>\n      <td>COMPLETE</td>\n    </tr>\n    <tr>\n      <th>2</th>\n      <td>2</td>\n      <td>0.078957</td>\n      <td>2022-12-07 10:55:55.037969</td>\n      <td>2022-12-07 10:55:58.791749</td>\n      <td>0 days 00:00:03.753780</td>\n      <td>1.340391</td>\n      <td>0.7</td>\n      <td>0.029292</td>\n      <td>0.014</td>\n      <td>7</td>\n      <td>124</td>\n      <td>2020</td>\n      <td>1.0</td>\n      <td>COMPLETE</td>\n    </tr>\n    <tr>\n      <th>3</th>\n      <td>3</td>\n      <td>0.070615</td>\n      <td>2022-12-07 10:55:58.793749</td>\n      <td>2022-12-07 10:56:04.699759</td>\n      <td>0 days 00:00:05.906010</td>\n      <td>0.453258</td>\n      <td>0.8</td>\n      <td>1.464189</td>\n      <td>0.012</td>\n      <td>9</td>\n      <td>36</td>\n      <td>2020</td>\n      <td>0.7</td>\n      <td>COMPLETE</td>\n    </tr>\n    <tr>\n      <th>4</th>\n      <td>4</td>\n      <td>0.081403</td>\n      <td>2022-12-07 10:56:04.701758</td>\n      <td>2022-12-07 10:56:08.561759</td>\n      <td>0 days 00:00:03.860001</td>\n      <td>0.036556</td>\n      <td>0.9</td>\n      <td>1.383037</td>\n      <td>0.010</td>\n      <td>5</td>\n      <td>280</td>\n      <td>2020</td>\n      <td>0.8</td>\n      <td>COMPLETE</td>\n    </tr>\n    <tr>\n      <th>5</th>\n      <td>5</td>\n      <td>0.069526</td>\n      <td>2022-12-07 10:56:08.563760</td>\n      <td>2022-12-07 10:56:15.584009</td>\n      <td>0 days 00:00:07.020249</td>\n      <td>0.524031</td>\n      <td>0.9</td>\n      <td>9.823132</td>\n      <td>0.020</td>\n      <td>17</td>\n      <td>272</td>\n      <td>2020</td>\n      <td>0.8</td>\n      <td>COMPLETE</td>\n    </tr>\n    <tr>\n      <th>6</th>\n      <td>6</td>\n      <td>0.070584</td>\n      <td>2022-12-07 10:56:15.586009</td>\n      <td>2022-12-07 10:56:25.623018</td>\n      <td>0 days 00:00:10.037009</td>\n      <td>0.685650</td>\n      <td>0.8</td>\n      <td>2.543200</td>\n      <td>0.008</td>\n      <td>11</td>\n      <td>223</td>\n      <td>2020</td>\n      <td>0.8</td>\n      <td>COMPLETE</td>\n    </tr>\n    <tr>\n      <th>7</th>\n      <td>7</td>\n      <td>0.070736</td>\n      <td>2022-12-07 10:56:25.625018</td>\n      <td>2022-12-07 10:56:43.938845</td>\n      <td>0 days 00:00:18.313827</td>\n      <td>0.006902</td>\n      <td>0.7</td>\n      <td>0.232635</td>\n      <td>0.008</td>\n      <td>17</td>\n      <td>299</td>\n      <td>2020</td>\n      <td>1.0</td>\n      <td>COMPLETE</td>\n    </tr>\n    <tr>\n      <th>8</th>\n      <td>8</td>\n      <td>0.079056</td>\n      <td>2022-12-07 10:56:43.939845</td>\n      <td>2022-12-07 10:56:51.756275</td>\n      <td>0 days 00:00:07.816430</td>\n      <td>0.013011</td>\n      <td>0.6</td>\n      <td>0.078302</td>\n      <td>0.010</td>\n      <td>11</td>\n      <td>290</td>\n      <td>2020</td>\n      <td>0.6</td>\n      <td>COMPLETE</td>\n    </tr>\n    <tr>\n      <th>9</th>\n      <td>9</td>\n      <td>0.102615</td>\n      <td>2022-12-07 10:56:51.758275</td>\n      <td>2022-12-07 10:56:54.924614</td>\n      <td>0 days 00:00:03.166339</td>\n      <td>0.002358</td>\n      <td>0.3</td>\n      <td>0.346258</td>\n      <td>0.014</td>\n      <td>11</td>\n      <td>290</td>\n      <td>2020</td>\n      <td>0.6</td>\n      <td>COMPLETE</td>\n    </tr>\n    <tr>\n      <th>10</th>\n      <td>10</td>\n      <td>0.058593</td>\n      <td>2022-12-07 10:56:54.926613</td>\n      <td>2022-12-07 10:57:12.929646</td>\n      <td>0 days 00:00:18.003033</td>\n      <td>0.001717</td>\n      <td>1.0</td>\n      <td>0.001126</td>\n      <td>0.018</td>\n      <td>13</td>\n      <td>6</td>\n      <td>2020</td>\n      <td>0.4</td>\n      <td>COMPLETE</td>\n    </tr>\n    <tr>\n      <th>11</th>\n      <td>11</td>\n      <td>0.061119</td>\n      <td>2022-12-07 10:57:12.931647</td>\n      <td>2022-12-07 10:57:26.148209</td>\n      <td>0 days 00:00:13.216562</td>\n      <td>0.001123</td>\n      <td>1.0</td>\n      <td>0.001156</td>\n      <td>0.018</td>\n      <td>13</td>\n      <td>23</td>\n      <td>2020</td>\n      <td>0.4</td>\n      <td>COMPLETE</td>\n    </tr>\n    <tr>\n      <th>12</th>\n      <td>12</td>\n      <td>0.066669</td>\n      <td>2022-12-07 10:57:26.150210</td>\n      <td>2022-12-07 10:57:35.256766</td>\n      <td>0 days 00:00:09.106556</td>\n      <td>0.005128</td>\n      <td>1.0</td>\n      <td>0.001137</td>\n      <td>0.018</td>\n      <td>13</td>\n      <td>84</td>\n      <td>2020</td>\n      <td>0.4</td>\n      <td>COMPLETE</td>\n    </tr>\n    <tr>\n      <th>13</th>\n      <td>13</td>\n      <td>0.059057</td>\n      <td>2022-12-07 10:57:35.258764</td>\n      <td>2022-12-07 10:58:38.116885</td>\n      <td>0 days 00:01:02.858121</td>\n      <td>0.063575</td>\n      <td>0.5</td>\n      <td>0.007330</td>\n      <td>0.016</td>\n      <td>15</td>\n      <td>5</td>\n      <td>2020</td>\n      <td>0.4</td>\n      <td>COMPLETE</td>\n    </tr>\n    <tr>\n      <th>14</th>\n      <td>14</td>\n      <td>0.065098</td>\n      <td>2022-12-07 10:58:38.118886</td>\n      <td>2022-12-07 10:58:48.303917</td>\n      <td>0 days 00:00:10.185031</td>\n      <td>0.001189</td>\n      <td>1.0</td>\n      <td>0.006169</td>\n      <td>0.018</td>\n      <td>13</td>\n      <td>73</td>\n      <td>2020</td>\n      <td>0.5</td>\n      <td>COMPLETE</td>\n    </tr>\n    <tr>\n      <th>15</th>\n      <td>15</td>\n      <td>0.075849</td>\n      <td>2022-12-07 10:58:48.305918</td>\n      <td>2022-12-07 10:58:54.523684</td>\n      <td>0 days 00:00:06.217766</td>\n      <td>6.811685</td>\n      <td>1.0</td>\n      <td>0.003054</td>\n      <td>0.010</td>\n      <td>13</td>\n      <td>167</td>\n      <td>2020</td>\n      <td>0.4</td>\n      <td>COMPLETE</td>\n    </tr>\n    <tr>\n      <th>16</th>\n      <td>16</td>\n      <td>0.065526</td>\n      <td>2022-12-07 10:58:54.526684</td>\n      <td>2022-12-07 10:59:07.548594</td>\n      <td>0 days 00:00:13.021910</td>\n      <td>0.020206</td>\n      <td>1.0</td>\n      <td>0.016005</td>\n      <td>0.012</td>\n      <td>13</td>\n      <td>64</td>\n      <td>2020</td>\n      <td>0.4</td>\n      <td>COMPLETE</td>\n    </tr>\n    <tr>\n      <th>17</th>\n      <td>17</td>\n      <td>0.082252</td>\n      <td>2022-12-07 10:59:07.550596</td>\n      <td>2022-12-07 10:59:10.596690</td>\n      <td>0 days 00:00:03.046094</td>\n      <td>0.201487</td>\n      <td>0.6</td>\n      <td>0.002504</td>\n      <td>0.016</td>\n      <td>7</td>\n      <td>122</td>\n      <td>2020</td>\n      <td>0.5</td>\n      <td>COMPLETE</td>\n    </tr>\n    <tr>\n      <th>18</th>\n      <td>18</td>\n      <td>0.078368</td>\n      <td>2022-12-07 10:59:10.598688</td>\n      <td>2022-12-07 10:59:16.751468</td>\n      <td>0 days 00:00:06.152780</td>\n      <td>0.004024</td>\n      <td>0.5</td>\n      <td>0.012162</td>\n      <td>0.010</td>\n      <td>9</td>\n      <td>50</td>\n      <td>2020</td>\n      <td>0.7</td>\n      <td>COMPLETE</td>\n    </tr>\n    <tr>\n      <th>19</th>\n      <td>19</td>\n      <td>0.099686</td>\n      <td>2022-12-07 10:59:16.752469</td>\n      <td>2022-12-07 10:59:22.272880</td>\n      <td>0 days 00:00:05.520411</td>\n      <td>0.002498</td>\n      <td>0.3</td>\n      <td>0.003509</td>\n      <td>0.018</td>\n      <td>15</td>\n      <td>1</td>\n      <td>2020</td>\n      <td>0.4</td>\n      <td>COMPLETE</td>\n    </tr>\n    <tr>\n      <th>20</th>\n      <td>20</td>\n      <td>0.091599</td>\n      <td>2022-12-07 10:59:22.275876</td>\n      <td>2022-12-07 10:59:24.510877</td>\n      <td>0 days 00:00:02.235001</td>\n      <td>0.012677</td>\n      <td>0.4</td>\n      <td>0.027926</td>\n      <td>0.018</td>\n      <td>5</td>\n      <td>99</td>\n      <td>2020</td>\n      <td>0.4</td>\n      <td>COMPLETE</td>\n    </tr>\n    <tr>\n      <th>21</th>\n      <td>21</td>\n      <td>0.059371</td>\n      <td>2022-12-07 10:59:24.512876</td>\n      <td>2022-12-07 11:00:24.573284</td>\n      <td>0 days 00:01:00.060408</td>\n      <td>0.070000</td>\n      <td>0.5</td>\n      <td>0.006715</td>\n      <td>0.016</td>\n      <td>15</td>\n      <td>2</td>\n      <td>2020</td>\n      <td>0.4</td>\n      <td>COMPLETE</td>\n    </tr>\n    <tr>\n      <th>22</th>\n      <td>22</td>\n      <td>0.063280</td>\n      <td>2022-12-07 11:00:24.574285</td>\n      <td>2022-12-07 11:01:06.452844</td>\n      <td>0 days 00:00:41.878559</td>\n      <td>0.117900</td>\n      <td>0.5</td>\n      <td>0.001153</td>\n      <td>0.016</td>\n      <td>15</td>\n      <td>39</td>\n      <td>2020</td>\n      <td>0.4</td>\n      <td>COMPLETE</td>\n    </tr>\n    <tr>\n      <th>23</th>\n      <td>23</td>\n      <td>0.060683</td>\n      <td>2022-12-07 11:01:06.453843</td>\n      <td>2022-12-07 11:02:02.646549</td>\n      <td>0 days 00:00:56.192706</td>\n      <td>0.001002</td>\n      <td>0.5</td>\n      <td>0.002612</td>\n      <td>0.016</td>\n      <td>15</td>\n      <td>19</td>\n      <td>2020</td>\n      <td>0.4</td>\n      <td>COMPLETE</td>\n    </tr>\n    <tr>\n      <th>24</th>\n      <td>24</td>\n      <td>0.071141</td>\n      <td>2022-12-07 11:02:02.647549</td>\n      <td>2022-12-07 11:02:10.793300</td>\n      <td>0 days 00:00:08.145751</td>\n      <td>0.039292</td>\n      <td>1.0</td>\n      <td>0.006717</td>\n      <td>0.016</td>\n      <td>13</td>\n      <td>185</td>\n      <td>2020</td>\n      <td>0.4</td>\n      <td>COMPLETE</td>\n    </tr>\n    <tr>\n      <th>25</th>\n      <td>25</td>\n      <td>0.064798</td>\n      <td>2022-12-07 11:02:10.795299</td>\n      <td>2022-12-07 11:02:28.892647</td>\n      <td>0 days 00:00:18.097348</td>\n      <td>0.002600</td>\n      <td>1.0</td>\n      <td>0.002172</td>\n      <td>0.010</td>\n      <td>13</td>\n      <td>57</td>\n      <td>2020</td>\n      <td>0.4</td>\n      <td>COMPLETE</td>\n    </tr>\n    <tr>\n      <th>26</th>\n      <td>26</td>\n      <td>0.067939</td>\n      <td>2022-12-07 11:02:28.893647</td>\n      <td>2022-12-07 11:02:55.878800</td>\n      <td>0 days 00:00:26.985153</td>\n      <td>0.006982</td>\n      <td>0.5</td>\n      <td>0.011398</td>\n      <td>0.012</td>\n      <td>15</td>\n      <td>18</td>\n      <td>2020</td>\n      <td>1.0</td>\n      <td>COMPLETE</td>\n    </tr>\n    <tr>\n      <th>27</th>\n      <td>27</td>\n      <td>0.066650</td>\n      <td>2022-12-07 11:02:55.880800</td>\n      <td>2022-12-07 11:03:04.171683</td>\n      <td>0 days 00:00:08.290883</td>\n      <td>0.178624</td>\n      <td>1.0</td>\n      <td>0.005624</td>\n      <td>0.020</td>\n      <td>13</td>\n      <td>100</td>\n      <td>2020</td>\n      <td>0.5</td>\n      <td>COMPLETE</td>\n    </tr>\n    <tr>\n      <th>28</th>\n      <td>28</td>\n      <td>0.067456</td>\n      <td>2022-12-07 11:03:04.172683</td>\n      <td>2022-12-07 11:05:25.002723</td>\n      <td>0 days 00:02:20.830040</td>\n      <td>9.398296</td>\n      <td>0.6</td>\n      <td>0.001793</td>\n      <td>0.008</td>\n      <td>9</td>\n      <td>39</td>\n      <td>2020</td>\n      <td>0.7</td>\n      <td>COMPLETE</td>\n    </tr>\n    <tr>\n      <th>29</th>\n      <td>29</td>\n      <td>0.091939</td>\n      <td>2022-12-07 11:05:25.003722</td>\n      <td>2022-12-07 11:05:28.008235</td>\n      <td>0 days 00:00:03.004513</td>\n      <td>3.139577</td>\n      <td>0.4</td>\n      <td>0.029588</td>\n      <td>0.014</td>\n      <td>7</td>\n      <td>211</td>\n      <td>2020</td>\n      <td>0.6</td>\n      <td>COMPLETE</td>\n    </tr>\n  </tbody>\n</table>\n</div>"
     },
     "execution_count": 28,
     "metadata": {},
     "output_type": "execute_result"
    }
   ],
   "source": [
    "study.trials_dataframe()"
   ],
   "metadata": {
    "collapsed": false
   }
  },
  {
   "cell_type": "code",
   "execution_count": 39,
   "outputs": [
    {
     "data": {
      "text/plain": "{'lambda': 0.0011256534045695,\n 'alpha': 0.0017171511650539144,\n 'colsample_bytree': 1.0,\n 'subsample': 0.4,\n 'learning_rate': 0.018,\n 'max_depth': 13,\n 'random_state': 2020,\n 'min_child_weight': 6,\n 'n_estimators': 10000,\n 'tree_method': 'gpu_hist'}"
     },
     "execution_count": 39,
     "metadata": {},
     "output_type": "execute_result"
    }
   ],
   "source": [
    "Best_trial = study.best_trial.params\n",
    "Best_trial[\"n_estimators\"], Best_trial[\"tree_method\"] = 10000, 'gpu_hist'\n",
    "Best_trial"
   ],
   "metadata": {
    "collapsed": false
   }
  },
  {
   "cell_type": "code",
   "execution_count": null,
   "outputs": [],
   "source": [
    "Best_trial = study.best_trial.params\n",
    "Best_trial[\"n_estimators\"], Best_trial[\"tree_method\"] = 10000, 'gpu_hist'\n",
    "Best_trial"
   ],
   "metadata": {
    "collapsed": false
   }
  },
  {
   "cell_type": "markdown",
   "source": [
    "# Light GBM"
   ],
   "metadata": {
    "collapsed": false
   }
  },
  {
   "cell_type": "code",
   "execution_count": 173,
   "outputs": [
    {
     "name": "stdout",
     "output_type": "stream",
     "text": [
      "711609\n"
     ]
    },
    {
     "name": "stderr",
     "output_type": "stream",
     "text": [
      "C:\\Users\\Tobias\\anaconda3\\envs\\prediction\\lib\\site-packages\\lightgbm\\sklearn.py:726: UserWarning: 'early_stopping_rounds' argument is deprecated and will be removed in a future release of LightGBM. Pass 'early_stopping()' callback via 'callbacks' argument instead.\n",
      "  _log_warning(\"'early_stopping_rounds' argument is deprecated and will be removed in a future release of LightGBM. \"\n",
      "C:\\Users\\Tobias\\anaconda3\\envs\\prediction\\lib\\site-packages\\lightgbm\\sklearn.py:736: UserWarning: 'verbose' argument is deprecated and will be removed in a future release of LightGBM. Pass 'log_evaluation()' callback via 'callbacks' argument instead.\n",
      "  _log_warning(\"'verbose' argument is deprecated and will be removed in a future release of LightGBM. \"\n"
     ]
    },
    {
     "name": "stdout",
     "output_type": "stream",
     "text": [
      "[500]\tvalid_0's smape: 0.039501\n",
      "[1000]\tvalid_0's smape: 0.0393404\n",
      "CPU times: total: 5min 55s\n",
      "Wall time: 1min 1s\n"
     ]
    }
   ],
   "source": [
    "%%time\n",
    "\n",
    "param = {'reg_alpha': 0.010714668731023664,\n",
    "         'reg_lambda': 0.6372414076289301,\n",
    "         'colsample_bytree': 0.6,\n",
    "         'subsample': 0.7,\n",
    "         'learning_rate': 0.017,\n",
    "         'max_depth': 10,\n",
    "         'num_leaves': 658,\n",
    "         'min_child_samples': 11,\n",
    "         'min_data_per_groups': 39,}\n",
    "\n",
    "lgbm_model = lightgbm.LGBMRegressor(n_estimators=5000, **param, first_metric_only=True, metric=\"smape\")\n",
    "\n",
    "def smape2(target, forecast):\n",
    "    return \"smape\", smape(np.array(target), np.array(forecast)), False\n",
    "\n",
    "def train_lgbm(categories, model):\n",
    "    df_all = pd.concat([pd.read_csv(f\"data_{category}_small.csv\") for category in categories])\n",
    "    print(len(df_all))\n",
    "    train_data, test_data = sklearn.model_selection.train_test_split(df_all, test_size=0.3, random_state=69)\n",
    "\n",
    "    X_train = train_data[FEATURES]\n",
    "    y_train = train_data[TARGET]\n",
    "    X_test = test_data[FEATURES]\n",
    "    y_test = test_data[TARGET]\n",
    "\n",
    "    model.fit(X_train, y_train, eval_metric=smape2, eval_set=[(X_test, y_test)],verbose=500 ,early_stopping_rounds=50)\n",
    "train_lgbm([\"Games\", \"Music\", \"Movies\", \"Literary\"], lgbm_model)"
   ],
   "metadata": {
    "collapsed": false
   }
  },
  {
   "cell_type": "code",
   "execution_count": 154,
   "outputs": [],
   "source": [
    "def eval_lgbm(model):\n",
    "    smapes = []\n",
    "    for category in CATEGORIES:\n",
    "        for file in get_fileNames(category, DATA_PATH):\n",
    "            predictions = []\n",
    "            old, df = make_data(category, file, 14)\n",
    "            indeces = df.index\n",
    "            df[\"t-1\"][1:] = None\n",
    "            df[\"avg\"][1:] = None\n",
    "            avgs = [df[\"avg\"][indeces[0]]] * len(old)\n",
    "            for i in range(0, 13):\n",
    "                tmp = pd.DataFrame(df[FEATURES].loc[indeces[i]]).T\n",
    "                pred = model.predict(tmp)[0]\n",
    "                predictions.append(pred)\n",
    "                avgs.append(pred)\n",
    "                df.loc[indeces[i + 1], 'avg'] = (sum(avgs) / len(avgs))\n",
    "                for j in range(1, 8):\n",
    "                    if i + j < len(indeces):\n",
    "                        df.loc[indeces[i + j], f't-{j}'] = pred\n",
    "            tmp = pd.DataFrame(df[FEATURES].loc[indeces[13]]).T\n",
    "            pred = model.predict(tmp)[0]\n",
    "            predictions.append(pred)\n",
    "            df[\"predictions\"] = predictions\n",
    "            smapes.append(smape(df[\"views\"], df[\"predictions\"]))\n",
    "    return smapes\n",
    "\n",
    "#smapes = eval_lgbm(lgbm_model)"
   ],
   "metadata": {
    "collapsed": false
   }
  },
  {
   "cell_type": "code",
   "execution_count": 57,
   "outputs": [
    {
     "data": {
      "text/plain": "<lightgbm.basic.Booster at 0x24697845f30>"
     },
     "execution_count": 57,
     "metadata": {},
     "output_type": "execute_result"
    }
   ],
   "source": [
    "lgbm_model.booster_.save_model(\"lgbm_small\")"
   ],
   "metadata": {
    "collapsed": false
   }
  },
  {
   "cell_type": "code",
   "execution_count": null,
   "outputs": [
    {
     "name": "stderr",
     "output_type": "stream",
     "text": [
      "\u001B[32m[I 2022-12-13 15:57:40,360]\u001B[0m A new study created in memory with name: no-name-ef6b6112-6d68-4e72-a5a3-a492fc564379\u001B[0m\n",
      "C:\\Users\\Tobias\\AppData\\Local\\Temp\\ipykernel_12404\\2576468012.py:24: FutureWarning: suggest_loguniform has been deprecated in v3.0.0. This feature will be removed in v6.0.0. See https://github.com/optuna/optuna/releases/tag/v3.0.0. Use :func:`~optuna.trial.Trial.suggest_float` instead.\n",
      "  'reg_alpha': trial.suggest_loguniform('reg_alpha', 1e-3, 10.0),\n",
      "C:\\Users\\Tobias\\AppData\\Local\\Temp\\ipykernel_12404\\2576468012.py:25: FutureWarning: suggest_loguniform has been deprecated in v3.0.0. This feature will be removed in v6.0.0. See https://github.com/optuna/optuna/releases/tag/v3.0.0. Use :func:`~optuna.trial.Trial.suggest_float` instead.\n",
      "  'reg_lambda': trial.suggest_loguniform('reg_lambda', 1e-3, 10.0),\n",
      "C:\\Users\\Tobias\\anaconda3\\envs\\prediction\\lib\\site-packages\\lightgbm\\sklearn.py:726: UserWarning: 'early_stopping_rounds' argument is deprecated and will be removed in a future release of LightGBM. Pass 'early_stopping()' callback via 'callbacks' argument instead.\n",
      "  _log_warning(\"'early_stopping_rounds' argument is deprecated and will be removed in a future release of LightGBM. \"\n",
      "C:\\Users\\Tobias\\anaconda3\\envs\\prediction\\lib\\site-packages\\lightgbm\\sklearn.py:736: UserWarning: 'verbose' argument is deprecated and will be removed in a future release of LightGBM. Pass 'log_evaluation()' callback via 'callbacks' argument instead.\n",
      "  _log_warning(\"'verbose' argument is deprecated and will be removed in a future release of LightGBM. \"\n"
     ]
    },
    {
     "name": "stdout",
     "output_type": "stream",
     "text": [
      "[1000]\tvalid_0's mape: 0.074267\n",
      "[2000]\tvalid_0's mape: 0.0732938\n",
      "[3000]\tvalid_0's mape: 0.0726309\n",
      "[4000]\tvalid_0's mape: 0.0721966\n",
      "[5000]\tvalid_0's mape: 0.0719433\n",
      "[6000]\tvalid_0's mape: 0.0717352\n"
     ]
    },
    {
     "name": "stderr",
     "output_type": "stream",
     "text": [
      "\u001B[32m[I 2022-12-13 16:03:56,653]\u001B[0m Trial 0 finished with value: 0.0720804641477676 and parameters: {'reg_alpha': 0.3687170089171205, 'reg_lambda': 2.075682721579509, 'colsample_bytree': 1.0, 'subsample': 0.4, 'learning_rate': 0.006, 'max_depth': 100, 'num_leaves': 193, 'min_child_samples': 208, 'min_data_per_groups': 75}. Best is trial 0 with value: 0.0720804641477676.\u001B[0m\n",
      "C:\\Users\\Tobias\\AppData\\Local\\Temp\\ipykernel_12404\\2576468012.py:24: FutureWarning: suggest_loguniform has been deprecated in v3.0.0. This feature will be removed in v6.0.0. See https://github.com/optuna/optuna/releases/tag/v3.0.0. Use :func:`~optuna.trial.Trial.suggest_float` instead.\n",
      "  'reg_alpha': trial.suggest_loguniform('reg_alpha', 1e-3, 10.0),\n",
      "C:\\Users\\Tobias\\AppData\\Local\\Temp\\ipykernel_12404\\2576468012.py:25: FutureWarning: suggest_loguniform has been deprecated in v3.0.0. This feature will be removed in v6.0.0. See https://github.com/optuna/optuna/releases/tag/v3.0.0. Use :func:`~optuna.trial.Trial.suggest_float` instead.\n",
      "  'reg_lambda': trial.suggest_loguniform('reg_lambda', 1e-3, 10.0),\n",
      "C:\\Users\\Tobias\\anaconda3\\envs\\prediction\\lib\\site-packages\\lightgbm\\sklearn.py:726: UserWarning: 'early_stopping_rounds' argument is deprecated and will be removed in a future release of LightGBM. Pass 'early_stopping()' callback via 'callbacks' argument instead.\n",
      "  _log_warning(\"'early_stopping_rounds' argument is deprecated and will be removed in a future release of LightGBM. \"\n",
      "C:\\Users\\Tobias\\anaconda3\\envs\\prediction\\lib\\site-packages\\lightgbm\\sklearn.py:736: UserWarning: 'verbose' argument is deprecated and will be removed in a future release of LightGBM. Pass 'log_evaluation()' callback via 'callbacks' argument instead.\n",
      "  _log_warning(\"'verbose' argument is deprecated and will be removed in a future release of LightGBM. \"\n"
     ]
    },
    {
     "name": "stdout",
     "output_type": "stream",
     "text": [
      "[1000]\tvalid_0's mape: 0.0777921\n",
      "[2000]\tvalid_0's mape: 0.0760456\n",
      "[3000]\tvalid_0's mape: 0.0751832\n",
      "[4000]\tvalid_0's mape: 0.0744117\n",
      "[5000]\tvalid_0's mape: 0.0738917\n",
      "[6000]\tvalid_0's mape: 0.0734502\n",
      "[7000]\tvalid_0's mape: 0.0731962\n",
      "[8000]\tvalid_0's mape: 0.0730236\n",
      "[9000]\tvalid_0's mape: 0.0727649\n",
      "[10000]\tvalid_0's mape: 0.0725985\n",
      "[11000]\tvalid_0's mape: 0.0724827\n",
      "[12000]\tvalid_0's mape: 0.0723366\n",
      "[13000]\tvalid_0's mape: 0.0722605\n",
      "[14000]\tvalid_0's mape: 0.0721459\n",
      "[15000]\tvalid_0's mape: 0.0720618\n",
      "[16000]\tvalid_0's mape: 0.0719857\n"
     ]
    }
   ],
   "source": [
    "import optuna\n",
    "\n",
    "category = [\"Music\", \"Games\", \"Literary\", \"Movies\"]\n",
    "data = []\n",
    "for i in category:\n",
    "    for file in get_fileNames(i):\n",
    "        df, df_new_data = make_data(i, file, 14)\n",
    "        data.append(df)\n",
    "data = pd.concat(data)\n",
    "\n",
    "def objective(trial,data=data):\n",
    "\n",
    "    train, test = sklearn.model_selection.train_test_split(data, test_size=0.3,random_state=42)\n",
    "\n",
    "    train_x = train[FEATURES]\n",
    "    train_y = train[TARGET]\n",
    "\n",
    "    test_x = test[FEATURES]\n",
    "    test_y = test[TARGET]\n",
    "\n",
    "    param = {\n",
    "        'metric': 'mape',\n",
    "        'n_estimators': 20000,\n",
    "        'reg_alpha': trial.suggest_loguniform('reg_alpha', 1e-3, 10.0),\n",
    "        'reg_lambda': trial.suggest_loguniform('reg_lambda', 1e-3, 10.0),\n",
    "        'colsample_bytree': trial.suggest_categorical('colsample_bytree', [0.3,0.4,0.5,0.6,0.7,0.8,0.9, 1.0]),\n",
    "        'subsample': trial.suggest_categorical('subsample', [0.4,0.5,0.6,0.7,0.8,1.0]),\n",
    "        'learning_rate': trial.suggest_categorical('learning_rate', [0.006,0.008,0.01,0.014,0.017,0.02]),\n",
    "        'max_depth': trial.suggest_categorical('max_depth', [10,20,100]),\n",
    "        'num_leaves' : trial.suggest_int('num_leaves', 1, 1000),\n",
    "        'min_child_samples': trial.suggest_int('min_child_samples', 1, 300),\n",
    "        'cat_smooth' : trial.suggest_int('min_data_per_groups', 1, 100)\n",
    "    }\n",
    "\n",
    "    model = lightgbm.LGBMRegressor(**param)\n",
    "\n",
    "    model.fit(train_x, train_y, eval_metric=\"mape\", eval_set=[(test_x, test_y)], early_stopping_rounds=50, verbose=1000)\n",
    "\n",
    "    preds = model.predict(test_x)\n",
    "\n",
    "    loss = smape(test_y, preds)\n",
    "\n",
    "    return loss\n",
    "\n",
    "study = optuna.create_study(direction=\"minimize\")\n",
    "study.optimize(objective, n_trials=10)\n",
    "print('Number of finished trials:', len(study.trials))\n",
    "print('Best trial:', study.best_trial.params)"
   ],
   "metadata": {
    "collapsed": false
   }
  },
  {
   "cell_type": "code",
   "execution_count": 82,
   "outputs": [
    {
     "data": {
      "text/plain": "{'reg_alpha': 0.0010013579670837519,\n 'reg_lambda': 0.7501789664095706,\n 'colsample_bytree': 0.8,\n 'subsample': 1.0,\n 'learning_rate': 0.008,\n 'max_depth': 20,\n 'num_leaves': 684,\n 'min_child_samples': 5,\n 'min_data_per_groups': 56}"
     },
     "execution_count": 82,
     "metadata": {},
     "output_type": "execute_result"
    }
   ],
   "source": [
    "study.best_trial.params"
   ],
   "metadata": {
    "collapsed": false
   }
  },
  {
   "cell_type": "markdown",
   "source": [
    "# XGBoost vs Light GBM"
   ],
   "metadata": {
    "collapsed": false
   }
  },
  {
   "cell_type": "code",
   "execution_count": 174,
   "outputs": [
    {
     "name": "stdout",
     "output_type": "stream",
     "text": [
      "CPU times: total: 15min 31s\n",
      "Wall time: 4min 24s\n"
     ]
    },
    {
     "data": {
      "text/plain": "<AxesSubplot: >"
     },
     "execution_count": 174,
     "metadata": {},
     "output_type": "execute_result"
    },
    {
     "data": {
      "text/plain": "<Figure size 1500x1000 with 1 Axes>",
      "image/png": "[encoded data removed]"
     },
     "metadata": {},
     "output_type": "display_data"
    }
   ],
   "source": [
    "%%time\n",
    "loss_xg = eval_xg(xgmodel)\n",
    "loss_lgbm = eval_lgbm(lgbm_model)\n",
    "\n",
    "df = pd.DataFrame({\n",
    "    \"Light GBM\": loss_lgbm,\n",
    "    \"XGBOOST\": loss_xg\n",
    "})\n",
    "\n",
    "sns.set(rc={'figure.figsize':(15,10)})\n",
    "sns.boxplot(data=df)"
   ],
   "metadata": {
    "collapsed": false
   }
  },
  {
   "cell_type": "code",
   "execution_count": 177,
   "outputs": [
    {
     "name": "stdout",
     "output_type": "stream",
     "text": [
      "Light GBM: 0.058569123700335755\n",
      "XGBoost: 0.06633451338351602\n"
     ]
    }
   ],
   "source": [
    "print(f\"Light GBM: {df['Light GBM'].mean()}\")\n",
    "print(f\"XGBoost: {df['XGBOOST'].mean()}\")"
   ],
   "metadata": {
    "collapsed": false
   }
  },
  {
   "cell_type": "code",
   "execution_count": 178,
   "outputs": [
    {
     "data": {
      "text/plain": "Text(0.5, 1.0, 'XGBoost')"
     },
     "execution_count": 178,
     "metadata": {},
     "output_type": "execute_result"
    },
    {
     "data": {
      "text/plain": "<Figure size 1500x1000 with 2 Axes>",
      "image/png": "[encoded data removed]"
     },
     "metadata": {},
     "output_type": "display_data"
    }
   ],
   "source": [
    "df_lgbm = pd.DataFrame(data=lgbm_model.feature_importances_,\n",
    "                  index=lgbm_model.feature_name_,\n",
    "                  columns=[\"importance\"])\n",
    "\n",
    "df_xg = pd.DataFrame(data=xgmodel.feature_importances_,\n",
    "                  index=xgmodel.feature_names_in_,\n",
    "                  columns=[\"importance\"])\n",
    "\n",
    "x = sum(df_lgbm[\"importance\"])\n",
    "df_lgbm /= x\n",
    "\n",
    "fig, axes = plt.subplots(1, 2)\n",
    "fig.suptitle(\"Importance of Features\")\n",
    "\n",
    "sns.barplot(ax=axes[0], x=df_lgbm[\"importance\"], y=df_lgbm.index)\n",
    "axes[0].set_title(\"Light GBM\")\n",
    "\n",
    "sns.barplot(ax=axes[1], x=df_xg[\"importance\"], y=df_xg.index)\n",
    "axes[1].set_title(\"XGBoost\")"
   ],
   "metadata": {
    "collapsed": false
   }
  },
  {
   "cell_type": "code",
   "execution_count": 23,
   "outputs": [
    {
     "name": "stdout",
     "output_type": "stream",
     "text": [
      "Music: 198\n",
      "Movies: 101\n",
      "Games: 175\n",
      "Literary: 176\n"
     ]
    }
   ],
   "source": [
    "print(f\"Music: {len(get_fileNames('Music', DATA_PATH))}\")\n",
    "print(f\"Movies: {len(get_fileNames('Movies', DATA_PATH))}\")\n",
    "print(f\"Games: {len(get_fileNames('Games', DATA_PATH))}\")\n",
    "print(f\"Literary: {len(get_fileNames('Literary', DATA_PATH))}\")"
   ],
   "metadata": {
    "collapsed": false
   }
  },
  {
   "cell_type": "code",
   "execution_count": 19,
   "outputs": [
    {
     "data": {
      "text/plain": "               views  dayofweek  month  quarter  dayofyear  year       avg\ntimestamp                                                                 \n2015-07-01  1.141852          2      7        3        182  2015  1.278017\n2015-07-02  1.134223          3      7        3        183  2015  1.278017\n2015-07-03  1.127786          4      7        3        184  2015  1.278017\n2015-07-04  1.057933          5      7        3        185  2015  1.278017\n2015-07-05  1.105614          6      7        3        186  2015  1.278017\n...              ...        ...    ...      ...        ...   ...       ...\n2022-11-27  1.184051          6     11        4        331  2022  1.278017\n2022-11-28  1.228871          0     11        4        332  2022  1.278017\n2022-11-29  1.231970          1     11        4        333  2022  1.278017\n2022-11-30  1.240792          2     11        4        334  2022  1.278017\n2022-12-01  1.365717          3     12        4        335  2022  1.278017\n\n[2711 rows x 7 columns]",
      "text/html": "<div>\n<style scoped>\n    .dataframe tbody tr th:only-of-type {\n        vertical-align: middle;\n    }\n\n    .dataframe tbody tr th {\n        vertical-align: top;\n    }\n\n    .dataframe thead th {\n        text-align: right;\n    }\n</style>\n<table border=\"1\" class=\"dataframe\">\n  <thead>\n    <tr style=\"text-align: right;\">\n      <th></th>\n      <th>views</th>\n      <th>dayofweek</th>\n      <th>month</th>\n      <th>quarter</th>\n      <th>dayofyear</th>\n      <th>year</th>\n      <th>avg</th>\n    </tr>\n    <tr>\n      <th>timestamp</th>\n      <th></th>\n      <th></th>\n      <th></th>\n      <th></th>\n      <th></th>\n      <th></th>\n      <th></th>\n    </tr>\n  </thead>\n  <tbody>\n    <tr>\n      <th>2015-07-01</th>\n      <td>1.141852</td>\n      <td>2</td>\n      <td>7</td>\n      <td>3</td>\n      <td>182</td>\n      <td>2015</td>\n      <td>1.278017</td>\n    </tr>\n    <tr>\n      <th>2015-07-02</th>\n      <td>1.134223</td>\n      <td>3</td>\n      <td>7</td>\n      <td>3</td>\n      <td>183</td>\n      <td>2015</td>\n      <td>1.278017</td>\n    </tr>\n    <tr>\n      <th>2015-07-03</th>\n      <td>1.127786</td>\n      <td>4</td>\n      <td>7</td>\n      <td>3</td>\n      <td>184</td>\n      <td>2015</td>\n      <td>1.278017</td>\n    </tr>\n    <tr>\n      <th>2015-07-04</th>\n      <td>1.057933</td>\n      <td>5</td>\n      <td>7</td>\n      <td>3</td>\n      <td>185</td>\n      <td>2015</td>\n      <td>1.278017</td>\n    </tr>\n    <tr>\n      <th>2015-07-05</th>\n      <td>1.105614</td>\n      <td>6</td>\n      <td>7</td>\n      <td>3</td>\n      <td>186</td>\n      <td>2015</td>\n      <td>1.278017</td>\n    </tr>\n    <tr>\n      <th>...</th>\n      <td>...</td>\n      <td>...</td>\n      <td>...</td>\n      <td>...</td>\n      <td>...</td>\n      <td>...</td>\n      <td>...</td>\n    </tr>\n    <tr>\n      <th>2022-11-27</th>\n      <td>1.184051</td>\n      <td>6</td>\n      <td>11</td>\n      <td>4</td>\n      <td>331</td>\n      <td>2022</td>\n      <td>1.278017</td>\n    </tr>\n    <tr>\n      <th>2022-11-28</th>\n      <td>1.228871</td>\n      <td>0</td>\n      <td>11</td>\n      <td>4</td>\n      <td>332</td>\n      <td>2022</td>\n      <td>1.278017</td>\n    </tr>\n    <tr>\n      <th>2022-11-29</th>\n      <td>1.231970</td>\n      <td>1</td>\n      <td>11</td>\n      <td>4</td>\n      <td>333</td>\n      <td>2022</td>\n      <td>1.278017</td>\n    </tr>\n    <tr>\n      <th>2022-11-30</th>\n      <td>1.240792</td>\n      <td>2</td>\n      <td>11</td>\n      <td>4</td>\n      <td>334</td>\n      <td>2022</td>\n      <td>1.278017</td>\n    </tr>\n    <tr>\n      <th>2022-12-01</th>\n      <td>1.365717</td>\n      <td>3</td>\n      <td>12</td>\n      <td>4</td>\n      <td>335</td>\n      <td>2022</td>\n      <td>1.278017</td>\n    </tr>\n  </tbody>\n</table>\n<p>2711 rows × 7 columns</p>\n</div>"
     },
     "execution_count": 19,
     "metadata": {},
     "output_type": "execute_result"
    },
    {
     "data": {
      "text/plain": "<Figure size 1500x1000 with 1 Axes>",
      "image/png": "[encoded data removed]"
     },
     "metadata": {},
     "output_type": "display_data"
    }
   ],
   "source": [
    "dfs = []\n",
    "for category in [\"Music\", \"Games\", \"Movies\", \"Literary\"]:\n",
    "    for file in get_fileNames(category):\n",
    "        data, _ = make_data(category, file, 14)\n",
    "        dfs.append(data)\n",
    "df = pd.concat(dfs)\n",
    "\n",
    "sns.set(rc={'figure.figsize':(15,10)})\n",
    "sns.boxplot(data=df, x=\"dayofweek\", y=\"views\")\n",
    "df"
   ],
   "metadata": {
    "collapsed": false
   }
  }
 ],
 "metadata": {
  "kernelspec": {
   "display_name": "Python 3",
   "language": "python",
   "name": "python3"
  },
  "language_info": {
   "codemirror_mode": {
    "name": "ipython",
    "version": 2
   },
   "file_extension": ".py",
   "mimetype": "text/x-python",
   "name": "python",
   "nbconvert_exporter": "python",
   "pygments_lexer": "ipython2",
   "version": "2.7.6"
  }
 },
 "nbformat": 4,
 "nbformat_minor": 0
}
