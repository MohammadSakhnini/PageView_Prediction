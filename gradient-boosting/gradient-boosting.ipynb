{
 "cells": [
  {
   "cell_type": "code",
   "execution_count": 73,
   "metadata": {
    "collapsed": true
   },
   "outputs": [],
   "source": [
    "from sklearn.model_selection import train_test_split\n",
    "import os\n",
    "import numpy as np\n",
    "import pandas as pd\n",
    "import xgboost as xgb\n",
    "import lightgbm"
   ]
  },
  {
   "cell_type": "code",
   "execution_count": 7,
   "outputs": [],
   "source": [
    "df_article_codes = pd.read_csv(\"article_codes.csv\")\n",
    "CATEGORIES = [\"Games\", \"Movies\", \"Music\", \"Literary\"]\n",
    "FEATURES = [\"dayofweek\", \"month\", \"quarter\", \"dayofyear\", \"year\", \"avg\", \"t-1\", \"t-2\", \"t-3\", \"t-4\", \"t-5\", \"t-6\", \"t-7\", \"article\"]\n",
    "TARGET = \"views\""
   ],
   "metadata": {
    "collapsed": false
   }
  },
  {
   "cell_type": "markdown",
   "source": [
    "## Metric"
   ],
   "metadata": {
    "collapsed": false
   }
  },
  {
   "cell_type": "code",
   "execution_count": 49,
   "outputs": [],
   "source": [
    "def smape(target, forecast):\n",
    "    if type(target) == pd.core.frame.DataFrame:\n",
    "        target = target.values\n",
    "\n",
    "    denominator = np.abs(target) + np.abs(forecast)\n",
    "    flag = denominator == 0.\n",
    "\n",
    "    smape = 2 * np.mean(\n",
    "        (np.abs(target - forecast) * (1 - flag)) / (denominator + flag)\n",
    "    )\n",
    "    return smape\n",
    "\n",
    "def smape2(target, forecast):\n",
    "    return \"smape\", smape(np.array(target), np.array(forecast)), False"
   ],
   "metadata": {
    "collapsed": false
   }
  },
  {
   "cell_type": "markdown",
   "source": [
    "## Create Data"
   ],
   "metadata": {
    "collapsed": false
   }
  },
  {
   "cell_type": "code",
   "execution_count": 43,
   "outputs": [],
   "source": [
    "def get_fileNames(category):\n",
    "    file_names = []\n",
    "    for files in os.listdir(\"../Data/\" + category):\n",
    "        if files.endswith(\".csv\"):\n",
    "            files = files[0:len(files)-4]\n",
    "            file_names.append(files)\n",
    "    return file_names\n",
    "\n",
    "def make_data(category, article):\n",
    "    df = pd.read_csv(f\"../Data/{category}/{article}.csv\")\n",
    "    code = df_article_codes.loc[df_article_codes[\"article\"] == df[\"article\"][0].replace(\"_\", \" \")][\"code\"]\n",
    "    df = df.drop([\"project\", \"granularity\", \"access\", \"agent\", \"article\"], axis=1)\n",
    "    df[\"article\"] = list(code)[0]\n",
    "\n",
    "    df.index = df[\"timestamp\"]\n",
    "    df.index = pd.to_datetime(df.index)\n",
    "    df.drop(['timestamp'], axis=1, inplace=True)\n",
    "\n",
    "    df.dropna(inplace=True)\n",
    "\n",
    "    return df"
   ],
   "metadata": {
    "collapsed": false
   }
  },
  {
   "cell_type": "code",
   "execution_count": 10,
   "outputs": [],
   "source": [
    "def create_features(df):\n",
    "    if isinstance(df, tuple):\n",
    "        df = df[0]\n",
    "    df = df.copy()\n",
    "    df[\"dayofweek\"] = df.index.dayofweek\n",
    "    df[\"month\"] = df.index.month\n",
    "    df[\"quarter\"] = df.index.quarter\n",
    "    df[\"dayofyear\"] = df.index.dayofyear\n",
    "    df[\"year\"] = df.index.year\n",
    "    avg = []\n",
    "    for i in range(1, len(df[\"views\"]) + 1):\n",
    "        avg.append(df[\"views\"][0:i].mean())\n",
    "    df[\"avg\"] = avg\n",
    "    for i in range(1, 8):\n",
    "        df[f\"t-{i}\"] = df[\"views\"].shift(i).ffill()\n",
    "    return df"
   ],
   "metadata": {
    "collapsed": false
   }
  },
  {
   "cell_type": "code",
   "execution_count": 44,
   "outputs": [],
   "source": [
    "def pre_process(from_ts, to_ts):\n",
    "    evals = []\n",
    "    trains = []\n",
    "    tests = []\n",
    "    for file in get_fileNames(\"Music\"):\n",
    "        df = make_data(\"Music\", file)\n",
    "        df = df[(df.index >= from_ts) & (df.index <= to_ts)]\n",
    "\n",
    "        df = create_features(df)\n",
    "        evals.append(df.tail(14))\n",
    "        df = df.head(len(df) - 14)\n",
    "        train_tmp, test_tmp = train_test_split(df, test_size=0.2, shuffle=False)\n",
    "        trains.append(train_tmp)\n",
    "        tests.append(test_tmp)\n",
    "\n",
    "    train = pd.concat(trains)\n",
    "    test = pd.concat(tests)\n",
    "\n",
    "    train_X = train[FEATURES]\n",
    "    train_y = train[TARGET]\n",
    "\n",
    "    test_X = test[FEATURES]\n",
    "    test_y = test[TARGET]\n",
    "\n",
    "    return train_X, train_y, test_X, test_y, evals"
   ],
   "metadata": {
    "collapsed": false
   }
  },
  {
   "cell_type": "markdown",
   "source": [
    "## XGBoost"
   ],
   "metadata": {
    "collapsed": false
   }
  },
  {
   "cell_type": "code",
   "execution_count": 54,
   "outputs": [
    {
     "name": "stdout",
     "output_type": "stream",
     "text": [
      "CPU times: total: 0 ns\n",
      "Wall time: 0 ns\n"
     ]
    }
   ],
   "source": [
    "%%time\n",
    "\n",
    "def train_xg(train_X, train_y, test_X, test_y):\n",
    "    param = {\n",
    "        'early_stopping_rounds': 50,\n",
    "        'disable_default_eval_metric': True,\n",
    "        'eval_metric': smape,\n",
    "        'lambda': 8.039526726153133,\n",
    "        'alpha': 6.59915736568054,\n",
    "        'colsample_bytree': 0.9148495296506195,\n",
    "        'subsample': 0.9317347974695944,\n",
    "        'learning_rate': 0.0002977087190650842,\n",
    "        'max_depth': 21,\n",
    "        'min_child_weight': 37,\n",
    "        'n_estimators': 10000,\n",
    "        'tree_method': 'gpu_hist'\n",
    "    }\n",
    "\n",
    "    xgmodel = xgb.XGBRegressor(**param)\n",
    "    xgmodel.fit(train_X, train_y, eval_set=[(train_X, train_y), (test_X, test_y)], verbose=1000)\n",
    "    return xgmodel"
   ],
   "metadata": {
    "collapsed": false
   }
  },
  {
   "cell_type": "code",
   "execution_count": 67,
   "outputs": [],
   "source": [
    "def eval_xg(evals, xgmodel):\n",
    "    smapes = []\n",
    "    evals_copy = evals.copy()\n",
    "    for eval in evals_copy:\n",
    "        predictions = []\n",
    "        indeces = eval.index\n",
    "        for i in range(1, 8):\n",
    "            eval[f\"t-{i}\"][i:] = None\n",
    "        eval[\"avg\"][1:] = None\n",
    "        avgs = [eval[\"avg\"][indeces[0]]] * (len(eval) * 5)\n",
    "        for i in range(0, 13):\n",
    "            tmp = pd.DataFrame(eval[FEATURES].loc[indeces[i]]).T\n",
    "            pred = xgmodel.predict(tmp)[0]\n",
    "            predictions.append(pred)\n",
    "            avgs.append(pred)\n",
    "\n",
    "            eval.loc[indeces[i + 1], 'avg'] = (sum(avgs) / len(avgs))\n",
    "            for j in range(1, 8):\n",
    "                if i + j < len(indeces):\n",
    "                    eval.loc[indeces[i + j], f't-{j}'] = pred\n",
    "        tmp = pd.DataFrame(eval[FEATURES].loc[indeces[13]]).T\n",
    "        pred = xgmodel.predict(tmp)[0]\n",
    "        predictions.append(pred)\n",
    "        eval[\"predictions\"] = predictions\n",
    "\n",
    "        smapes.append(smape(eval[\"views\"], eval[\"predictions\"]))\n",
    "    return smapes"
   ],
   "metadata": {
    "collapsed": false
   }
  },
  {
   "cell_type": "markdown",
   "source": [
    "## Light GBM"
   ],
   "metadata": {
    "collapsed": false
   }
  },
  {
   "cell_type": "code",
   "execution_count": 56,
   "outputs": [
    {
     "name": "stdout",
     "output_type": "stream",
     "text": [
      "CPU times: total: 0 ns\n",
      "Wall time: 0 ns\n"
     ]
    }
   ],
   "source": [
    "%%time\n",
    "\n",
    "def train_lgbm(train_X, train_y, test_X, test_y):\n",
    "\n",
    "    param = {'reg_alpha': 6.961567092065252,\n",
    "             'reg_lambda': 8.722242210925048,\n",
    "             'colsample_bytree': 0.9143917935753674,\n",
    "             'subsample': 0.4211516816907636,\n",
    "             'learning_rate': 0.007254936193270214,\n",
    "             'max_depth': 193,\n",
    "             'num_leaves': 539,\n",
    "             'min_child_samples': 1,}\n",
    "\n",
    "    lgbm_model = lightgbm.LGBMRegressor(n_estimators=5000, **param, first_metric_only=True, metric=\"smape\")\n",
    "    lgbm_model.fit(train_X, train_y, eval_metric=smape2, eval_set=[(test_X, test_y)],verbose=1000 ,early_stopping_rounds=50)\n",
    "    return lgbm_model"
   ],
   "metadata": {
    "collapsed": false
   }
  },
  {
   "cell_type": "code",
   "execution_count": 51,
   "outputs": [],
   "source": [
    "def eval_lgbm(evals, model):\n",
    "    smapes = []\n",
    "    evals_copy = evals.copy()\n",
    "    for eval in evals_copy:\n",
    "        predictions = []\n",
    "        indeces = eval.index\n",
    "        eval[\"t-1\"][1:] = None\n",
    "        eval[\"avg\"][1:] = None\n",
    "        avgs = [eval[\"avg\"][indeces[0]]] * (len(eval) * 5)\n",
    "        for i in range(0, 13):\n",
    "            tmp = pd.DataFrame(eval[FEATURES].loc[indeces[i]]).T\n",
    "            pred = model.predict(tmp)[0]\n",
    "            predictions.append(pred)\n",
    "            avgs.append(pred)\n",
    "            eval.loc[indeces[i + 1], 'avg'] = (sum(avgs) / len(avgs))\n",
    "            for j in range(1, 8):\n",
    "                if i + j < len(indeces):\n",
    "                    eval.loc[indeces[i + j], f't-{j}'] = pred\n",
    "        tmp = pd.DataFrame(eval[FEATURES].loc[indeces[13]]).T\n",
    "        pred = model.predict(tmp)[0]\n",
    "        predictions.append(pred)\n",
    "        eval[\"predictions\"] = predictions\n",
    "        smapes.append(smape(eval[\"views\"], eval[\"predictions\"]))\n",
    "    return smapes"
   ],
   "metadata": {
    "collapsed": false
   }
  }
 ],
 "metadata": {
  "kernelspec": {
   "display_name": "Python 3",
   "language": "python",
   "name": "python3"
  },
  "language_info": {
   "codemirror_mode": {
    "name": "ipython",
    "version": 2
   },
   "file_extension": ".py",
   "mimetype": "text/x-python",
   "name": "python",
   "nbconvert_exporter": "python",
   "pygments_lexer": "ipython2",
   "version": "2.7.6"
  }
 },
 "nbformat": 4,
 "nbformat_minor": 0
}
